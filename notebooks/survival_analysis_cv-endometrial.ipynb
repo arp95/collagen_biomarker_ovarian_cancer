{
 "cells": [
  {
   "cell_type": "code",
   "execution_count": 1,
   "id": "711e0b25",
   "metadata": {},
   "outputs": [
    {
     "name": "stdout",
     "output_type": "stream",
     "text": [
      "Header files loaded!\n"
     ]
    },
    {
     "data": {
      "text/plain": [
       "<Figure size 720x720 with 0 Axes>"
      ]
     },
     "metadata": {},
     "output_type": "display_data"
    }
   ],
   "source": [
    "# header files\n",
    "import glob\n",
    "import csv\n",
    "import numpy as np\n",
    "import pandas as pd\n",
    "from sksurv.nonparametric import kaplan_meier_estimator\n",
    "from sksurv.linear_model import CoxnetSurvivalAnalysis\n",
    "from sksurv.ensemble import RandomSurvivalForest\n",
    "from sksurv.metrics import (\n",
    "    concordance_index_censored,\n",
    "    concordance_index_ipcw,\n",
    "    cumulative_dynamic_auc,\n",
    "    integrated_brier_score,\n",
    ")\n",
    "from sklearn.preprocessing import StandardScaler, MinMaxScaler, RobustScaler\n",
    "from sklearn.pipeline import make_pipeline\n",
    "from sklearn.model_selection import KFold\n",
    "from sklearn.model_selection import train_test_split\n",
    "import matplotlib.pyplot as plt\n",
    "from sklearn.feature_selection import SelectKBest\n",
    "from sklearn.feature_selection import chi2, f_regression, f_classif\n",
    "from datetime import datetime\n",
    "plt.figure(figsize=(10,10))\n",
    "print(\"Header files loaded!\")"
   ]
  },
  {
   "cell_type": "code",
   "execution_count": 2,
   "id": "8527b1c9",
   "metadata": {},
   "outputs": [],
   "source": [
    "# hyper-parameters\n",
    "is_ovarian_cancer = 1\n",
    "is_cervix_cancer = 0\n",
    "is_endometrial_cancer = 0"
   ]
  },
  {
   "cell_type": "code",
   "execution_count": 3,
   "id": "6f13ed4f",
   "metadata": {},
   "outputs": [
    {
     "name": "stdout",
     "output_type": "stream",
     "text": [
      "95\n"
     ]
    }
   ],
   "source": [
    "# load ovarian cancer files\n",
    "if is_ovarian_cancer:\n",
    "    oc_files = (glob.glob(\"../results/oc_collagen_features/window_1/*\"))\n",
    "    print(len(oc_files))"
   ]
  },
  {
   "cell_type": "code",
   "execution_count": 4,
   "id": "4b002baf",
   "metadata": {},
   "outputs": [],
   "source": [
    "# collect features\n",
    "if is_ovarian_cancer:\n",
    "    collagen_features = []\n",
    "    for file in oc_files:\n",
    "        filename = file.split(\"/\")[-1]\n",
    "        flag = -1\n",
    "        file_features = []\n",
    "        with open(file, newline='') as csvfile:\n",
    "            spamreader = csv.reader(csvfile)\n",
    "            for row in spamreader:\n",
    "                if flag == -1:\n",
    "                    array = row\n",
    "                    for index in range(0, len(array)-1):\n",
    "                        file_features.append(float(array[index]))\n",
    "                    \n",
    "        with open(\"../results/oc_collagen_features/window_2/\" + filename, newline='') as csvfile:\n",
    "            spamreader = csv.reader(csvfile)\n",
    "            for row in spamreader:\n",
    "                if flag == -1:\n",
    "                    array = row\n",
    "                    for index in range(0, len(array)-1):\n",
    "                        file_features.append(float(array[index]))\n",
    "                    \n",
    "        with open(\"../results/oc_collagen_features/window_3/\" + filename, newline='') as csvfile:\n",
    "            spamreader = csv.reader(csvfile)\n",
    "            for row in spamreader:\n",
    "                if flag == -1:\n",
    "                    array = row\n",
    "                    for index in range(0, len(array)-1):\n",
    "                        file_features.append(float(array[index]))\n",
    "                    \n",
    "        with open(\"../results/oc_collagen_features/window_4/\" + filename, newline='') as csvfile:\n",
    "            spamreader = csv.reader(csvfile)\n",
    "            for row in spamreader:\n",
    "                if flag == -1:\n",
    "                    array = row\n",
    "                    for index in range(0, len(array)-1):\n",
    "                        file_features.append(float(array[index]))\n",
    "                    \n",
    "        with open(\"../results/oc_collagen_features/window_5/\" + filename, newline='') as csvfile:\n",
    "            spamreader = csv.reader(csvfile)\n",
    "            for row in spamreader:\n",
    "                if flag == -1:\n",
    "                    array = row\n",
    "                    for index in range(0, len(array)-1):\n",
    "                        file_features.append(float(array[index]))\n",
    "                    \n",
    "        with open(\"../results/oc_collagen_features/window_6/\" + filename, newline='') as csvfile:\n",
    "            spamreader = csv.reader(csvfile)\n",
    "            for row in spamreader:\n",
    "                if flag == -1:\n",
    "                    array = row\n",
    "                    for index in range(0, len(array)-1):\n",
    "                        file_features.append(float(array[index]))\n",
    "                    \n",
    "        with open(\"../results/oc_collagen_features/window_7/\" + filename, newline='') as csvfile:\n",
    "            spamreader = csv.reader(csvfile)\n",
    "            for row in spamreader:\n",
    "                if flag == -1:\n",
    "                    array = row\n",
    "                    for index in range(0, len(array)-1):\n",
    "                        file_features.append(float(array[index]))\n",
    "                    \n",
    "        with open(\"../results/oc_collagen_features/window_8/\" + filename, newline='') as csvfile:\n",
    "            spamreader = csv.reader(csvfile)\n",
    "            for row in spamreader:\n",
    "                if flag == -1:\n",
    "                    array = row\n",
    "                    for index in range(0, len(array)-1):\n",
    "                        file_features.append(float(array[index]))\n",
    "                    \n",
    "        with open(\"../results/oc_collagen_features/window_9/\" + filename, newline='') as csvfile:\n",
    "            spamreader = csv.reader(csvfile)\n",
    "            for row in spamreader:\n",
    "                if flag == -1:\n",
    "                    array = row\n",
    "                    for index in range(0, len(array)-1):\n",
    "                        file_features.append(float(array[index]))\n",
    "        collagen_features.append(file_features)"
   ]
  },
  {
   "cell_type": "code",
   "execution_count": 5,
   "id": "7b76ee33",
   "metadata": {},
   "outputs": [
    {
     "name": "stdout",
     "output_type": "stream",
     "text": [
      "['patient_name', 'SF1', 'SF2', 'SF3', 'SF4', 'SF5', 'SF6', 'SF7', 'cont_risk_score', 'binary_risk_score', 'WSI_Width', 'WSI_Height', 'year_of_birth', 'race', 'year_of_death', 'vital_status', 'Organ', 'treatment_type', 'Age', 'TTE', 'censor', 'Site', 'stage', 'OS_days', 'Vital', 'stage_numeric']\n",
      "95\n",
      "95\n",
      "95\n",
      "95\n"
     ]
    }
   ],
   "source": [
    "# create output survival information for training model and get til features\n",
    "if is_ovarian_cancer:\n",
    "    til_features = []\n",
    "    censor = []\n",
    "    days = []\n",
    "    filenames = []\n",
    "    flag = -1\n",
    "    with open(\"../results/DATA_OC.csv\", newline='', encoding = \"ISO-8859-1\") as csvfile:\n",
    "        spamreader = csv.reader(csvfile)\n",
    "        for row in spamreader:\n",
    "            if flag == -1:\n",
    "                flag = 1\n",
    "                print(row)\n",
    "            else:\n",
    "                array = row\n",
    "                filenames.append(array[0])\n",
    "                f_features = [float(array[1]), float(array[2]), float(array[3]), float(array[4]), float(array[5]), float(array[6]), float(array[7])]\n",
    "                til_features.append(f_features)\n",
    "                censor.append(bool(int(array[20])))\n",
    "                days.append(int(array[23]))\n",
    "                \n",
    "    final_til_features = []\n",
    "    y = []\n",
    "    event = []\n",
    "    survival_time = []\n",
    "    for file in oc_files:\n",
    "        count = 0\n",
    "        filename1 = file.split(\"/\")[-1][:-4]\n",
    "        for filename in filenames:\n",
    "            filename2 = filename\n",
    "            if filename1 == filename2:\n",
    "                final_til_features.append(til_features[count])\n",
    "                y.append([censor[count], days[count]])\n",
    "                event.append(censor[count])\n",
    "                survival_time.append(days[count])\n",
    "            count += 1\n",
    "    print(len(final_til_features))\n",
    "    print(len(y))\n",
    "    print(len(event))\n",
    "    print(len(survival_time))"
   ]
  },
  {
   "cell_type": "code",
   "execution_count": 6,
   "id": "510ffae1",
   "metadata": {},
   "outputs": [
    {
     "name": "stdout",
     "output_type": "stream",
     "text": [
      "95\n",
      "27\n"
     ]
    }
   ],
   "source": [
    "# generate training set for training model\n",
    "features = []\n",
    "for index in range(0, len(oc_files)):\n",
    "    #features.append(final_til_features[index]+collagen_features[index])\n",
    "    features.append(collagen_features[index])\n",
    "    #features.append(final_til_features[index])\n",
    "print(len(features))\n",
    "print(len(features[0]))"
   ]
  },
  {
   "cell_type": "code",
   "execution_count": 7,
   "id": "8fb55c91",
   "metadata": {},
   "outputs": [],
   "source": [
    "# final training information to be used for training model\n",
    "features = np.array(features)\n",
    "y = np.array(y)\n",
    "event = np.array(event)\n",
    "survival_time = np.array(survival_time)"
   ]
  },
  {
   "cell_type": "code",
   "execution_count": 8,
   "id": "7d6950b6",
   "metadata": {},
   "outputs": [
    {
     "data": {
      "text/plain": [
       "CoxnetSurvivalAnalysis(alpha_min_ratio=0.1, l1_ratio=0.9)"
      ]
     },
     "execution_count": 8,
     "metadata": {},
     "output_type": "execute_result"
    }
   ],
   "source": [
    "# model to be used for external validation\n",
    "features_train = features\n",
    "y_train = y\n",
    "event_train, survival_time_train = event, survival_time\n",
    "dt = dtype=[('Status', '?'), ('Survival_in_days', '<f8')]\n",
    "y_train = np.array([tuple(row) for row in y_train], dtype=dt)\n",
    "        \n",
    "# feature selection\n",
    "scaler = MinMaxScaler()\n",
    "features_train = scaler.fit_transform(features_train)\n",
    "features_train_df = pd.DataFrame(features_train)\n",
    "        \n",
    "# fit model\n",
    "estimator = CoxnetSurvivalAnalysis(l1_ratio=0.9, alpha_min_ratio=0.1)\n",
    "estimator.fit(features_train_df, y_train)"
   ]
  },
  {
   "cell_type": "code",
   "execution_count": 9,
   "id": "54e50739",
   "metadata": {},
   "outputs": [
    {
     "name": "stdout",
     "output_type": "stream",
     "text": [
      "1\n",
      "11\n",
      "12\n",
      "16\n",
      "17\n",
      "19\n",
      "21\n",
      "23\n",
      "25\n",
      "\n",
      "Prognostic features count = 9\n"
     ]
    }
   ],
   "source": [
    "# find prognostic features from model trained above\n",
    "count = 0\n",
    "for index1 in range(0, len(estimator.coef_)):\n",
    "    flag = -1\n",
    "    for index2 in range(0, len(estimator.coef_[index1])):\n",
    "        if estimator.coef_[index1][index2] > 0:\n",
    "            flag = 1\n",
    "            print(index1)\n",
    "            break\n",
    "    if flag == 1:\n",
    "        count += 1\n",
    "print()\n",
    "print(\"Prognostic features count = \" + str(count))"
   ]
  },
  {
   "cell_type": "code",
   "execution_count": null,
   "id": "193a41c1",
   "metadata": {},
   "outputs": [],
   "source": []
  },
  {
   "cell_type": "code",
   "execution_count": null,
   "id": "7d5cc6e4",
   "metadata": {},
   "outputs": [],
   "source": []
  },
  {
   "cell_type": "code",
   "execution_count": 10,
   "id": "d3b1347e",
   "metadata": {},
   "outputs": [],
   "source": [
    "# hyper-parameters\n",
    "date_format = \"%m/%d/%Y\"\n",
    "is_ovarian_cancer = 1\n",
    "is_cervix_cancer = 0\n",
    "is_endometrial_cancer = 0\n",
    "\n",
    "def mean(a):\n",
    "    return sum(a) / len(a)"
   ]
  },
  {
   "cell_type": "code",
   "execution_count": 11,
   "id": "ac941f98",
   "metadata": {},
   "outputs": [
    {
     "name": "stdout",
     "output_type": "stream",
     "text": [
      "['Copath', 'Diagnosis date', 'Last follow up', 'Date recurred ', 'Date of death', 'BMI', 'BMI_binary [1=obese]', 'CTx', 'RTx [1=VB,2=EBRT,3=palliative]', 'Comorb_HTN', 'Comorb_DM', 'Comorb_Hyperlip ']\n",
      "15\n",
      "15\n",
      "15\n"
     ]
    }
   ],
   "source": [
    "test_censor_chemo = []\n",
    "test_days_chemo = []\n",
    "test_filenames_chemo = []\n",
    "flag = -1\n",
    "with open(\"../../../Desktop/uh_ec.csv\", newline='', encoding = \"ISO-8859-1\") as csvfile:\n",
    "    spamreader = csv.reader(csvfile)\n",
    "    for row in spamreader:\n",
    "        if flag == -1:\n",
    "            flag = 1\n",
    "            print(row)\n",
    "        else:\n",
    "            array = row\n",
    "            \n",
    "            if array[1] == \"\":\n",
    "                continue\n",
    "            \n",
    "            if (array[7] == \"1\" or array[7] == \"?\") and (array[8] == \"0\" or array[8] == \"\"):\n",
    "                test_filenames_chemo.append(array[0])\n",
    "                if array[4] == \"0\":\n",
    "                    test_censor_chemo.append(False)\n",
    "                \n",
    "                    first_date = datetime.strptime(str(array[1]), date_format)\n",
    "                    last_date = datetime.strptime(str(array[2]), date_format)\n",
    "                    delta = last_date - first_date\n",
    "                    test_days_chemo.append(delta.days)\n",
    "                else:\n",
    "                    test_censor_chemo.append(True)\n",
    "                \n",
    "                    first_date = datetime.strptime(str(array[1]), date_format)\n",
    "                    last_date = datetime.strptime(str(array[4]), date_format)\n",
    "                    delta = last_date - first_date\n",
    "                    test_days_chemo.append(delta.days)\n",
    "print(len(test_filenames_chemo))\n",
    "print(len(test_censor_chemo))\n",
    "print(len(test_days_chemo))"
   ]
  },
  {
   "cell_type": "code",
   "execution_count": 12,
   "id": "84de66c1",
   "metadata": {},
   "outputs": [
    {
     "name": "stdout",
     "output_type": "stream",
     "text": [
      "['Copath', 'Diagnosis date', 'Last follow up', 'Date recurred ', 'Date of death', 'BMI', 'BMI_binary [1=obese]', 'CTx', 'RTx [1=VB,2=EBRT,3=palliative]', 'Comorb_HTN', 'Comorb_DM', 'Comorb_Hyperlip ']\n",
      "16\n",
      "16\n",
      "16\n"
     ]
    }
   ],
   "source": [
    "test_censor_radio = []\n",
    "test_days_radio = []\n",
    "test_filenames_radio = []\n",
    "flag = -1\n",
    "with open(\"../../../Desktop/uh_ec.csv\", newline='', encoding = \"ISO-8859-1\") as csvfile:\n",
    "    spamreader = csv.reader(csvfile)\n",
    "    for row in spamreader:\n",
    "        if flag == -1:\n",
    "            flag = 1\n",
    "            print(row)\n",
    "        else:\n",
    "            array = row\n",
    "            \n",
    "            if array[1] == \"\":\n",
    "                continue\n",
    "            \n",
    "            if (array[7] == \"0\" or array[7] == \"\") and (array[8] != \"0\" and array[8] != \"\"):\n",
    "                test_filenames_radio.append(array[0])\n",
    "                if array[4] == \"0\":\n",
    "                    test_censor_radio.append(False)\n",
    "                \n",
    "                    first_date = datetime.strptime(str(array[1]), date_format)\n",
    "                    last_date = datetime.strptime(str(array[2]), date_format)\n",
    "                    delta = last_date - first_date\n",
    "                    test_days_radio.append(delta.days)\n",
    "                else:\n",
    "                    test_censor_radio.append(True)\n",
    "                \n",
    "                    first_date = datetime.strptime(str(array[1]), date_format)\n",
    "                    last_date = datetime.strptime(str(array[4]), date_format)\n",
    "                    delta = last_date - first_date\n",
    "                    test_days_radio.append(delta.days)\n",
    "print(len(test_filenames_radio))\n",
    "print(len(test_censor_radio))\n",
    "print(len(test_days_radio))"
   ]
  },
  {
   "cell_type": "code",
   "execution_count": 13,
   "id": "539da946",
   "metadata": {},
   "outputs": [
    {
     "name": "stdout",
     "output_type": "stream",
     "text": [
      "['Copath', 'Diagnosis date', 'Last follow up', 'Date recurred ', 'Date of death', 'BMI', 'BMI_binary [1=obese]', 'CTx', 'RTx [1=VB,2=EBRT,3=palliative]', 'Comorb_HTN', 'Comorb_DM', 'Comorb_Hyperlip ']\n",
      "38\n",
      "38\n",
      "38\n"
     ]
    }
   ],
   "source": [
    "test_censor_chemo_radio = []\n",
    "test_days_chemo_radio = []\n",
    "test_filenames_chemo_radio = []\n",
    "flag = -1\n",
    "with open(\"../../../Desktop/uh_ec.csv\", newline='', encoding = \"ISO-8859-1\") as csvfile:\n",
    "    spamreader = csv.reader(csvfile)\n",
    "    for row in spamreader:\n",
    "        if flag == -1:\n",
    "            flag = 1\n",
    "            print(row)\n",
    "        else:\n",
    "            array = row\n",
    "            \n",
    "            if array[1] == \"\":\n",
    "                continue\n",
    "            \n",
    "            if (array[7] != \"0\" and array[8] != \"0\") and (array[7] != \"\" and array[8] != \"\") and (array[7] != \"\" and array[8] != \"0\") and (array[7] != \"0\" and array[8] != \"\"):\n",
    "                test_filenames_chemo_radio.append(array[0])\n",
    "                if array[4] == \"0\":\n",
    "                    test_censor_chemo_radio.append(False)\n",
    "                \n",
    "                    first_date = datetime.strptime(str(array[1]), date_format)\n",
    "                    last_date = datetime.strptime(str(array[2]), date_format)\n",
    "                    delta = last_date - first_date\n",
    "                    test_days_chemo_radio.append(delta.days)\n",
    "                else:\n",
    "                    test_censor_chemo_radio.append(True)\n",
    "                \n",
    "                    first_date = datetime.strptime(str(array[1]), date_format)\n",
    "                    last_date = datetime.strptime(str(array[4]), date_format)\n",
    "                    delta = last_date - first_date\n",
    "                    test_days_chemo_radio.append(delta.days)\n",
    "print(len(test_filenames_chemo_radio))\n",
    "print(len(test_censor_chemo_radio))\n",
    "print(len(test_days_chemo_radio))"
   ]
  },
  {
   "cell_type": "code",
   "execution_count": 14,
   "id": "c5a99235",
   "metadata": {},
   "outputs": [
    {
     "name": "stdout",
     "output_type": "stream",
     "text": [
      "S11-9369\n",
      "2575\n",
      "False\n"
     ]
    }
   ],
   "source": [
    "print(test_filenames_chemo[10])\n",
    "print(test_days_chemo[10])\n",
    "print(test_censor_chemo[10])"
   ]
  },
  {
   "cell_type": "code",
   "execution_count": 15,
   "id": "5c62cd81",
   "metadata": {},
   "outputs": [
    {
     "name": "stdout",
     "output_type": "stream",
     "text": [
      "S11-14911\n",
      "2525\n",
      "False\n"
     ]
    }
   ],
   "source": [
    "print(test_filenames_radio[10])\n",
    "print(test_days_radio[10])\n",
    "print(test_censor_radio[10])"
   ]
  },
  {
   "cell_type": "code",
   "execution_count": 16,
   "id": "c435029c",
   "metadata": {},
   "outputs": [
    {
     "name": "stdout",
     "output_type": "stream",
     "text": [
      "S07-26423\n",
      "2107\n",
      "False\n"
     ]
    }
   ],
   "source": [
    "print(test_filenames_chemo_radio[10])\n",
    "print(test_days_chemo_radio[10])\n",
    "print(test_censor_chemo_radio[10])"
   ]
  },
  {
   "cell_type": "code",
   "execution_count": null,
   "id": "55a8058a",
   "metadata": {},
   "outputs": [],
   "source": []
  },
  {
   "cell_type": "code",
   "execution_count": 17,
   "id": "f7af607d",
   "metadata": {},
   "outputs": [
    {
     "name": "stdout",
     "output_type": "stream",
     "text": [
      "225\n"
     ]
    }
   ],
   "source": [
    "test_ec_files = (glob.glob(\"../../uh_endometrial_cancer/collagen_feature_maps_200_final/*\"))\n",
    "print(len(test_ec_files))"
   ]
  },
  {
   "cell_type": "code",
   "execution_count": 18,
   "id": "e5f7fb4f",
   "metadata": {},
   "outputs": [
    {
     "name": "stdout",
     "output_type": "stream",
     "text": [
      "27\n",
      "27\n",
      "27\n"
     ]
    }
   ],
   "source": [
    "test_final_filenames = []\n",
    "test_final_censor = []\n",
    "test_final_days = []\n",
    "index = 0\n",
    "for file in test_filenames_chemo_radio:\n",
    "    flag = -1\n",
    "    for file_1 in test_ec_files:\n",
    "        if file in file_1:\n",
    "            test_final_filenames.append(test_filenames_chemo_radio[index])\n",
    "            test_final_censor.append(test_censor_chemo_radio[index])\n",
    "            test_final_days.append(test_days_chemo_radio[index])\n",
    "            flag = 1\n",
    "            break\n",
    "    index += 1\n",
    "print(len(test_final_filenames))\n",
    "print(len(test_final_censor))\n",
    "print(len(test_final_days))"
   ]
  },
  {
   "cell_type": "code",
   "execution_count": 19,
   "id": "6504649a",
   "metadata": {},
   "outputs": [
    {
     "name": "stdout",
     "output_type": "stream",
     "text": [
      "27\n",
      "27\n"
     ]
    }
   ],
   "source": [
    "# collect features\n",
    "test_collagen_features = []\n",
    "for file in test_final_filenames:\n",
    "    file_features = []\n",
    "        \n",
    "    for file_1 in test_ec_files:\n",
    "        if file in file_1:\n",
    "            filename = file_1.split(\"/\")[-1]\n",
    "            flag = -1\n",
    "            slide_features = []\n",
    "            \n",
    "            with open(file_1, newline='') as csvfile:\n",
    "                spamreader = csv.reader(csvfile)\n",
    "                for row in spamreader:\n",
    "                    if flag == -1:\n",
    "                        array = row\n",
    "                        for index in range(0, len(array)-1):\n",
    "                            slide_features.append(float(array[index]))\n",
    "                    \n",
    "            with open(\"../../uh_endometrial_cancer/collagen_feature_maps_250_final/\" + filename, newline='') as csvfile:\n",
    "                spamreader = csv.reader(csvfile)\n",
    "                for row in spamreader:\n",
    "                    if flag == -1:\n",
    "                        array = row\n",
    "                        for index in range(0, len(array)-1):\n",
    "                            slide_features.append(float(array[index]))\n",
    "                    \n",
    "            with open(\"../../uh_endometrial_cancer/collagen_feature_maps_300_final/\" + filename, newline='') as csvfile:\n",
    "                spamreader = csv.reader(csvfile)\n",
    "                for row in spamreader:\n",
    "                    if flag == -1:\n",
    "                        array = row\n",
    "                        for index in range(0, len(array)-1):\n",
    "                            slide_features.append(float(array[index]))\n",
    "                    \n",
    "            with open(\"../../uh_endometrial_cancer/collagen_feature_maps_350_final/\" + filename, newline='') as csvfile:\n",
    "                spamreader = csv.reader(csvfile)\n",
    "                for row in spamreader:\n",
    "                    if flag == -1:\n",
    "                        array = row\n",
    "                        for index in range(0, len(array)-1):\n",
    "                            slide_features.append(float(array[index]))\n",
    "                    \n",
    "            with open(\"../../uh_endometrial_cancer/collagen_feature_maps_400_final/\" + filename, newline='') as csvfile:\n",
    "                spamreader = csv.reader(csvfile)\n",
    "                for row in spamreader:\n",
    "                    if flag == -1:\n",
    "                        array = row\n",
    "                        for index in range(0, len(array)-1):\n",
    "                            slide_features.append(float(array[index]))\n",
    "                    \n",
    "            with open(\"../../uh_endometrial_cancer/collagen_feature_maps_450_final/\" + filename, newline='') as csvfile:\n",
    "                spamreader = csv.reader(csvfile)\n",
    "                for row in spamreader:\n",
    "                    if flag == -1:\n",
    "                        array = row\n",
    "                        for index in range(0, len(array)-1):\n",
    "                            slide_features.append(float(array[index]))\n",
    "                    \n",
    "            with open(\"../../uh_endometrial_cancer/collagen_feature_maps_500_final/\" + filename, newline='') as csvfile:\n",
    "                spamreader = csv.reader(csvfile)\n",
    "                for row in spamreader:\n",
    "                    if flag == -1:\n",
    "                        array = row\n",
    "                        for index in range(0, len(array)-1):\n",
    "                            slide_features.append(float(array[index]))\n",
    "                    \n",
    "            with open(\"../../uh_endometrial_cancer/collagen_feature_maps_550_final/\" + filename, newline='') as csvfile:\n",
    "                spamreader = csv.reader(csvfile)\n",
    "                for row in spamreader:\n",
    "                    if flag == -1:\n",
    "                        array = row\n",
    "                        for index in range(0, len(array)-1):\n",
    "                            slide_features.append(float(array[index]))\n",
    "                    \n",
    "            with open(\"../../uh_endometrial_cancer/collagen_feature_maps_600_final/\" + filename, newline='') as csvfile:\n",
    "                spamreader = csv.reader(csvfile)\n",
    "                for row in spamreader:\n",
    "                    if flag == -1:\n",
    "                        array = row\n",
    "                        for index in range(0, len(array)-1):\n",
    "                            slide_features.append(float(array[index]))\n",
    "            file_features.append(slide_features)\n",
    "    \n",
    "    #f = [sum(col) / float(len(col)) for col in zip(*file_features)]\n",
    "    if len(file_features) > 1:\n",
    "        f = file_features[0]\n",
    "    else:\n",
    "        f = file_features[0]\n",
    "    test_collagen_features.append(f)\n",
    "print(len(test_collagen_features))\n",
    "print(len(test_collagen_features[0]))"
   ]
  },
  {
   "cell_type": "code",
   "execution_count": 20,
   "id": "27853c5c",
   "metadata": {},
   "outputs": [
    {
     "name": "stdout",
     "output_type": "stream",
     "text": [
      "27\n"
     ]
    }
   ],
   "source": [
    "test_y = []\n",
    "test_event = []\n",
    "test_survival_time = []\n",
    "for index in range(0, len(test_final_censor)):\n",
    "    test_y.append([test_final_censor[index], test_final_days[index]])\n",
    "    test_event.append(test_final_censor[index])\n",
    "    test_survival_time.append(test_final_days[index])\n",
    "print(len(test_y))"
   ]
  },
  {
   "cell_type": "code",
   "execution_count": 21,
   "id": "9e86c557",
   "metadata": {},
   "outputs": [
    {
     "name": "stdout",
     "output_type": "stream",
     "text": [
      "27\n",
      "27\n",
      "[1.8881, 0.20612, 2.2952, 1.9498, 0.32423, 2.2986, 1.9974, 0.27679, 2.2942, 2.0303, 0.32842, 2.294, 2.0577, 0.3396, 2.2962, 2.0763, 0.39579, 2.2952, 2.0944, 0.43866, 2.2925, 2.1063, 0.43327, 2.2901, 2.1201, 0.48006, 2.2933]\n"
     ]
    }
   ],
   "source": [
    "# generate training set for training model\n",
    "test_features = []\n",
    "for index in range(0, len(test_final_filenames)):\n",
    "    #test_features.append(test_collagen_features[index] + [test_final_genes_high[index]] + [test_final_genes_low[index]] + [test_final_genes_mmr[index]])\n",
    "    test_features.append(test_collagen_features[index])\n",
    "    #features.append(final_til_features[index])\n",
    "print(len(test_features))\n",
    "print(len(test_features[0]))\n",
    "print(test_features[0])"
   ]
  },
  {
   "cell_type": "code",
   "execution_count": 22,
   "id": "daa0e8c7",
   "metadata": {},
   "outputs": [],
   "source": [
    "# final training information to be used for training model\n",
    "test_features = np.array(test_features)\n",
    "test_y = np.array(test_y)\n",
    "test_event = np.array(test_event)\n",
    "test_survival_time = np.array(test_survival_time)"
   ]
  },
  {
   "cell_type": "code",
   "execution_count": 35,
   "id": "af4ffd1a",
   "metadata": {},
   "outputs": [
    {
     "name": "stdout",
     "output_type": "stream",
     "text": [
      "0.6991525423728814\n",
      "11\n",
      "16\n",
      "27\n"
     ]
    }
   ],
   "source": [
    "# run on test set\n",
    "features_train = features\n",
    "features_test = test_features\n",
    "y_train = y\n",
    "event_train, survival_time_train = event, survival_time\n",
    "dt = dtype=[('Status', '?'), ('Survival_in_days', '<f8')]\n",
    "y_train = np.array([tuple(row) for row in y_train], dtype=dt)\n",
    "scaler = MinMaxScaler()\n",
    "features_train = scaler.fit_transform(features_train)\n",
    "features_test = scaler.transform(features_test)\n",
    "features_train_df = pd.DataFrame(features_train)\n",
    "features_test_df = pd.DataFrame(features_test)\n",
    "        \n",
    "# fit model\n",
    "estimator = CoxnetSurvivalAnalysis(l1_ratio=0.9, alpha_min_ratio=0.05)\n",
    "estimator.fit(features_train_df, y_train)\n",
    "\n",
    "score, _, _, _, _ = concordance_index_censored(test_event, test_survival_time, estimator.predict(features_test_df))\n",
    "print(score)\n",
    "\n",
    "# get risk scores\n",
    "train_risk_scores = estimator.predict(features_train_df)\n",
    "test_risk_scores = estimator.predict(features_test_df)\n",
    "\n",
    "group = []\n",
    "median = np.median(train_risk_scores)\n",
    "count_low = 0\n",
    "count_high = 0\n",
    "for index in range(0, len(test_risk_scores)):\n",
    "    if test_risk_scores[index] > median:\n",
    "        count_high += 1\n",
    "        group.append(1)\n",
    "    else:\n",
    "        count_low += 1\n",
    "        group.append(0)\n",
    "print(count_low)\n",
    "print(count_high)\n",
    "print(len(group))"
   ]
  },
  {
   "cell_type": "code",
   "execution_count": 36,
   "id": "a703d88e",
   "metadata": {},
   "outputs": [
    {
     "name": "stdout",
     "output_type": "stream",
     "text": [
      "1; 0; 0; 1; 1; 0; 0; 1; 1; 0; 0; 1; 0; 1; 1; 0; 1; 0; 1; 0; 1; 0; 1; 1; 0; 0; 1\n"
     ]
    }
   ],
   "source": [
    "a = []\n",
    "for index in range(0, len(test_event)):\n",
    "    if test_event[index] == False:\n",
    "        a.append(0)\n",
    "    else:\n",
    "        a.append(1)\n",
    "print(*a, sep=\"; \")"
   ]
  },
  {
   "cell_type": "code",
   "execution_count": 37,
   "id": "45b5ca16",
   "metadata": {},
   "outputs": [
    {
     "name": "stdout",
     "output_type": "stream",
     "text": [
      "381; 4356; 2107; 839; 872; 148; 3716; 2753; 1931; 2972; 2454; 577; 3004; 1476; 1391; 1751; 1804; 197; 904; 2178; 1679; 2218; 1486; 553; 2310; 2211; 639\n"
     ]
    }
   ],
   "source": [
    "print(*test_survival_time, sep=\"; \")"
   ]
  },
  {
   "cell_type": "code",
   "execution_count": 38,
   "id": "243a8b3f",
   "metadata": {},
   "outputs": [
    {
     "name": "stdout",
     "output_type": "stream",
     "text": [
      "1; 0; 0; 0; 1; 0; 1; 1; 1; 1; 0; 1; 0; 1; 1; 1; 1; 0; 0; 0; 1; 0; 1; 1; 1; 0; 1\n"
     ]
    }
   ],
   "source": [
    "print(*group, sep=\"; \")"
   ]
  },
  {
   "cell_type": "code",
   "execution_count": null,
   "id": "691df8d0",
   "metadata": {},
   "outputs": [],
   "source": [
    "print(count_high)\n",
    "for index in range(0, len(test_oc_files)):\n",
    "    if test_risk_scores[index] > median:\n",
    "        print(test_oc_files[index])"
   ]
  },
  {
   "cell_type": "code",
   "execution_count": null,
   "id": "11e611ed",
   "metadata": {},
   "outputs": [],
   "source": []
  },
  {
   "cell_type": "code",
   "execution_count": null,
   "id": "262fd76c",
   "metadata": {},
   "outputs": [],
   "source": [
    "import umap"
   ]
  },
  {
   "cell_type": "code",
   "execution_count": null,
   "id": "48833f2f",
   "metadata": {},
   "outputs": [],
   "source": [
    "f = []\n",
    "c = []\n",
    "f_1 = []\n",
    "c_1 = []\n",
    "for index in range(0, len(features)):\n",
    "    f.append(features[index])\n",
    "    c.append((1, 0, 0))\n",
    "for index in range(0, len(test_features)):\n",
    "    f.append(test_features[index])\n",
    "    c.append((0, 1, 0))"
   ]
  },
  {
   "cell_type": "code",
   "execution_count": null,
   "id": "d0853f28",
   "metadata": {},
   "outputs": [],
   "source": [
    "trans = umap.UMAP(n_neighbors=5, random_state=42).fit(f)"
   ]
  },
  {
   "cell_type": "code",
   "execution_count": null,
   "id": "40e3d70d",
   "metadata": {},
   "outputs": [],
   "source": [
    "f_1_transform = trans.transform(f_1)"
   ]
  },
  {
   "cell_type": "code",
   "execution_count": null,
   "id": "9177cea1",
   "metadata": {},
   "outputs": [],
   "source": [
    "plt.scatter(trans.embedding_[:, 0], trans.embedding_[:, 1], s= 5, c=c, cmap='Spectral')\n",
    "#plt.scatter(f_1_transform[:, 0], f_1_transform[:, 1], s= 5, c=c_1, cmap='Spectral')\n",
    "plt.title(\"UMAP Embedding\")"
   ]
  },
  {
   "cell_type": "code",
   "execution_count": null,
   "id": "c3731d55",
   "metadata": {},
   "outputs": [],
   "source": [
    "print(features)"
   ]
  },
  {
   "cell_type": "code",
   "execution_count": null,
   "id": "aa6adaf3",
   "metadata": {},
   "outputs": [],
   "source": [
    "print(test_features)"
   ]
  },
  {
   "cell_type": "code",
   "execution_count": null,
   "id": "6ce0335c",
   "metadata": {},
   "outputs": [],
   "source": []
  }
 ],
 "metadata": {
  "kernelspec": {
   "display_name": "Python 3",
   "language": "python",
   "name": "python3"
  },
  "language_info": {
   "codemirror_mode": {
    "name": "ipython",
    "version": 3
   },
   "file_extension": ".py",
   "mimetype": "text/x-python",
   "name": "python",
   "nbconvert_exporter": "python",
   "pygments_lexer": "ipython3",
   "version": "3.8.8"
  }
 },
 "nbformat": 4,
 "nbformat_minor": 5
}
