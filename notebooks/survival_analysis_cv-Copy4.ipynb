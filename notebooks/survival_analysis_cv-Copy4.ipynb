{
 "cells": [
  {
   "cell_type": "code",
   "execution_count": 1,
   "id": "711e0b25",
   "metadata": {},
   "outputs": [
    {
     "name": "stdout",
     "output_type": "stream",
     "text": [
      "Header files loaded!\n"
     ]
    }
   ],
   "source": [
    "# header files\n",
    "%matplotlib inline\n",
    "import glob\n",
    "import csv\n",
    "import numpy as np\n",
    "import pandas as pd\n",
    "from sksurv.nonparametric import kaplan_meier_estimator\n",
    "from sksurv.linear_model import CoxnetSurvivalAnalysis\n",
    "from sksurv.ensemble import RandomSurvivalForest\n",
    "from sksurv.metrics import (\n",
    "    concordance_index_censored,\n",
    "    concordance_index_ipcw,\n",
    "    cumulative_dynamic_auc,\n",
    "    integrated_brier_score,\n",
    ")\n",
    "from sklearn.preprocessing import StandardScaler, MinMaxScaler, RobustScaler\n",
    "from sklearn.pipeline import make_pipeline\n",
    "from sklearn.model_selection import KFold\n",
    "from sklearn.model_selection import train_test_split\n",
    "import matplotlib.pyplot as plt\n",
    "from sklearn.feature_selection import SelectKBest\n",
    "from sklearn.feature_selection import chi2, f_regression, f_classif\n",
    "import matplotlib.pyplot as plt\n",
    "plt.rcParams['figure.figsize'] = [100, 100]\n",
    "print(\"Header files loaded!\")"
   ]
  },
  {
   "cell_type": "code",
   "execution_count": 2,
   "id": "8527b1c9",
   "metadata": {},
   "outputs": [],
   "source": [
    "# hyper-parameters\n",
    "is_ovarian_cancer = 0\n",
    "is_cervix_cancer = 1\n",
    "is_endometrial_cancer = 0"
   ]
  },
  {
   "cell_type": "code",
   "execution_count": 3,
   "id": "6f13ed4f",
   "metadata": {},
   "outputs": [
    {
     "name": "stdout",
     "output_type": "stream",
     "text": [
      "262\n"
     ]
    }
   ],
   "source": [
    "# load ovarian cancer files\n",
    "if is_cervix_cancer:\n",
    "    cc_files = (glob.glob(\"../../tcga_cervix_cancer/collagen_feature_maps_200_final/*\"))\n",
    "    print(len(cc_files))"
   ]
  },
  {
   "cell_type": "code",
   "execution_count": 4,
   "id": "4b002baf",
   "metadata": {},
   "outputs": [],
   "source": [
    "# collect features\n",
    "if is_cervix_cancer:\n",
    "    collagen_features = []\n",
    "    for file in cc_files:\n",
    "        filename = file.split(\"/\")[-1]\n",
    "        flag = -1\n",
    "        file_features = []\n",
    "        with open(file, newline='') as csvfile:\n",
    "            spamreader = csv.reader(csvfile)\n",
    "            for row in spamreader:\n",
    "                if flag == -1:\n",
    "                    array = row\n",
    "                    for index in range(0, len(array)-1):\n",
    "                        file_features.append(float(array[index]))\n",
    "                    \n",
    "        with open(\"../../tcga_cervix_cancer/collagen_feature_maps_250_final/\" + filename, newline='') as csvfile:\n",
    "            spamreader = csv.reader(csvfile)\n",
    "            for row in spamreader:\n",
    "                if flag == -1:\n",
    "                    array = row\n",
    "                    for index in range(0, len(array)-1):\n",
    "                        file_features.append(float(array[index]))\n",
    "                    \n",
    "        with open(\"../../tcga_cervix_cancer/collagen_feature_maps_300_final/\" + filename, newline='') as csvfile:\n",
    "            spamreader = csv.reader(csvfile)\n",
    "            for row in spamreader:\n",
    "                if flag == -1:\n",
    "                    array = row\n",
    "                    for index in range(0, len(array)-1):\n",
    "                        file_features.append(float(array[index]))\n",
    "                    \n",
    "        with open(\"../../tcga_cervix_cancer/collagen_feature_maps_350_final/\" + filename, newline='') as csvfile:\n",
    "            spamreader = csv.reader(csvfile)\n",
    "            for row in spamreader:\n",
    "                if flag == -1:\n",
    "                    array = row\n",
    "                    for index in range(0, len(array)-1):\n",
    "                        file_features.append(float(array[index]))\n",
    "                    \n",
    "        with open(\"../../tcga_cervix_cancer/collagen_feature_maps_400_final/\" + filename, newline='') as csvfile:\n",
    "            spamreader = csv.reader(csvfile)\n",
    "            for row in spamreader:\n",
    "                if flag == -1:\n",
    "                    array = row\n",
    "                    for index in range(0, len(array)-1):\n",
    "                        file_features.append(float(array[index]))\n",
    "                    \n",
    "        with open(\"../../tcga_cervix_cancer/collagen_feature_maps_450_final/\" + filename, newline='') as csvfile:\n",
    "            spamreader = csv.reader(csvfile)\n",
    "            for row in spamreader:\n",
    "                if flag == -1:\n",
    "                    array = row\n",
    "                    for index in range(0, len(array)-1):\n",
    "                        file_features.append(float(array[index]))\n",
    "                    \n",
    "        with open(\"../../tcga_cervix_cancer/collagen_feature_maps_500_final/\" + filename, newline='') as csvfile:\n",
    "            spamreader = csv.reader(csvfile)\n",
    "            for row in spamreader:\n",
    "                if flag == -1:\n",
    "                    array = row\n",
    "                    for index in range(0, len(array)-1):\n",
    "                        file_features.append(float(array[index]))\n",
    "                    \n",
    "        with open(\"../../tcga_cervix_cancer/collagen_feature_maps_550_final/\" + filename, newline='') as csvfile:\n",
    "            spamreader = csv.reader(csvfile)\n",
    "            for row in spamreader:\n",
    "                if flag == -1:\n",
    "                    array = row\n",
    "                    for index in range(0, len(array)-1):\n",
    "                        file_features.append(float(array[index]))\n",
    "                    \n",
    "        with open(\"../../tcga_cervix_cancer/collagen_feature_maps_600_final/\" + filename, newline='') as csvfile:\n",
    "            spamreader = csv.reader(csvfile)\n",
    "            for row in spamreader:\n",
    "                if flag == -1:\n",
    "                    array = row\n",
    "                    for index in range(0, len(array)-1):\n",
    "                        file_features.append(float(array[index]))\n",
    "        collagen_features.append(file_features)"
   ]
  },
  {
   "cell_type": "code",
   "execution_count": 5,
   "id": "7b76ee33",
   "metadata": {},
   "outputs": [
    {
     "name": "stdout",
     "output_type": "stream",
     "text": [
      "['patient_name', 'SF1', 'SF2', 'SF3', 'SF4', 'SF5', 'SF6', 'SF7', 'cont_risk_score', 'binary_risk_score', 'file_name', 'WSI_Width', 'WSI_Height', 'year_of_birth', 'race', 'year_of_death', 'vital_status', 'Organ', 'treatment_type', 'Age', 'ajcc_pathologic_m', 'ajcc_pathologic_n', 'ajcc_pathologic_t', 'TTE', 'censor', 'thres', 'Site', 'stage', 'OS_days', 'Vital', 'Grade', 'BMI', 'plannedRegimen', 'stage_numeric', 'Cohort']\n",
      "140\n",
      "129\n"
     ]
    }
   ],
   "source": [
    "# create output survival information for training model and get til features\n",
    "if is_cervix_cancer:\n",
    "    til_features_chemo = []\n",
    "    censor_chemo = []\n",
    "    days_chemo = []\n",
    "    filenames_chemo = []\n",
    "    til_features_radio = []\n",
    "    censor_radio = []\n",
    "    days_radio = []\n",
    "    filenames_radio = []\n",
    "    flag = -1\n",
    "    with open(\"../../DATA.csv\", newline='', encoding = \"ISO-8859-1\") as csvfile:\n",
    "        spamreader = csv.reader(csvfile)\n",
    "        for row in spamreader:\n",
    "            if flag == -1:\n",
    "                flag = 1\n",
    "                print(row)\n",
    "            else:\n",
    "                array = row\n",
    "                if array[17] == \"Cervix\" and array[18] == \"Chemotherapy\":\n",
    "                    filenames_chemo.append(array[0])\n",
    "                    f_features = [float(array[1]), float(array[2]), float(array[3]), float(array[4]), float(array[5]), float(array[6]), float(array[7])]\n",
    "                    til_features_chemo.append(f_features)\n",
    "                    censor_chemo.append(bool(int(array[24])))\n",
    "                    days_chemo.append(int(array[28]))\n",
    "                    \n",
    "                if array[17] == \"Cervix\" and array[18] == \"Radiation Therapy\":\n",
    "                    filenames_radio.append(array[0])\n",
    "                    f_features = [float(array[1]), float(array[2]), float(array[3]), float(array[4]), float(array[5]), float(array[6]), float(array[7])]\n",
    "                    til_features_radio.append(f_features)\n",
    "                    censor_radio.append(bool(int(array[24])))\n",
    "                    days_radio.append(int(array[28]))\n",
    "    print(len(filenames_chemo))\n",
    "    print(len(filenames_radio))"
   ]
  },
  {
   "cell_type": "code",
   "execution_count": 6,
   "id": "f84514a5",
   "metadata": {},
   "outputs": [
    {
     "name": "stdout",
     "output_type": "stream",
     "text": [
      "134\n",
      "134\n",
      "134\n",
      "134\n",
      "134\n",
      "134\n"
     ]
    }
   ],
   "source": [
    "final_filenames_chemo = []\n",
    "final_til_features_chemo = []\n",
    "final_collagen_features_chemo = []\n",
    "y_chemo = []\n",
    "event_chemo = []\n",
    "survival_time_chemo = []\n",
    "index = 0\n",
    "for file in cc_files:\n",
    "    count = 0\n",
    "    filename1 = file.split(\"/\")[-1][:-4]\n",
    "    flag = -1\n",
    "    for filename in filenames_chemo:\n",
    "        filename2 = filename\n",
    "        if filename1 == filename2:\n",
    "            final_til_features_chemo.append(til_features_chemo[count])\n",
    "            y_chemo.append([censor_chemo[count], days_chemo[count]])\n",
    "            event_chemo.append(censor_chemo[count])\n",
    "            survival_time_chemo.append(days_chemo[count])\n",
    "            final_collagen_features_chemo.append(collagen_features[index])\n",
    "            final_filenames_chemo.append(file)\n",
    "            flag = 1\n",
    "        count += 1\n",
    "    index += 1\n",
    "print(len(final_filenames_chemo))\n",
    "print(len(final_collagen_features_chemo))\n",
    "print(len(final_til_features_chemo))\n",
    "print(len(y_chemo))\n",
    "print(len(event_chemo))\n",
    "print(len(survival_time_chemo))"
   ]
  },
  {
   "cell_type": "code",
   "execution_count": 7,
   "id": "17029e38",
   "metadata": {},
   "outputs": [
    {
     "name": "stdout",
     "output_type": "stream",
     "text": [
      "128\n",
      "128\n",
      "128\n",
      "128\n",
      "128\n"
     ]
    }
   ],
   "source": [
    "final_filenames_radio = []\n",
    "final_til_features_radio = []\n",
    "final_collagen_features_radio = []\n",
    "y_radio = []\n",
    "event_radio = []\n",
    "survival_time_radio = []\n",
    "index = 0\n",
    "for file in cc_files:\n",
    "    count = 0\n",
    "    filename1 = file.split(\"/\")[-1][:-4]\n",
    "    flag = -1\n",
    "    for filename in filenames_radio:\n",
    "        filename2 = filename\n",
    "        if filename1 == filename2:\n",
    "            final_til_features_radio.append(til_features_radio[count])\n",
    "            y_radio.append([censor_radio[count], days_radio[count]])\n",
    "            event_radio.append(censor_radio[count])\n",
    "            survival_time_radio.append(days_radio[count])\n",
    "            final_collagen_features_radio.append(collagen_features[index])\n",
    "            final_filenames_radio.append(file)\n",
    "            flag = 1\n",
    "        count += 1\n",
    "    index += 1\n",
    "print(len(final_filenames_radio))\n",
    "print(len(final_til_features_radio))\n",
    "print(len(y_radio))\n",
    "print(len(event_radio))\n",
    "print(len(survival_time_radio))"
   ]
  },
  {
   "cell_type": "code",
   "execution_count": 8,
   "id": "e0d2eb46",
   "metadata": {},
   "outputs": [
    {
     "name": "stdout",
     "output_type": "stream",
     "text": [
      "../../tcga_cervix_cancer/collagen_feature_maps_200_final/TCGA-VS-A957.csv False 9\n",
      "../../tcga_cervix_cancer/collagen_feature_maps_200_final/TCGA-IR-A3L7.csv False 119\n"
     ]
    }
   ],
   "source": [
    "print(final_filenames_chemo[0] + \" \" + str(event_chemo[0]) + \" \" + str(survival_time_chemo[0]))\n",
    "print(final_filenames_chemo[50] + \" \" + str(event_chemo[50]) + \" \" + str(survival_time_chemo[50]))"
   ]
  },
  {
   "cell_type": "code",
   "execution_count": 9,
   "id": "d48a882c",
   "metadata": {},
   "outputs": [
    {
     "name": "stdout",
     "output_type": "stream",
     "text": [
      "../../tcga_cervix_cancer/collagen_feature_maps_200_final/TCGA-VS-A8QC.csv True 2949\n",
      "../../tcga_cervix_cancer/collagen_feature_maps_200_final/TCGA-EX-A69L.csv False 1320\n"
     ]
    }
   ],
   "source": [
    "print(final_filenames_radio[0] + \" \" + str(event_radio[0]) + \" \" + str(survival_time_radio[0]))\n",
    "print(final_filenames_radio[50] + \" \" + str(event_radio[50]) + \" \" + str(survival_time_radio[50]))"
   ]
  },
  {
   "cell_type": "code",
   "execution_count": 39,
   "id": "510ffae1",
   "metadata": {},
   "outputs": [
    {
     "name": "stdout",
     "output_type": "stream",
     "text": [
      "128\n",
      "34\n"
     ]
    }
   ],
   "source": [
    "# generate training set for training model\n",
    "features = []\n",
    "for index in range(0, len(final_filenames_radio)):\n",
    "    features.append(final_collagen_features_radio[index] + final_til_features_radio[index])\n",
    "    #features.append(final_collagen_features_radio[index])\n",
    "    #features.append(final_til_features[index])\n",
    "print(len(features))\n",
    "print(len(features[0]))"
   ]
  },
  {
   "cell_type": "code",
   "execution_count": null,
   "id": "7cad5066",
   "metadata": {},
   "outputs": [],
   "source": []
  },
  {
   "cell_type": "code",
   "execution_count": 40,
   "id": "8fb55c91",
   "metadata": {},
   "outputs": [],
   "source": [
    "# final training information to be used for training model\n",
    "features = np.array(features)\n",
    "y = np.array(y_radio)\n",
    "event = np.array(event_radio)\n",
    "survival_time = np.array(survival_time_radio)"
   ]
  },
  {
   "cell_type": "code",
   "execution_count": 44,
   "id": "30438eb6",
   "metadata": {},
   "outputs": [
    {
     "name": "stdout",
     "output_type": "stream",
     "text": [
      "0.6659333252914236 0.0449889677995397\n",
      "1.0\n"
     ]
    }
   ],
   "source": [
    "# main code for training\n",
    "iter_scores = []\n",
    "max_score = -1\n",
    "dt = dtype=[('Status', '?'), ('Survival_in_days', '<f8')]\n",
    "for iter in range(100):\n",
    "    model_score = []\n",
    "    kf = KFold(n_splits=5, shuffle=True)\n",
    "    for train_index, test_index in kf.split(features):\n",
    "        # get the training and validation data\n",
    "        features_train, features_test = features[train_index], features[test_index]\n",
    "        y_train, y_test = y[train_index], y[test_index]\n",
    "        event_train, survival_time_train = event[train_index], survival_time[train_index]\n",
    "        event_test, survival_time_test = event[test_index], survival_time[test_index]\n",
    "        y_train = np.array([tuple(row) for row in y_train], dtype=dt)\n",
    "        y_test = np.array([tuple(row) for row in y_test], dtype=dt)\n",
    "        \n",
    "        # feature selection\n",
    "        scaler = MinMaxScaler()\n",
    "        features_train = scaler.fit_transform(features_train)\n",
    "        features_test = scaler.transform(features_test)\n",
    "        select = SelectKBest(score_func=chi2, k=len(features[0])-20)\n",
    "        features_train_selected = select.fit_transform(features_train, survival_time_train)\n",
    "        features_test_selected = select.transform(features_test)\n",
    "        features_train_df = pd.DataFrame(features_train)\n",
    "        features_test_df = pd.DataFrame(features_test)\n",
    "        \n",
    "        # fit model\n",
    "        estimator = CoxnetSurvivalAnalysis(l1_ratio=0.9, alpha_min_ratio=0.005)\n",
    "        estimator.fit(features_train_df, y_train)\n",
    "        \n",
    "        # score on validation set\n",
    "        score, _, _, _, _ = concordance_index_censored(event_test, survival_time_test, estimator.predict(features_test_df))\n",
    "        model_score.append(score)\n",
    "        if score > max_score:\n",
    "            max_score = score\n",
    "    \n",
    "    if len(model_score) > 0:\n",
    "        iter_scores.append(np.mean(model_score))\n",
    "        max_score = max(max(model_score), max_score)\n",
    "print(np.mean(iter_scores), np.std(iter_scores))\n",
    "print(max_score)"
   ]
  },
  {
   "cell_type": "code",
   "execution_count": 46,
   "id": "7d6950b6",
   "metadata": {},
   "outputs": [
    {
     "data": {
      "text/plain": [
       "CoxnetSurvivalAnalysis(alpha_min_ratio=0.005, l1_ratio=0.9)"
      ]
     },
     "execution_count": 46,
     "metadata": {},
     "output_type": "execute_result"
    }
   ],
   "source": [
    "# model to be used for external validation\n",
    "features_train = features\n",
    "y_train = y\n",
    "event_train, survival_time_train = event, survival_time\n",
    "dt = dtype=[('Status', '?'), ('Survival_in_days', '<f8')]\n",
    "y_train = np.array([tuple(row) for row in y_train], dtype=dt)\n",
    "        \n",
    "# feature selection\n",
    "scaler = MinMaxScaler()\n",
    "features_train = scaler.fit_transform(features_train)\n",
    "select = SelectKBest(score_func=chi2, k=len(features[0])-20)\n",
    "features_train_selected = select.fit_transform(features_train, survival_time_train)\n",
    "features_train_df = pd.DataFrame(features_train)\n",
    "        \n",
    "# fit model\n",
    "estimator = CoxnetSurvivalAnalysis(l1_ratio=0.9, alpha_min_ratio=0.005)\n",
    "estimator.fit(features_train_df, y_train)"
   ]
  },
  {
   "cell_type": "code",
   "execution_count": 47,
   "id": "54e50739",
   "metadata": {},
   "outputs": [
    {
     "name": "stdout",
     "output_type": "stream",
     "text": [
      "0\n",
      "1\n",
      "3\n",
      "6\n",
      "9\n",
      "11\n",
      "15\n",
      "19\n",
      "20\n",
      "21\n",
      "23\n",
      "25\n",
      "29\n",
      "32\n",
      "\n",
      "Prognostic features count = 14\n"
     ]
    }
   ],
   "source": [
    "# find prognostic features from model trained above\n",
    "count = 0\n",
    "for index1 in range(0, len(estimator.coef_)):\n",
    "    flag = -1\n",
    "    for index2 in range(0, len(estimator.coef_[index1])):\n",
    "        if estimator.coef_[index1][index2] > 0:\n",
    "            flag = 1\n",
    "            print(index1)\n",
    "            break\n",
    "    if flag == 1:\n",
    "        count += 1\n",
    "print()\n",
    "print(\"Prognostic features count = \" + str(count))"
   ]
  },
  {
   "cell_type": "code",
   "execution_count": null,
   "id": "193a41c1",
   "metadata": {},
   "outputs": [],
   "source": []
  },
  {
   "cell_type": "code",
   "execution_count": null,
   "id": "7d5cc6e4",
   "metadata": {},
   "outputs": [],
   "source": []
  },
  {
   "cell_type": "code",
   "execution_count": null,
   "id": "0f622393",
   "metadata": {},
   "outputs": [],
   "source": [
    "# work with test data\n",
    "test_oc_files = (glob.glob(\"../results/oc_collagen_features/test_window_1/*\"))\n",
    "print(len(test_oc_files))"
   ]
  },
  {
   "cell_type": "code",
   "execution_count": null,
   "id": "d6f7c780",
   "metadata": {},
   "outputs": [],
   "source": [
    "# collect test features\n",
    "is_ovarian_cancer = 1\n",
    "if is_ovarian_cancer:\n",
    "    test_collagen_features = []\n",
    "    for file in test_oc_files:\n",
    "        filename = file.split(\"/\")[-1]\n",
    "        flag = -1\n",
    "        file_features = []\n",
    "        with open(file, newline='') as csvfile:\n",
    "            spamreader = csv.reader(csvfile)\n",
    "            for row in spamreader:\n",
    "                if flag == -1:\n",
    "                    array = row\n",
    "                    for index in range(0, len(array)-1):\n",
    "                        file_features.append(float(array[index]))\n",
    "                    \n",
    "        with open(\"../results/oc_collagen_features/test_window_2/\" + filename, newline='') as csvfile:\n",
    "            spamreader = csv.reader(csvfile)\n",
    "            for row in spamreader:\n",
    "                if flag == -1:\n",
    "                    array = row\n",
    "                    for index in range(0, len(array)-1):\n",
    "                        file_features.append(float(array[index]))\n",
    "                    \n",
    "        with open(\"../results/oc_collagen_features/test_window_3/\" + filename, newline='') as csvfile:\n",
    "            spamreader = csv.reader(csvfile)\n",
    "            for row in spamreader:\n",
    "                if flag == -1:\n",
    "                    array = row\n",
    "                    for index in range(0, len(array)-1):\n",
    "                        file_features.append(float(array[index]))\n",
    "                    \n",
    "        with open(\"../results/oc_collagen_features/test_window_4/\" + filename, newline='') as csvfile:\n",
    "            spamreader = csv.reader(csvfile)\n",
    "            for row in spamreader:\n",
    "                if flag == -1:\n",
    "                    array = row\n",
    "                    for index in range(0, len(array)-1):\n",
    "                        file_features.append(float(array[index]))\n",
    "                    \n",
    "        with open(\"../results/oc_collagen_features/test_window_5/\" + filename, newline='') as csvfile:\n",
    "            spamreader = csv.reader(csvfile)\n",
    "            for row in spamreader:\n",
    "                if flag == -1:\n",
    "                    array = row\n",
    "                    for index in range(0, len(array)-1):\n",
    "                        file_features.append(float(array[index]))\n",
    "                    \n",
    "        with open(\"../results/oc_collagen_features/test_window_6/\" + filename, newline='') as csvfile:\n",
    "            spamreader = csv.reader(csvfile)\n",
    "            for row in spamreader:\n",
    "                if flag == -1:\n",
    "                    array = row\n",
    "                    for index in range(0, len(array)-1):\n",
    "                        file_features.append(float(array[index]))\n",
    "                    \n",
    "        with open(\"../results/oc_collagen_features/test_window_7/\" + filename, newline='') as csvfile:\n",
    "            spamreader = csv.reader(csvfile)\n",
    "            for row in spamreader:\n",
    "                if flag == -1:\n",
    "                    array = row\n",
    "                    for index in range(0, len(array)-1):\n",
    "                        file_features.append(float(array[index]))\n",
    "                    \n",
    "        with open(\"../results/oc_collagen_features/test_window_8/\" + filename, newline='') as csvfile:\n",
    "            spamreader = csv.reader(csvfile)\n",
    "            for row in spamreader:\n",
    "                if flag == -1:\n",
    "                    array = row\n",
    "                    for index in range(0, len(array)-1):\n",
    "                        file_features.append(float(array[index]))\n",
    "                    \n",
    "        with open(\"../results/oc_collagen_features/test_window_9/\" + filename, newline='') as csvfile:\n",
    "            spamreader = csv.reader(csvfile)\n",
    "            for row in spamreader:\n",
    "                if flag == -1:\n",
    "                    array = row\n",
    "                    for index in range(0, len(array)-1):\n",
    "                        file_features.append(float(array[index]))\n",
    "        test_collagen_features.append(file_features)"
   ]
  },
  {
   "cell_type": "code",
   "execution_count": null,
   "id": "57a6746f",
   "metadata": {},
   "outputs": [],
   "source": [
    "test_til_features = []\n",
    "test_filenames = []\n",
    "flag = -1\n",
    "with open(\"../results/DATA_UPMC.csv\", newline='', encoding = \"ISO-8859-1\") as csvfile:\n",
    "    spamreader = csv.reader(csvfile)\n",
    "    for row in spamreader:\n",
    "        if flag == -1:\n",
    "            flag = 1\n",
    "            print(row)\n",
    "        else:\n",
    "            array = row\n",
    "            test_filenames.append(array[0])\n",
    "            f_features = [float(array[1]), float(array[2]), float(array[3]), float(array[4]), float(array[5]), float(array[6]), float(array[7])]\n",
    "            test_til_features.append(f_features)\n",
    "\n",
    "final_test_til_features = []\n",
    "for file in test_oc_files:\n",
    "    count = 0\n",
    "    filename1 = file.split(\"/\")[-1][:-7]\n",
    "    for filename in test_filenames:\n",
    "        filename2 = filename\n",
    "        if filename1 == filename2:\n",
    "            final_test_til_features.append(test_til_features[count])\n",
    "        count += 1\n",
    "print(len(final_test_til_features))"
   ]
  },
  {
   "cell_type": "code",
   "execution_count": null,
   "id": "0a6d0598",
   "metadata": {},
   "outputs": [],
   "source": [
    "# generate training set for testing model\n",
    "test_features = []\n",
    "for index in range(0, len(test_oc_files)):\n",
    "    test_features.append(final_test_til_features[index] + test_collagen_features[index])\n",
    "    #test_features.append(test_collagen_features[index])\n",
    "    #test_features.append(final_test_til_features[index])\n",
    "print(len(test_features))\n",
    "print(len(test_features[0]))"
   ]
  },
  {
   "cell_type": "code",
   "execution_count": null,
   "id": "af4ffd1a",
   "metadata": {},
   "outputs": [],
   "source": [
    "# run on test set\n",
    "features_train = features\n",
    "features_test = test_features\n",
    "y_train = y\n",
    "event_train, survival_time_train = event, survival_time\n",
    "dt = dtype=[('Status', '?'), ('Survival_in_days', '<f8')]\n",
    "y_train = np.array([tuple(row) for row in y_train], dtype=dt)\n",
    "scaler = MinMaxScaler()\n",
    "features_train = scaler.fit_transform(features_train)\n",
    "features_test = scaler.transform(features_test)\n",
    "select = SelectKBest(score_func=chi2, k=len(features[0])-4)\n",
    "features_train_selected = select.fit_transform(features_train, survival_time_train)\n",
    "features_test_selected = select.transform(features_test)\n",
    "features_train_df = pd.DataFrame(features_train_selected)\n",
    "features_test_df = pd.DataFrame(features_test_selected)\n",
    "        \n",
    "# fit model\n",
    "estimator = CoxnetSurvivalAnalysis(l1_ratio=0.9, alpha_min_ratio=0.001)\n",
    "estimator.fit(features_train_df, y_train)\n",
    "\n",
    "# get risk scores\n",
    "train_risk_scores = estimator.predict(features_train_df)\n",
    "test_risk_scores = estimator.predict(features_test_df)\n",
    "\n",
    "median = np.median(train_risk_scores)\n",
    "count_low = 0\n",
    "count_high = 0\n",
    "for index in range(0, len(test_risk_scores)):\n",
    "    if test_risk_scores[index] > median:\n",
    "        count_high += 1\n",
    "    else:\n",
    "        count_low += 1\n",
    "print(count_low)\n",
    "print(count_high)"
   ]
  },
  {
   "cell_type": "code",
   "execution_count": null,
   "id": "691df8d0",
   "metadata": {},
   "outputs": [],
   "source": [
    "print(count_high)\n",
    "for index in range(0, len(test_oc_files)):\n",
    "    if test_risk_scores[index] > median:\n",
    "        print(test_oc_files[index])"
   ]
  },
  {
   "cell_type": "markdown",
   "id": "80faf9bb",
   "metadata": {},
   "source": [
    "row_1 = []\n",
    "row_2 = []\n",
    "row_3 = []\n",
    "row_4 = []\n",
    "for index in range(0, len(test_oc_files)):\n",
    "    filename = test_oc_files[index].split(\"/\")[-1][:-8]\n",
    "    flag = 0\n",
    "    flag_category = \"low\"\n",
    "    if test_risk_scores[index] > median:\n",
    "        flag = 1\n",
    "        flag_category = \"high\"\n",
    "    row_1.append(str(filename))\n",
    "    row_2.append(str(test_risk_scores[index]))\n",
    "    row_3.append(str(flag))\n",
    "    row_4.append(str(flag_category))\n",
    "    \n",
    "with open(\"../results/upmc_oc_collagen.csv\", 'w', newline='') as csvfile:\n",
    "    spamwriter = csv.writer(csvfile)\n",
    "    spamwriter.writerow([\"Patient Id\", \"Risk Score\", \"Risk (Numerical)\", \"Risk (Category)\"])\n",
    "    for index in range(0, len(test_oc_files)):    \n",
    "        spamwriter.writerow([row_1[index], row_2[index], row_3[index], row_4[index]])"
   ]
  },
  {
   "cell_type": "markdown",
   "id": "b3fdadc2",
   "metadata": {},
   "source": [
    "files = glob.glob(\"../results/upmc_oc_collagen_features/*\")\n",
    "print(len(files))"
   ]
  },
  {
   "cell_type": "markdown",
   "id": "6a1e3f30",
   "metadata": {},
   "source": [
    "count_high = 0\n",
    "count_low = 0\n",
    "for file in files:\n",
    "    flag = -1\n",
    "    with open(file, newline='') as csvfile:\n",
    "        spamreader = csv.reader(csvfile)\n",
    "        for row in spamreader:\n",
    "            if flag == -1:\n",
    "                array = row\n",
    "                flag = 1\n",
    "            else:\n",
    "                array = row\n",
    "                if int(array[1]) == 0:\n",
    "                    count_low += 1\n",
    "                else:\n",
    "                    count_high += 1\n",
    "print(count_low)\n",
    "print(count_high)"
   ]
  },
  {
   "cell_type": "code",
   "execution_count": null,
   "id": "b3fb7c6f",
   "metadata": {},
   "outputs": [],
   "source": []
  },
  {
   "cell_type": "code",
   "execution_count": null,
   "id": "98631534",
   "metadata": {},
   "outputs": [],
   "source": []
  },
  {
   "cell_type": "code",
   "execution_count": null,
   "id": "7d2958e7",
   "metadata": {},
   "outputs": [],
   "source": [
    "f = []\n",
    "for feature in features:\n",
    "    f.append(feature)\n",
    "for test_feature in test_features:\n",
    "    f.append(test_feature)\n",
    "print(len(f))"
   ]
  },
  {
   "cell_type": "code",
   "execution_count": null,
   "id": "c3af2cbd",
   "metadata": {},
   "outputs": [],
   "source": [
    "features_train_df = pd.DataFrame(f)"
   ]
  },
  {
   "cell_type": "code",
   "execution_count": null,
   "id": "a1b79400",
   "metadata": {},
   "outputs": [],
   "source": [
    "features_train_df"
   ]
  },
  {
   "cell_type": "code",
   "execution_count": null,
   "id": "4543bca7",
   "metadata": {},
   "outputs": [],
   "source": [
    "corr = features_train_df.corr().abs()\n",
    "fig = plt.figure()\n",
    "ax = fig.add_subplot(111)\n",
    "cax = ax.matshow(corr,cmap='coolwarm', vmin=0, vmax=1)\n",
    "fig.colorbar(cax)\n",
    "ticks = np.arange(0,len(features_train_df.columns),1)\n",
    "ax.set_xticks(ticks)\n",
    "plt.xticks(rotation=90)\n",
    "ax.set_yticks(ticks)\n",
    "ax.set_xticklabels(features_train_df.columns)\n",
    "ax.set_yticklabels(features_train_df.columns)\n",
    "plt.show()"
   ]
  },
  {
   "cell_type": "code",
   "execution_count": null,
   "id": "cd54fd96",
   "metadata": {},
   "outputs": [],
   "source": [
    "corr"
   ]
  },
  {
   "cell_type": "code",
   "execution_count": null,
   "id": "3f8e8c3c",
   "metadata": {},
   "outputs": [],
   "source": [
    "upper = corr.where(np.triu(np.ones(corr.shape), k=1).astype(np.bool))\n",
    "to_drop = [column for column in upper.columns if any(upper[column] > 0.95)]\n",
    "new_data = features_train_df.drop(features_train_df[to_drop], axis=1)"
   ]
  },
  {
   "cell_type": "code",
   "execution_count": null,
   "id": "4a75a3e4",
   "metadata": {},
   "outputs": [],
   "source": [
    "print(features_train_df.shape)\n",
    "new_data.shape"
   ]
  },
  {
   "cell_type": "code",
   "execution_count": null,
   "id": "63fa3def",
   "metadata": {},
   "outputs": [],
   "source": []
  }
 ],
 "metadata": {
  "kernelspec": {
   "display_name": "Python 3",
   "language": "python",
   "name": "python3"
  },
  "language_info": {
   "codemirror_mode": {
    "name": "ipython",
    "version": 3
   },
   "file_extension": ".py",
   "mimetype": "text/x-python",
   "name": "python",
   "nbconvert_exporter": "python",
   "pygments_lexer": "ipython3",
   "version": "3.8.8"
  }
 },
 "nbformat": 4,
 "nbformat_minor": 5
}
