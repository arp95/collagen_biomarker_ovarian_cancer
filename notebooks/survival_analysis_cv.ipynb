{
 "cells": [
  {
   "cell_type": "code",
   "execution_count": 1,
   "id": "711e0b25",
   "metadata": {},
   "outputs": [
    {
     "name": "stdout",
     "output_type": "stream",
     "text": [
      "Header files loaded!\n"
     ]
    }
   ],
   "source": [
    "# header files\n",
    "import glob\n",
    "import csv\n",
    "import numpy as np\n",
    "import pandas as pd\n",
    "from sksurv.nonparametric import kaplan_meier_estimator\n",
    "from sksurv.linear_model import CoxnetSurvivalAnalysis\n",
    "from sksurv.ensemble import RandomSurvivalForest\n",
    "from sksurv.metrics import (\n",
    "    concordance_index_censored,\n",
    "    concordance_index_ipcw,\n",
    "    cumulative_dynamic_auc,\n",
    "    integrated_brier_score,\n",
    ")\n",
    "from sklearn.preprocessing import StandardScaler, MinMaxScaler, RobustScaler\n",
    "from sklearn.pipeline import make_pipeline\n",
    "from sklearn.model_selection import KFold\n",
    "from sklearn.model_selection import train_test_split\n",
    "import matplotlib.pyplot as plt\n",
    "from sklearn.feature_selection import SelectKBest\n",
    "from sklearn.feature_selection import chi2, f_regression\n",
    "print(\"Header files loaded!\")"
   ]
  },
  {
   "cell_type": "code",
   "execution_count": 2,
   "id": "8527b1c9",
   "metadata": {},
   "outputs": [],
   "source": [
    "# hyper-parameters\n",
    "is_ovarian_cancer = 1\n",
    "is_cervix_cancer = 0\n",
    "is_endometrial_cancer = 0"
   ]
  },
  {
   "cell_type": "code",
   "execution_count": 3,
   "id": "6f13ed4f",
   "metadata": {},
   "outputs": [
    {
     "name": "stdout",
     "output_type": "stream",
     "text": [
      "84\n"
     ]
    }
   ],
   "source": [
    "# load ovarian cancer files\n",
    "if is_ovarian_cancer:\n",
    "    oc_files = (glob.glob(\"../results/oc_collagen_features/win_1/*\"))\n",
    "    print(len(oc_files))"
   ]
  },
  {
   "cell_type": "code",
   "execution_count": 4,
   "id": "7b1e78dc",
   "metadata": {},
   "outputs": [],
   "source": [
    "# load cervix cancer files\n",
    "if is_cervix_cancer:\n",
    "    cc_files = (glob.glob(\"../results/oc_collagen_features/window_1/*\"))\n",
    "    print(len(cc_files))"
   ]
  },
  {
   "cell_type": "code",
   "execution_count": 5,
   "id": "0cef13ba",
   "metadata": {},
   "outputs": [],
   "source": [
    "# load endometrial cancer files\n",
    "if is_endometrial_cancer:\n",
    "    ec_files = (glob.glob(\"../results/oc_collagen_features/window_1/*\"))\n",
    "    print(len(ec_files))"
   ]
  },
  {
   "cell_type": "code",
   "execution_count": 6,
   "id": "4b002baf",
   "metadata": {},
   "outputs": [],
   "source": [
    "# collect features\n",
    "if is_ovarian_cancer:\n",
    "    collagen_features = []\n",
    "    for file in oc_files:\n",
    "        filename = file.split(\"/\")[-1]\n",
    "        flag = -1\n",
    "        file_features = []\n",
    "        with open(file, newline='') as csvfile:\n",
    "            spamreader = csv.reader(csvfile)\n",
    "            for row in spamreader:\n",
    "                if flag == -1:\n",
    "                    array = row\n",
    "                    for index in range(0, len(array)-1):\n",
    "                        file_features.append(float(array[index]))\n",
    "                    \n",
    "        with open(\"../results/oc_collagen_features/win_2/\" + filename, newline='') as csvfile:\n",
    "            spamreader = csv.reader(csvfile)\n",
    "            for row in spamreader:\n",
    "                if flag == -1:\n",
    "                    array = row\n",
    "                    for index in range(0, len(array)-1):\n",
    "                        file_features.append(float(array[index]))\n",
    "                    \n",
    "        with open(\"../results/oc_collagen_features/win_3/\" + filename, newline='') as csvfile:\n",
    "            spamreader = csv.reader(csvfile)\n",
    "            for row in spamreader:\n",
    "                if flag == -1:\n",
    "                    array = row\n",
    "                    for index in range(0, len(array)-1):\n",
    "                        file_features.append(float(array[index]))\n",
    "                    \n",
    "        with open(\"../results/oc_collagen_features/win_4/\" + filename, newline='') as csvfile:\n",
    "            spamreader = csv.reader(csvfile)\n",
    "            for row in spamreader:\n",
    "                if flag == -1:\n",
    "                    array = row\n",
    "                    for index in range(0, len(array)-1):\n",
    "                        file_features.append(float(array[index]))\n",
    "                    \n",
    "        with open(\"../results/oc_collagen_features/win_5/\" + filename, newline='') as csvfile:\n",
    "            spamreader = csv.reader(csvfile)\n",
    "            for row in spamreader:\n",
    "                if flag == -1:\n",
    "                    array = row\n",
    "                    for index in range(0, len(array)-1):\n",
    "                        file_features.append(float(array[index]))\n",
    "                    \n",
    "        with open(\"../results/oc_collagen_features/win_6/\" + filename, newline='') as csvfile:\n",
    "            spamreader = csv.reader(csvfile)\n",
    "            for row in spamreader:\n",
    "                if flag == -1:\n",
    "                    array = row\n",
    "                    for index in range(0, len(array)-1):\n",
    "                        file_features.append(float(array[index]))\n",
    "                    \n",
    "        with open(\"../results/oc_collagen_features/win_7/\" + filename, newline='') as csvfile:\n",
    "            spamreader = csv.reader(csvfile)\n",
    "            for row in spamreader:\n",
    "                if flag == -1:\n",
    "                    array = row\n",
    "                    for index in range(0, len(array)-1):\n",
    "                        file_features.append(float(array[index]))\n",
    "                    \n",
    "        with open(\"../results/oc_collagen_features/win_8/\" + filename, newline='') as csvfile:\n",
    "            spamreader = csv.reader(csvfile)\n",
    "            for row in spamreader:\n",
    "                if flag == -1:\n",
    "                    array = row\n",
    "                    for index in range(0, len(array)-1):\n",
    "                        file_features.append(float(array[index]))\n",
    "                    \n",
    "        with open(\"../results/oc_collagen_features/win_9/\" + filename, newline='') as csvfile:\n",
    "            spamreader = csv.reader(csvfile)\n",
    "            for row in spamreader:\n",
    "                if flag == -1:\n",
    "                    array = row\n",
    "                    for index in range(0, len(array)-1):\n",
    "                        file_features.append(float(array[index]))\n",
    "        collagen_features.append(file_features)"
   ]
  },
  {
   "cell_type": "code",
   "execution_count": 7,
   "id": "0a66f49c",
   "metadata": {},
   "outputs": [
    {
     "name": "stdout",
     "output_type": "stream",
     "text": [
      "103\n",
      "103\n",
      "103\n",
      "103\n"
     ]
    }
   ],
   "source": [
    "# Sepideh OC Spatil features\n",
    "if is_ovarian_cancer:\n",
    "    til_features = []\n",
    "    censor = []\n",
    "    days = []\n",
    "    filenames = []\n",
    "    flag = -1\n",
    "    with open(\"../results/DATA_OC.csv\", newline='', encoding = \"ISO-8859-1\") as csvfile:\n",
    "        spamreader = csv.reader(csvfile)\n",
    "        for row in spamreader:\n",
    "            if flag == -1:\n",
    "                flag = 1\n",
    "            else:\n",
    "                array = row\n",
    "            \n",
    "                filenames.append(array[0])\n",
    "                features = [float(array[5]), float(array[6]), float(array[7])]\n",
    "                til_features.append(features)\n",
    "            \n",
    "                censor.append(bool(int(array[20])))\n",
    "                days.append(int(array[23]))\n",
    "    print(len(filenames))\n",
    "    print(len(til_features))\n",
    "    print(len(censor))\n",
    "    print(len(days))\n",
    "else:\n",
    "    print(\"Not running for Ovarian Cancer Cases!\")"
   ]
  },
  {
   "cell_type": "code",
   "execution_count": 8,
   "id": "dfc04c23",
   "metadata": {},
   "outputs": [
    {
     "name": "stdout",
     "output_type": "stream",
     "text": [
      "TCGA-23-1021\n",
      "[-0.420431852, -0.429332933, -0.614347094]\n",
      "[2.0773, 0.63186, 2.2962, 2.099, 0.52204, 2.3004, 2.1159, 0.55915, 2.2901, 2.131, 0.64197, 2.2891, 2.133, 0.63186, 2.2857, 2.1474, 0.67688, 2.2845, 2.1575, 0.92646, 2.2858, 2.1558, 0.6504, 2.2821, 2.1659, 1.0546, 2.2864]\n",
      "True\n",
      "1446\n"
     ]
    }
   ],
   "source": [
    "# example of features collected\n",
    "print(filenames[0])\n",
    "print(til_features[0])\n",
    "print(collagen_features[0])\n",
    "print(censor[0])\n",
    "print(days[0])"
   ]
  },
  {
   "cell_type": "code",
   "execution_count": 9,
   "id": "58d6ebd5",
   "metadata": {},
   "outputs": [
    {
     "name": "stdout",
     "output_type": "stream",
     "text": [
      "84\n",
      "84\n",
      "84\n",
      "84\n"
     ]
    }
   ],
   "source": [
    "# Sepideh OC Spatil features and create output survival information for training model\n",
    "if is_ovarian_cancer:\n",
    "    final_til_features = []\n",
    "    y = []\n",
    "    event = []\n",
    "    survival_time = []\n",
    "    for file in oc_files:\n",
    "        count = 0\n",
    "        filename1 = file.split(\"/\")[-1][:-4]\n",
    "        for filename in filenames:\n",
    "            filename2 = filename\n",
    "            if filename1 == filename2:\n",
    "                final_til_features.append(til_features[count])\n",
    "                y.append([censor[count], days[count]])\n",
    "                event.append(censor[count])\n",
    "                survival_time.append(days[count])\n",
    "            count += 1\n",
    "    print(len(final_til_features))\n",
    "    print(len(y))\n",
    "    print(len(event))\n",
    "    print(len(survival_time))\n",
    "else:\n",
    "    print(\"Not running for Ovarian Cancer Cases!\")"
   ]
  },
  {
   "cell_type": "markdown",
   "id": "db8d1f9d",
   "metadata": {},
   "source": [
    "# prognostic features obtained for OC cases\n",
    "if is_ovarian_cancer:\n",
    "    final_collagen_features = []\n",
    "    index = 0\n",
    "    for features in collagen_features:\n",
    "        final_collagen_features.append([features[5], features[44], features[20], features[25], features[39], features[42], features[1]])\n",
    "    print(len(final_collagen_features))\n",
    "    print(len(final_collagen_features[0]))\n",
    "else:\n",
    "    final_collagen_features = collagen_features\n",
    "    print(len(final_collagen_features))\n",
    "    print(len(final_collagen_features[0]))"
   ]
  },
  {
   "cell_type": "code",
   "execution_count": null,
   "id": "922dd38e",
   "metadata": {},
   "outputs": [],
   "source": []
  },
  {
   "cell_type": "code",
   "execution_count": 10,
   "id": "510ffae1",
   "metadata": {},
   "outputs": [
    {
     "name": "stdout",
     "output_type": "stream",
     "text": [
      "84\n",
      "27\n"
     ]
    }
   ],
   "source": [
    "# generate training set for training model\n",
    "features = []\n",
    "for index in range(0, len(oc_files)):\n",
    "    #features.append(final_til_features[index]+collagen_features[index])\n",
    "    features.append(collagen_features[index])\n",
    "    #features.append(final_til_features[index])\n",
    "print(len(features))\n",
    "print(len(features[0]))"
   ]
  },
  {
   "cell_type": "code",
   "execution_count": 11,
   "id": "2741841f",
   "metadata": {},
   "outputs": [
    {
     "name": "stdout",
     "output_type": "stream",
     "text": [
      "['../results/oc_collagen_features/win_1/TCGA-25-1878.csv', '../results/oc_collagen_features/win_1/TCGA-23-2643.csv', '../results/oc_collagen_features/win_1/TCGA-23-1809.csv', '../results/oc_collagen_features/win_1/TCGA-25-1313.csv', '../results/oc_collagen_features/win_1/TCGA-23-1028.csv', '../results/oc_collagen_features/win_1/TCGA-23-2079.csv', '../results/oc_collagen_features/win_1/TCGA-23-2078.csv', '../results/oc_collagen_features/win_1/TCGA-23-1029.csv', '../results/oc_collagen_features/win_1/TCGA-25-1312.csv', '../results/oc_collagen_features/win_1/TCGA-5X-AA5U.csv', '../results/oc_collagen_features/win_1/TCGA-25-2396.csv', '../results/oc_collagen_features/win_1/TCGA-23-2084.csv', '../results/oc_collagen_features/win_1/TCGA-23-2641.csv', '../results/oc_collagen_features/win_1/TCGA-25-2397.csv', '../results/oc_collagen_features/win_1/TCGA-25-2393.csv', '../results/oc_collagen_features/win_1/TCGA-23-2645.csv', '../results/oc_collagen_features/win_1/TCGA-25-1329.csv', '../results/oc_collagen_features/win_1/TCGA-25-1315.csv', '../results/oc_collagen_features/win_1/TCGA-23-2081.csv', '../results/oc_collagen_features/win_1/TCGA-25-1314.csv', '../results/oc_collagen_features/win_1/TCGA-25-1328.csv', '../results/oc_collagen_features/win_1/TCGA-25-2392.csv', '../results/oc_collagen_features/win_1/TCGA-25-2409.csv', '../results/oc_collagen_features/win_1/TCGA-25-1316.csv', '../results/oc_collagen_features/win_1/TCGA-25-1317.csv', '../results/oc_collagen_features/win_1/TCGA-23-2647.csv', '../results/oc_collagen_features/win_1/TCGA-25-2391.csv', '../results/oc_collagen_features/win_1/TCGA-25-1628.csv', '../results/oc_collagen_features/win_1/TCGA-23-1117.csv', '../results/oc_collagen_features/win_1/TCGA-57-1582.csv', '../results/oc_collagen_features/win_1/TCGA-57-1583.csv', '../results/oc_collagen_features/win_1/TCGA-23-1116.csv', '../results/oc_collagen_features/win_1/TCGA-42-2593.csv', '../results/oc_collagen_features/win_1/TCGA-42-2587.csv', '../results/oc_collagen_features/win_1/TCGA-42-2591.csv', '../results/oc_collagen_features/win_1/TCGA-42-2590.csv', '../results/oc_collagen_features/win_1/TCGA-OY-A56P.csv', '../results/oc_collagen_features/win_1/TCGA-57-1585.csv', '../results/oc_collagen_features/win_1/TCGA-OY-A56Q.csv', '../results/oc_collagen_features/win_1/TCGA-57-1586.csv', '../results/oc_collagen_features/win_1/TCGA-42-2582.csv', '../results/oc_collagen_features/win_1/TCGA-25-1635.csv', '../results/oc_collagen_features/win_1/TCGA-23-1122.csv', '../results/oc_collagen_features/win_1/TCGA-57-1992.csv', '../results/oc_collagen_features/win_1/TCGA-57-1993.csv', '../results/oc_collagen_features/win_1/TCGA-23-1123.csv', '../results/oc_collagen_features/win_1/TCGA-25-1634.csv', '../results/oc_collagen_features/win_1/TCGA-23-1121.csv', '../results/oc_collagen_features/win_1/TCGA-23-1120.csv', '../results/oc_collagen_features/win_1/TCGA-25-1627.csv', '../results/oc_collagen_features/win_1/TCGA-42-2589.csv', '../results/oc_collagen_features/win_1/TCGA-25-1633.csv', '../results/oc_collagen_features/win_1/TCGA-23-1118.csv', '../results/oc_collagen_features/win_1/TCGA-WR-A838.csv', '../results/oc_collagen_features/win_1/TCGA-57-1994.csv', '../results/oc_collagen_features/win_1/TCGA-23-1119.csv', '../results/oc_collagen_features/win_1/TCGA-25-1632.csv', '../results/oc_collagen_features/win_1/TCGA-42-2588.csv', '../results/oc_collagen_features/win_1/TCGA-25-1626.csv', '../results/oc_collagen_features/win_1/TCGA-25-1630.csv', '../results/oc_collagen_features/win_1/TCGA-25-1625.csv', '../results/oc_collagen_features/win_1/TCGA-25-1631.csv', '../results/oc_collagen_features/win_1/TCGA-25-1871.csv', '../results/oc_collagen_features/win_1/TCGA-25-1326.csv', '../results/oc_collagen_features/win_1/TCGA-23-1021.csv', '../results/oc_collagen_features/win_1/TCGA-25-2404.csv', '../results/oc_collagen_features/win_1/TCGA-25-1870.csv', '../results/oc_collagen_features/win_1/TCGA-23-2649.csv', '../results/oc_collagen_features/win_1/TCGA-23-2072.csv', '../results/oc_collagen_features/win_1/TCGA-23-1023.csv', '../results/oc_collagen_features/win_1/TCGA-25-1877.csv', '../results/oc_collagen_features/win_1/TCGA-23-1027.csv', '../results/oc_collagen_features/win_1/TCGA-23-2077.csv', '../results/oc_collagen_features/win_1/TCGA-23-1026.csv', '../results/oc_collagen_features/win_1/TCGA-23-1032.csv', '../results/oc_collagen_features/win_1/TCGA-59-A5PD.csv', '../results/oc_collagen_features/win_1/TCGA-25-2399.csv', '../results/oc_collagen_features/win_1/TCGA-25-2400.csv', '../results/oc_collagen_features/win_1/TCGA-23-1024.csv', '../results/oc_collagen_features/win_1/TCGA-23-1030.csv', '../results/oc_collagen_features/win_1/TCGA-3P-A9WA.csv', '../results/oc_collagen_features/win_1/TCGA-23-1031.csv', '../results/oc_collagen_features/win_1/TCGA-25-2401.csv', '../results/oc_collagen_features/win_1/TCGA-25-2398.csv']\n"
     ]
    }
   ],
   "source": [
    "print(oc_files)"
   ]
  },
  {
   "cell_type": "code",
   "execution_count": 12,
   "id": "8fb55c91",
   "metadata": {},
   "outputs": [],
   "source": [
    "# final training information to be used for training model\n",
    "features = np.array(features)\n",
    "y = np.array(y)\n",
    "event = np.array(event)\n",
    "survival_time = np.array(survival_time)"
   ]
  },
  {
   "cell_type": "code",
   "execution_count": 13,
   "id": "30438eb6",
   "metadata": {},
   "outputs": [
    {
     "name": "stdout",
     "output_type": "stream",
     "text": [
      "0.6066599609637767 0.041192712476230124\n",
      "1.0\n"
     ]
    }
   ],
   "source": [
    "# main code for training\n",
    "iter_scores = []\n",
    "max_score = -1\n",
    "dt = dtype=[('Status', '?'), ('Survival_in_days', '<f8')]\n",
    "for iter in range(100):\n",
    "    model_score = []\n",
    "    kf = KFold(n_splits=10, shuffle=True)\n",
    "    for train_index, test_index in kf.split(features):\n",
    "        # get the training and validation data\n",
    "        features_train, features_test = features[train_index], features[test_index]\n",
    "        y_train, y_test = y[train_index], y[test_index]\n",
    "        event_train, survival_time_train = event[train_index], survival_time[train_index]\n",
    "        event_test, survival_time_test = event[test_index], survival_time[test_index]\n",
    "        y_train = np.array([tuple(row) for row in y_train], dtype=dt)\n",
    "        y_test = np.array([tuple(row) for row in y_test], dtype=dt)\n",
    "        \n",
    "        # feature selection\n",
    "        scaler = MinMaxScaler()\n",
    "        features_train = scaler.fit_transform(features_train)\n",
    "        features_test = scaler.transform(features_test)\n",
    "        select = SelectKBest(score_func=chi2, k=23)\n",
    "        features_train_selected = select.fit_transform(features_train, survival_time_train)\n",
    "        features_test_selected = select.transform(features_test)\n",
    "        features_train_df = pd.DataFrame(features_train_selected)\n",
    "        features_test_df = pd.DataFrame(features_test_selected)\n",
    "        \n",
    "        # fit model\n",
    "        estimator = CoxnetSurvivalAnalysis(l1_ratio=0.9, alpha_min_ratio=0.01)\n",
    "        estimator.fit(features_train_df, y_train)\n",
    "        \n",
    "        # score on validation set\n",
    "        score, _, _, _, _ = concordance_index_censored(event_test, survival_time_test, estimator.predict(features_test_df))\n",
    "        model_score.append(score)\n",
    "        if score > max_score:\n",
    "            max_score = score\n",
    "    \n",
    "    if len(model_score) > 0:\n",
    "        iter_scores.append(np.mean(model_score))\n",
    "        max_score = max(max(model_score), max_score)\n",
    "print(np.mean(iter_scores), np.std(iter_scores))\n",
    "print(max_score)"
   ]
  },
  {
   "cell_type": "code",
   "execution_count": 14,
   "id": "05d0d5e6",
   "metadata": {},
   "outputs": [
    {
     "data": {
      "text/plain": [
       "(array([ 1.,  2.,  1., 11., 11., 18., 18., 24.,  8.,  6.]),\n",
       " array([0.47341662, 0.49504942, 0.51668221, 0.53831501, 0.5599478 ,\n",
       "        0.5815806 , 0.60321339, 0.62484619, 0.64647898, 0.66811178,\n",
       "        0.68974458]),\n",
       " <BarContainer object of 10 artists>)"
      ]
     },
     "execution_count": 14,
     "metadata": {},
     "output_type": "execute_result"
    },
    {
     "data": {
      "image/png": "[encoded data removed]",
      "text/plain": [
       "<Figure size 432x288 with 1 Axes>"
      ]
     },
     "metadata": {
      "needs_background": "light"
     },
     "output_type": "display_data"
    }
   ],
   "source": [
    "# histogram of c-indexes obtained after cross validation analysis\n",
    "plt.hist(iter_scores, bins=10)"
   ]
  },
  {
   "cell_type": "code",
   "execution_count": 15,
   "id": "7d6950b6",
   "metadata": {},
   "outputs": [
    {
     "data": {
      "text/plain": [
       "CoxnetSurvivalAnalysis(alpha_min_ratio=0.01, l1_ratio=0.9)"
      ]
     },
     "execution_count": 15,
     "metadata": {},
     "output_type": "execute_result"
    }
   ],
   "source": [
    "# model to be used for external validation\n",
    "features_train = features\n",
    "y_train = y\n",
    "event_train, survival_time_train = event, survival_time\n",
    "dt = dtype=[('Status', '?'), ('Survival_in_days', '<f8')]\n",
    "y_train = np.array([tuple(row) for row in y_train], dtype=dt)\n",
    "        \n",
    "# feature selection\n",
    "scaler = MinMaxScaler()\n",
    "features_train = scaler.fit_transform(features_train)\n",
    "select = SelectKBest(score_func=chi2, k=23)\n",
    "features_train_selected = select.fit_transform(features_train, survival_time_train)\n",
    "features_train_df = pd.DataFrame(features_train_selected)\n",
    "        \n",
    "# fit model\n",
    "estimator = CoxnetSurvivalAnalysis(l1_ratio=0.9, alpha_min_ratio=0.01)\n",
    "estimator.fit(features_train_df, y_train)"
   ]
  },
  {
   "cell_type": "code",
   "execution_count": 16,
   "id": "54e50739",
   "metadata": {},
   "outputs": [
    {
     "name": "stdout",
     "output_type": "stream",
     "text": [
      "1\n",
      "9\n",
      "10\n",
      "13\n",
      "14\n",
      "15\n",
      "16\n",
      "18\n",
      "20\n",
      "21\n",
      "\n",
      "Prognostic features count = 10\n"
     ]
    }
   ],
   "source": [
    "# find prognostic features from model trained above\n",
    "count = 0\n",
    "for index1 in range(0, len(estimator.coef_)):\n",
    "    flag = -1\n",
    "    for index2 in range(0, len(estimator.coef_[index1])):\n",
    "        if estimator.coef_[index1][index2] > 0:\n",
    "            flag = 1\n",
    "            print(index1)\n",
    "            break\n",
    "    if flag == 1:\n",
    "        count += 1\n",
    "print()\n",
    "print(\"Prognostic features count = \" + str(count))"
   ]
  },
  {
   "cell_type": "code",
   "execution_count": null,
   "id": "0f622393",
   "metadata": {},
   "outputs": [],
   "source": []
  }
 ],
 "metadata": {
  "kernelspec": {
   "display_name": "Python 3",
   "language": "python",
   "name": "python3"
  },
  "language_info": {
   "codemirror_mode": {
    "name": "ipython",
    "version": 3
   },
   "file_extension": ".py",
   "mimetype": "text/x-python",
   "name": "python",
   "nbconvert_exporter": "python",
   "pygments_lexer": "ipython3",
   "version": "3.8.8"
  }
 },
 "nbformat": 4,
 "nbformat_minor": 5
}
