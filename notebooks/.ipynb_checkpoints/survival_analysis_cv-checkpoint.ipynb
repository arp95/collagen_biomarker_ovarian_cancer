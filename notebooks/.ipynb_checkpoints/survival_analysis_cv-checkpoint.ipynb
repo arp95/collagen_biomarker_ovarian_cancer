{
 "cells": [
  {
   "cell_type": "code",
   "execution_count": 1,
   "id": "711e0b25",
   "metadata": {},
   "outputs": [
    {
     "name": "stdout",
     "output_type": "stream",
     "text": [
      "Header files loaded!\n"
     ]
    }
   ],
   "source": [
    "# header files\n",
    "import glob\n",
    "import csv\n",
    "import numpy as np\n",
    "import pandas as pd\n",
    "from sksurv.nonparametric import kaplan_meier_estimator\n",
    "from sksurv.linear_model import CoxnetSurvivalAnalysis\n",
    "from sksurv.ensemble import RandomSurvivalForest\n",
    "from sksurv.metrics import (\n",
    "    concordance_index_censored,\n",
    "    concordance_index_ipcw,\n",
    "    cumulative_dynamic_auc,\n",
    "    integrated_brier_score,\n",
    ")\n",
    "from sklearn.preprocessing import StandardScaler, MinMaxScaler, RobustScaler\n",
    "from sklearn.pipeline import make_pipeline\n",
    "from sklearn.model_selection import KFold\n",
    "from sklearn.model_selection import train_test_split\n",
    "import matplotlib.pyplot as plt\n",
    "print(\"Header files loaded!\")"
   ]
  },
  {
   "cell_type": "code",
   "execution_count": 2,
   "id": "8527b1c9",
   "metadata": {},
   "outputs": [],
   "source": [
    "# hyper-parameters\n",
    "is_ovarian_cancer = 1\n",
    "is_cervix_cancer = 0\n",
    "is_endometrial_cancer = 0"
   ]
  },
  {
   "cell_type": "code",
   "execution_count": 3,
   "id": "6f13ed4f",
   "metadata": {},
   "outputs": [
    {
     "name": "stdout",
     "output_type": "stream",
     "text": [
      "95\n"
     ]
    }
   ],
   "source": [
    "# load files\n",
    "oc_files = (glob.glob(\"../results/oc_collagen_features/s_1/*\"))\n",
    "#cc_files = (glob.glob(\"../results/cc_collagen_features/s_1/*\"))\n",
    "#ec_files = (glob.glob(\"../results/ec_collagen_features/s_1/*\"))\n",
    "print(len(oc_files))\n",
    "#print(len(cc_files))\n",
    "#print(len(ec_files))"
   ]
  },
  {
   "cell_type": "code",
   "execution_count": 4,
   "id": "4b002baf",
   "metadata": {},
   "outputs": [],
   "source": [
    "# collect features\n",
    "if is_ovarian_cancer:\n",
    "    collagen_features = []\n",
    "    for file in oc_files:\n",
    "        filename = file.split(\"/\")[-1]\n",
    "        flag = -1\n",
    "        file_features = []\n",
    "        with open(file, newline='') as csvfile:\n",
    "            spamreader = csv.reader(csvfile)\n",
    "            for row in spamreader:\n",
    "                if flag == -1:\n",
    "                    array = row\n",
    "                    for index in range(0, len(array)):\n",
    "                        file_features.append(float(array[index]))\n",
    "                    \n",
    "        with open(\"../results/oc_collagen_features/s_2/\" + filename, newline='') as csvfile:\n",
    "            spamreader = csv.reader(csvfile)\n",
    "            for row in spamreader:\n",
    "                if flag == -1:\n",
    "                    array = row\n",
    "                    for index in range(0, len(array)):\n",
    "                        file_features.append(float(array[index]))\n",
    "                    \n",
    "        with open(\"../results/oc_collagen_features/s_3/\" + filename, newline='') as csvfile:\n",
    "            spamreader = csv.reader(csvfile)\n",
    "            for row in spamreader:\n",
    "                if flag == -1:\n",
    "                    array = row\n",
    "                    for index in range(0, len(array)):\n",
    "                        file_features.append(float(array[index]))\n",
    "                    \n",
    "        with open(\"../results/oc_collagen_features/s_4/\" + filename, newline='') as csvfile:\n",
    "            spamreader = csv.reader(csvfile)\n",
    "            for row in spamreader:\n",
    "                if flag == -1:\n",
    "                    array = row\n",
    "                    for index in range(0, len(array)):\n",
    "                        file_features.append(float(array[index]))\n",
    "                    \n",
    "        with open(\"../results/oc_collagen_features/s_5/\" + filename, newline='') as csvfile:\n",
    "            spamreader = csv.reader(csvfile)\n",
    "            for row in spamreader:\n",
    "                if flag == -1:\n",
    "                    array = row\n",
    "                    for index in range(0, len(array)):\n",
    "                        file_features.append(float(array[index]))\n",
    "                    \n",
    "        with open(\"../results/oc_collagen_features/s_6/\" + filename, newline='') as csvfile:\n",
    "            spamreader = csv.reader(csvfile)\n",
    "            for row in spamreader:\n",
    "                if flag == -1:\n",
    "                    array = row\n",
    "                    for index in range(0, len(array)):\n",
    "                        file_features.append(float(array[index]))\n",
    "                    \n",
    "        with open(\"../results/oc_collagen_features/s_7/\" + filename, newline='') as csvfile:\n",
    "            spamreader = csv.reader(csvfile)\n",
    "            for row in spamreader:\n",
    "                if flag == -1:\n",
    "                    array = row\n",
    "                    for index in range(0, len(array)):\n",
    "                        file_features.append(float(array[index]))\n",
    "                    \n",
    "        with open(\"../results/oc_collagen_features/s_8/\" + filename, newline='') as csvfile:\n",
    "            spamreader = csv.reader(csvfile)\n",
    "            for row in spamreader:\n",
    "                if flag == -1:\n",
    "                    array = row\n",
    "                    for index in range(0, len(array)):\n",
    "                        file_features.append(float(array[index]))\n",
    "                    \n",
    "        with open(\"../results/oc_collagen_features/s_9/\" + filename, newline='') as csvfile:\n",
    "            spamreader = csv.reader(csvfile)\n",
    "            for row in spamreader:\n",
    "                if flag == -1:\n",
    "                    array = row\n",
    "                    for index in range(0, len(array)):\n",
    "                        file_features.append(float(array[index]))\n",
    "        collagen_features.append(file_features)"
   ]
  },
  {
   "cell_type": "code",
   "execution_count": 5,
   "id": "0a66f49c",
   "metadata": {},
   "outputs": [
    {
     "name": "stdout",
     "output_type": "stream",
     "text": [
      "103\n",
      "103\n",
      "103\n",
      "103\n"
     ]
    }
   ],
   "source": [
    "# Sepideh OC Spatil features\n",
    "if is_ovarian_cancer:\n",
    "    til_features = []\n",
    "    censor = []\n",
    "    days = []\n",
    "    filenames = []\n",
    "    flag = -1\n",
    "    with open(\"../results/DATA_OC.csv\", newline='', encoding = \"ISO-8859-1\") as csvfile:\n",
    "        spamreader = csv.reader(csvfile)\n",
    "        for row in spamreader:\n",
    "            if flag == -1:\n",
    "                flag = 1\n",
    "            else:\n",
    "                array = row\n",
    "            \n",
    "                filenames.append(array[0])\n",
    "                features = [float(array[5]), float(array[6]), float(array[7])]\n",
    "                til_features.append(features)\n",
    "            \n",
    "                censor.append(bool(int(array[20])))\n",
    "                days.append(int(array[23]))\n",
    "    print(len(filenames))\n",
    "    print(len(til_features))\n",
    "    print(len(censor))\n",
    "    print(len(days))\n",
    "else:\n",
    "    print(\"Not running for Ovarian Cancer Cases!\")"
   ]
  },
  {
   "cell_type": "code",
   "execution_count": 6,
   "id": "dfc04c23",
   "metadata": {},
   "outputs": [
    {
     "name": "stdout",
     "output_type": "stream",
     "text": [
      "TCGA-23-1021\n",
      "[-0.420431852, -0.429332933, -0.614347094]\n",
      "[2.0773, 0.072555, 2.1027, 0.63186, 2.2962, 2.099, 0.069127, 2.1168, 0.52204, 2.3004, 2.1159, 0.074679, 2.1339, 0.55915, 2.2901, 2.131, 0.074034, 2.1554, 0.64197, 2.2891, 2.133, 0.074745, 2.1515, 0.63186, 2.2857, 2.1474, 0.079333, 2.1708, 0.67688, 2.2845, 2.1575, 0.071682, 2.1802, 0.92646, 2.2858, 2.1558, 0.077518, 2.1691, 0.6504, 2.2821, 2.1659, 0.075811, 2.1905, 1.0546, 2.2864]\n",
      "True\n",
      "1446\n"
     ]
    }
   ],
   "source": [
    "# example of features collected\n",
    "print(filenames[0])\n",
    "print(til_features[0])\n",
    "print(collagen_features[0])\n",
    "print(censor[0])\n",
    "print(days[0])"
   ]
  },
  {
   "cell_type": "code",
   "execution_count": 7,
   "id": "58d6ebd5",
   "metadata": {},
   "outputs": [
    {
     "name": "stdout",
     "output_type": "stream",
     "text": [
      "95\n",
      "95\n",
      "95\n",
      "95\n"
     ]
    }
   ],
   "source": [
    "# Sepideh OC Spatil features and create output survival information for training model\n",
    "if is_ovarian_cancer:\n",
    "    final_til_features = []\n",
    "    y = []\n",
    "    event = []\n",
    "    survival_time = []\n",
    "    for file in oc_files:\n",
    "        count = 0\n",
    "        filename1 = file.split(\"/\")[-1][:-4]\n",
    "        for filename in filenames:\n",
    "            filename2 = filename\n",
    "            if filename1 == filename2:\n",
    "                final_til_features.append(til_features[count])\n",
    "                y.append([censor[count], days[count]])\n",
    "                event.append(censor[count])\n",
    "                survival_time.append(days[count])\n",
    "            count += 1\n",
    "    print(len(final_til_features))\n",
    "    print(len(y))\n",
    "    print(len(event))\n",
    "    print(len(survival_time))\n",
    "else:\n",
    "    print(\"Not running for Ovarian Cancer Cases!\")"
   ]
  },
  {
   "cell_type": "code",
   "execution_count": 8,
   "id": "facabfb8",
   "metadata": {},
   "outputs": [
    {
     "name": "stdout",
     "output_type": "stream",
     "text": [
      "95\n",
      "7\n"
     ]
    }
   ],
   "source": [
    "# prognostic features obtained for OC cases\n",
    "if is_ovarian_cancer:\n",
    "    final_collagen_features = []\n",
    "    index = 0\n",
    "    for features in collagen_features:\n",
    "        final_collagen_features.append([features[5], features[44], features[20], features[25], features[39], features[42], features[1]])\n",
    "    print(len(final_collagen_features))\n",
    "    print(len(final_collagen_features[0]))\n",
    "else:\n",
    "    final_collagen_features = collagen_features\n",
    "    print(len(final_collagen_features))\n",
    "    print(len(final_collagen_features[0]))"
   ]
  },
  {
   "cell_type": "code",
   "execution_count": null,
   "id": "922dd38e",
   "metadata": {},
   "outputs": [],
   "source": []
  },
  {
   "cell_type": "code",
   "execution_count": 9,
   "id": "510ffae1",
   "metadata": {},
   "outputs": [
    {
     "name": "stdout",
     "output_type": "stream",
     "text": [
      "95\n",
      "10\n"
     ]
    }
   ],
   "source": [
    "# generate training set for training model\n",
    "features = []\n",
    "for index in range(0, len(oc_files)):\n",
    "    features.append(final_til_features[index]+final_collagen_features[index])\n",
    "    #features.append(final_collagen_features[index])\n",
    "    #features.append(final_til_features[index])\n",
    "print(len(features))\n",
    "print(len(features[0]))"
   ]
  },
  {
   "cell_type": "code",
   "execution_count": 10,
   "id": "8fb55c91",
   "metadata": {},
   "outputs": [],
   "source": [
    "# final training information to be used for training model\n",
    "features = np.array(features)\n",
    "y = np.array(y)\n",
    "event = np.array(event)\n",
    "survival_time = np.array(survival_time)"
   ]
  },
  {
   "cell_type": "code",
   "execution_count": 11,
   "id": "30438eb6",
   "metadata": {},
   "outputs": [
    {
     "name": "stdout",
     "output_type": "stream",
     "text": [
      "0.7356423391057555 0.026957758485975637\n",
      "1.0\n",
      "[   0. 1000. 1000.    0.    0. 1000.    0. 1000. 1000.    4.]\n"
     ]
    }
   ],
   "source": [
    "# main code for training\n",
    "iter_scores = []\n",
    "max_score = -1\n",
    "max_train_index = []\n",
    "max_test_index = []\n",
    "dt = dtype=[('Status', '?'), ('Survival_in_days', '<f8')]\n",
    "prognostic_count = np.zeros(len(features[0]))\n",
    "for iter in range(100):\n",
    "    model_score = []\n",
    "    kf = KFold(n_splits=10, shuffle=True)\n",
    "    for train_index, test_index in kf.split(features):\n",
    "        # get the training and testing set\n",
    "        scaler = RobustScaler()\n",
    "        features_train, features_test = features[train_index], features[test_index]\n",
    "        features_train = scaler.fit_transform(features_train)\n",
    "        features_test = scaler.transform(features_test)\n",
    "        y_train, y_test = y[train_index], y[test_index]\n",
    "        event_test, survival_time_test = event[test_index], survival_time[test_index]\n",
    "        y_train = np.array([tuple(row) for row in y_train], dtype=dt)\n",
    "        y_test = np.array([tuple(row) for row in y_test], dtype=dt)\n",
    "        \n",
    "        # remove highly correlated features\n",
    "        features_train_df = pd.DataFrame(features_train)\n",
    "        features_test_df = pd.DataFrame(features_test)\n",
    "        \n",
    "        # fit model\n",
    "        estimator = CoxnetSurvivalAnalysis(l1_ratio=0.9, alpha_min_ratio=0.001)\n",
    "        estimator.fit(features_train_df, y_train)\n",
    "        \n",
    "        # score on validation set\n",
    "        #score = estimator.score(features_test_df, y_test)\n",
    "        score, _, _, _, _ = concordance_index_censored(event_test, survival_time_test, estimator.predict(features_test_df))\n",
    "        model_score.append(score)\n",
    "        if score > max_score:\n",
    "            max_train_index = train_index\n",
    "            max_test_index = test_index\n",
    "            max_score = score\n",
    "            \n",
    "        # update prognostic count\n",
    "        for index1 in range(0, len(estimator.coef_)):\n",
    "            flag = -1\n",
    "            for index2 in range(0, len(estimator.coef_[index1])):\n",
    "                if estimator.coef_[index1][index2] > 0:\n",
    "                    flag = 1\n",
    "                    break\n",
    "            if flag == 1:\n",
    "                prognostic_count[index1] += 1\n",
    "    \n",
    "    if len(model_score) > 0:\n",
    "        iter_scores.append(np.mean(model_score))\n",
    "        max_score = max(max(model_score), max_score)\n",
    "print(np.mean(iter_scores), np.std(iter_scores))\n",
    "print(max_score)\n",
    "print(prognostic_count)"
   ]
  },
  {
   "cell_type": "code",
   "execution_count": 12,
   "id": "05d0d5e6",
   "metadata": {},
   "outputs": [
    {
     "data": {
      "text/plain": [
       "(array([ 4.,  3.,  4.,  8., 17., 13., 20., 18.,  9.,  4.]),\n",
       " array([0.66474158, 0.67719644, 0.6896513 , 0.70210616, 0.71456102,\n",
       "        0.72701588, 0.73947074, 0.7519256 , 0.76438046, 0.77683532,\n",
       "        0.78929018]),\n",
       " <BarContainer object of 10 artists>)"
      ]
     },
     "execution_count": 12,
     "metadata": {},
     "output_type": "execute_result"
    },
    {
     "data": {
      "image/png": "[encoded data removed]",
      "text/plain": [
       "<Figure size 432x288 with 1 Axes>"
      ]
     },
     "metadata": {
      "needs_background": "light"
     },
     "output_type": "display_data"
    }
   ],
   "source": [
    "# histogram of c-indexes obtained after cross validation analysis\n",
    "plt.hist(iter_scores, bins=10)"
   ]
  },
  {
   "cell_type": "code",
   "execution_count": 13,
   "id": "7d6950b6",
   "metadata": {},
   "outputs": [
    {
     "name": "stdout",
     "output_type": "stream",
     "text": [
      "1.0\n"
     ]
    }
   ],
   "source": [
    "# run best model obtained from cross validation\n",
    "scaler = RobustScaler()\n",
    "features_train_final, features_val_final = features[max_train_index], features[max_test_index]\n",
    "features_train_final = scaler.fit_transform(features_train_final)\n",
    "features_val_final = scaler.transform(features_val_final)\n",
    "y_train_final, y_val_final = y[max_train_index], y[max_test_index]\n",
    "event_val_final, survival_time_val_final = event[max_test_index], survival_time[max_test_index]\n",
    "y_train_final = np.array([tuple(row) for row in y_train_final], dtype=dt)\n",
    "y_val_final = np.array([tuple(row) for row in y_val_final], dtype=dt)\n",
    "        \n",
    "# remove highly correlated features\n",
    "features_train_df_final = pd.DataFrame(features_train_final)\n",
    "features_val_df_final = pd.DataFrame(features_val_final)\n",
    "        \n",
    "# fit model\n",
    "estimator = CoxnetSurvivalAnalysis(l1_ratio=0.9, alpha_min_ratio=0.001)\n",
    "estimator.fit(features_train_df_final, y_train_final)\n",
    "        \n",
    "# score on validation set\n",
    "score, _, _, _, _ = concordance_index_censored(event_val_final, survival_time_val_final, estimator.predict(features_val_df_final))\n",
    "print(score)"
   ]
  },
  {
   "cell_type": "code",
   "execution_count": 14,
   "id": "54e50739",
   "metadata": {},
   "outputs": [
    {
     "name": "stdout",
     "output_type": "stream",
     "text": [
      "1\n",
      "2\n",
      "5\n",
      "7\n",
      "8\n",
      "\n",
      "Prognostic features count = 5\n"
     ]
    }
   ],
   "source": [
    "# find prognostic features from best model trained above\n",
    "count = 0\n",
    "for index1 in range(0, len(estimator.coef_)):\n",
    "    flag = -1\n",
    "    for index2 in range(0, len(estimator.coef_[index1])):\n",
    "        if estimator.coef_[index1][index2] > 0:\n",
    "            flag = 1\n",
    "            print(index1)\n",
    "            break\n",
    "    if flag == 1:\n",
    "        count += 1\n",
    "print()\n",
    "print(\"Prognostic features count = \" + str(count))"
   ]
  },
  {
   "cell_type": "code",
   "execution_count": null,
   "id": "0f622393",
   "metadata": {},
   "outputs": [],
   "source": []
  }
 ],
 "metadata": {
  "kernelspec": {
   "display_name": "Python 3",
   "language": "python",
   "name": "python3"
  },
  "language_info": {
   "codemirror_mode": {
    "name": "ipython",
    "version": 3
   },
   "file_extension": ".py",
   "mimetype": "text/x-python",
   "name": "python",
   "nbconvert_exporter": "python",
   "pygments_lexer": "ipython3",
   "version": "3.8.8"
  }
 },
 "nbformat": 4,
 "nbformat_minor": 5
}
