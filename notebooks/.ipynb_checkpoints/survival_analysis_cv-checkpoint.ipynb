{
 "cells": [
  {
   "cell_type": "code",
   "execution_count": 1,
   "id": "711e0b25",
   "metadata": {},
   "outputs": [
    {
     "name": "stdout",
     "output_type": "stream",
     "text": [
      "Header files loaded!\n"
     ]
    }
   ],
   "source": [
    "# header files\n",
    "import glob\n",
    "import csv\n",
    "import numpy as np\n",
    "import pandas as pd\n",
    "from sksurv.nonparametric import kaplan_meier_estimator\n",
    "from sksurv.linear_model import CoxnetSurvivalAnalysis\n",
    "from sksurv.ensemble import RandomSurvivalForest\n",
    "from sklearn.preprocessing import StandardScaler, MinMaxScaler, RobustScaler\n",
    "from sklearn.pipeline import make_pipeline\n",
    "from sklearn.model_selection import KFold\n",
    "from sklearn.model_selection import train_test_split\n",
    "import matplotlib.pyplot as plt\n",
    "print(\"Header files loaded!\")"
   ]
  },
  {
   "cell_type": "code",
   "execution_count": 2,
   "id": "6f13ed4f",
   "metadata": {},
   "outputs": [
    {
     "name": "stdout",
     "output_type": "stream",
     "text": [
      "95\n"
     ]
    }
   ],
   "source": [
    "# load files\n",
    "files = (glob.glob(\"../../ovarian_cancer_results/collagen_final/sample_1/*\"))\n",
    "print(len(files))"
   ]
  },
  {
   "cell_type": "code",
   "execution_count": 3,
   "id": "624a8605",
   "metadata": {},
   "outputs": [
    {
     "name": "stdout",
     "output_type": "stream",
     "text": [
      "['../../ovarian_cancer_results/collagen_final/sample_1/TCGA-25-1878.csv', '../../ovarian_cancer_results/collagen_final/sample_1/TCGA-23-2643.csv', '../../ovarian_cancer_results/collagen_final/sample_1/TCGA-23-1809.csv', '../../ovarian_cancer_results/collagen_final/sample_1/TCGA-25-1313.csv', '../../ovarian_cancer_results/collagen_final/sample_1/TCGA-23-1028.csv', '../../ovarian_cancer_results/collagen_final/sample_1/TCGA-23-2079.csv', '../../ovarian_cancer_results/collagen_final/sample_1/TCGA-23-2078.csv', '../../ovarian_cancer_results/collagen_final/sample_1/TCGA-23-1029.csv', '../../ovarian_cancer_results/collagen_final/sample_1/TCGA-25-1312.csv', '../../ovarian_cancer_results/collagen_final/sample_1/TCGA-5X-AA5U.csv', '../../ovarian_cancer_results/collagen_final/sample_1/TCGA-25-2396.csv', '../../ovarian_cancer_results/collagen_final/sample_1/TCGA-23-2084.csv', '../../ovarian_cancer_results/collagen_final/sample_1/TCGA-23-2641.csv', '../../ovarian_cancer_results/collagen_final/sample_1/TCGA-25-2397.csv', '../../ovarian_cancer_results/collagen_final/sample_1/TCGA-25-2393.csv', '../../ovarian_cancer_results/collagen_final/sample_1/TCGA-23-2645.csv', '../../ovarian_cancer_results/collagen_final/sample_1/TCGA-25-1329.csv', '../../ovarian_cancer_results/collagen_final/sample_1/TCGA-25-1315.csv', '../../ovarian_cancer_results/collagen_final/sample_1/TCGA-23-2081.csv', '../../ovarian_cancer_results/collagen_final/sample_1/TCGA-25-1314.csv', '../../ovarian_cancer_results/collagen_final/sample_1/TCGA-25-1328.csv', '../../ovarian_cancer_results/collagen_final/sample_1/TCGA-25-2392.csv', '../../ovarian_cancer_results/collagen_final/sample_1/TCGA-25-2409.csv', '../../ovarian_cancer_results/collagen_final/sample_1/TCGA-25-1316.csv', '../../ovarian_cancer_results/collagen_final/sample_1/TCGA-25-1317.csv', '../../ovarian_cancer_results/collagen_final/sample_1/TCGA-23-2647.csv', '../../ovarian_cancer_results/collagen_final/sample_1/TCGA-25-2391.csv', '../../ovarian_cancer_results/collagen_final/sample_1/TCGA-25-1628.csv', '../../ovarian_cancer_results/collagen_final/sample_1/TCGA-23-1117.csv', '../../ovarian_cancer_results/collagen_final/sample_1/TCGA-57-1582.csv', '../../ovarian_cancer_results/collagen_final/sample_1/TCGA-57-1583.csv', '../../ovarian_cancer_results/collagen_final/sample_1/TCGA-23-1116.csv', '../../ovarian_cancer_results/collagen_final/sample_1/TCGA-42-2593.csv', '../../ovarian_cancer_results/collagen_final/sample_1/TCGA-42-2587.csv', '../../ovarian_cancer_results/collagen_final/sample_1/TCGA-42-2591.csv', '../../ovarian_cancer_results/collagen_final/sample_1/TCGA-42-2590.csv', '../../ovarian_cancer_results/collagen_final/sample_1/TCGA-OY-A56P.csv', '../../ovarian_cancer_results/collagen_final/sample_1/TCGA-23-1111.csv', '../../ovarian_cancer_results/collagen_final/sample_1/TCGA-57-1585.csv', '../../ovarian_cancer_results/collagen_final/sample_1/TCGA-23-1110.csv', '../../ovarian_cancer_results/collagen_final/sample_1/TCGA-OY-A56Q.csv', '../../ovarian_cancer_results/collagen_final/sample_1/TCGA-57-1586.csv', '../../ovarian_cancer_results/collagen_final/sample_1/TCGA-23-1107.csv', '../../ovarian_cancer_results/collagen_final/sample_1/TCGA-23-1113.csv', '../../ovarian_cancer_results/collagen_final/sample_1/TCGA-42-2582.csv', '../../ovarian_cancer_results/collagen_final/sample_1/TCGA-25-1635.csv', '../../ovarian_cancer_results/collagen_final/sample_1/TCGA-23-1122.csv', '../../ovarian_cancer_results/collagen_final/sample_1/TCGA-57-1992.csv', '../../ovarian_cancer_results/collagen_final/sample_1/TCGA-57-1993.csv', '../../ovarian_cancer_results/collagen_final/sample_1/TCGA-23-1123.csv', '../../ovarian_cancer_results/collagen_final/sample_1/TCGA-25-1634.csv', '../../ovarian_cancer_results/collagen_final/sample_1/TCGA-23-1109.csv', '../../ovarian_cancer_results/collagen_final/sample_1/TCGA-23-1121.csv', '../../ovarian_cancer_results/collagen_final/sample_1/TCGA-23-1120.csv', '../../ovarian_cancer_results/collagen_final/sample_1/TCGA-25-1627.csv', '../../ovarian_cancer_results/collagen_final/sample_1/TCGA-42-2589.csv', '../../ovarian_cancer_results/collagen_final/sample_1/TCGA-25-1633.csv', '../../ovarian_cancer_results/collagen_final/sample_1/TCGA-23-1118.csv', '../../ovarian_cancer_results/collagen_final/sample_1/TCGA-WR-A838.csv', '../../ovarian_cancer_results/collagen_final/sample_1/TCGA-57-1994.csv', '../../ovarian_cancer_results/collagen_final/sample_1/TCGA-23-1119.csv', '../../ovarian_cancer_results/collagen_final/sample_1/TCGA-25-1632.csv', '../../ovarian_cancer_results/collagen_final/sample_1/TCGA-42-2588.csv', '../../ovarian_cancer_results/collagen_final/sample_1/TCGA-25-1626.csv', '../../ovarian_cancer_results/collagen_final/sample_1/TCGA-25-1630.csv', '../../ovarian_cancer_results/collagen_final/sample_1/TCGA-25-1625.csv', '../../ovarian_cancer_results/collagen_final/sample_1/TCGA-25-1631.csv', '../../ovarian_cancer_results/collagen_final/sample_1/TCGA-25-1871.csv', '../../ovarian_cancer_results/collagen_final/sample_1/TCGA-25-1326.csv', '../../ovarian_cancer_results/collagen_final/sample_1/TCGA-23-1021.csv', '../../ovarian_cancer_results/collagen_final/sample_1/TCGA-25-2404.csv', '../../ovarian_cancer_results/collagen_final/sample_1/TCGA-25-1870.csv', '../../ovarian_cancer_results/collagen_final/sample_1/TCGA-23-2649.csv', '../../ovarian_cancer_results/collagen_final/sample_1/TCGA-25-1325.csv', '../../ovarian_cancer_results/collagen_final/sample_1/TCGA-23-2072.csv', '../../ovarian_cancer_results/collagen_final/sample_1/TCGA-23-1023.csv', '../../ovarian_cancer_results/collagen_final/sample_1/TCGA-25-1324.csv', '../../ovarian_cancer_results/collagen_final/sample_1/TCGA-25-1877.csv', '../../ovarian_cancer_results/collagen_final/sample_1/TCGA-25-1320.csv', '../../ovarian_cancer_results/collagen_final/sample_1/TCGA-23-1027.csv', '../../ovarian_cancer_results/collagen_final/sample_1/TCGA-23-2077.csv', '../../ovarian_cancer_results/collagen_final/sample_1/TCGA-23-1026.csv', '../../ovarian_cancer_results/collagen_final/sample_1/TCGA-23-1032.csv', '../../ovarian_cancer_results/collagen_final/sample_1/TCGA-25-1321.csv', '../../ovarian_cancer_results/collagen_final/sample_1/TCGA-59-A5PD.csv', '../../ovarian_cancer_results/collagen_final/sample_1/TCGA-25-2399.csv', '../../ovarian_cancer_results/collagen_final/sample_1/TCGA-25-2400.csv', '../../ovarian_cancer_results/collagen_final/sample_1/TCGA-25-1323.csv', '../../ovarian_cancer_results/collagen_final/sample_1/TCGA-23-1024.csv', '../../ovarian_cancer_results/collagen_final/sample_1/TCGA-23-1030.csv', '../../ovarian_cancer_results/collagen_final/sample_1/TCGA-3P-A9WA.csv', '../../ovarian_cancer_results/collagen_final/sample_1/TCGA-23-1031.csv', '../../ovarian_cancer_results/collagen_final/sample_1/TCGA-25-1322.csv', '../../ovarian_cancer_results/collagen_final/sample_1/TCGA-25-2401.csv', '../../ovarian_cancer_results/collagen_final/sample_1/TCGA-25-2398.csv']\n"
     ]
    }
   ],
   "source": [
    "print(files)"
   ]
  },
  {
   "cell_type": "code",
   "execution_count": 4,
   "id": "4b002baf",
   "metadata": {},
   "outputs": [],
   "source": [
    "# collect features\n",
    "collagen_features = []\n",
    "for file in files:\n",
    "    filename = file.split(\"/\")[-1]\n",
    "    flag = -1\n",
    "    file_features = []\n",
    "    with open(file, newline='') as csvfile:\n",
    "        spamreader = csv.reader(csvfile)\n",
    "        for row in spamreader:\n",
    "            if flag == -1:\n",
    "                array = row\n",
    "                for index in range(0, len(array)):\n",
    "                    file_features.append(float(array[index]))\n",
    "                    \n",
    "    with open(\"../../ovarian_cancer_results/collagen_final/sample_2/\" + filename, newline='') as csvfile:\n",
    "        spamreader = csv.reader(csvfile)\n",
    "        for row in spamreader:\n",
    "            if flag == -1:\n",
    "                array = row\n",
    "                for index in range(0, len(array)):\n",
    "                    file_features.append(float(array[index]))\n",
    "                    \n",
    "    with open(\"../../ovarian_cancer_results/collagen_final/sample_3/\" + filename, newline='') as csvfile:\n",
    "        spamreader = csv.reader(csvfile)\n",
    "        for row in spamreader:\n",
    "            if flag == -1:\n",
    "                array = row\n",
    "                for index in range(0, len(array)):\n",
    "                    file_features.append(float(array[index]))\n",
    "                    \n",
    "    with open(\"../../ovarian_cancer_results/collagen_final/sample_4/\" + filename, newline='') as csvfile:\n",
    "        spamreader = csv.reader(csvfile)\n",
    "        for row in spamreader:\n",
    "            if flag == -1:\n",
    "                array = row\n",
    "                for index in range(0, len(array)):\n",
    "                    file_features.append(float(array[index]))\n",
    "                    \n",
    "    with open(\"../../ovarian_cancer_results/collagen_final/sample_5/\" + filename, newline='') as csvfile:\n",
    "        spamreader = csv.reader(csvfile)\n",
    "        for row in spamreader:\n",
    "            if flag == -1:\n",
    "                array = row\n",
    "                for index in range(0, len(array)):\n",
    "                    file_features.append(float(array[index]))\n",
    "                    \n",
    "    with open(\"../../ovarian_cancer_results/collagen_final/sample_6/\" + filename, newline='') as csvfile:\n",
    "        spamreader = csv.reader(csvfile)\n",
    "        for row in spamreader:\n",
    "            if flag == -1:\n",
    "                array = row\n",
    "                for index in range(0, len(array)):\n",
    "                    file_features.append(float(array[index]))\n",
    "                    \n",
    "    with open(\"../../ovarian_cancer_results/collagen_final/sample_7/\" + filename, newline='') as csvfile:\n",
    "        spamreader = csv.reader(csvfile)\n",
    "        for row in spamreader:\n",
    "            if flag == -1:\n",
    "                array = row\n",
    "                for index in range(0, len(array)):\n",
    "                    file_features.append(float(array[index]))\n",
    "                    \n",
    "    with open(\"../../ovarian_cancer_results/collagen_final/sample_8/\" + filename, newline='') as csvfile:\n",
    "        spamreader = csv.reader(csvfile)\n",
    "        for row in spamreader:\n",
    "            if flag == -1:\n",
    "                array = row\n",
    "                for index in range(0, len(array)):\n",
    "                    file_features.append(float(array[index]))\n",
    "                    \n",
    "    with open(\"../../ovarian_cancer_results/collagen_final/sample_9/\" + filename, newline='') as csvfile:\n",
    "        spamreader = csv.reader(csvfile)\n",
    "        for row in spamreader:\n",
    "            if flag == -1:\n",
    "                array = row\n",
    "                for index in range(0, len(array)):\n",
    "                    file_features.append(float(array[index]))\n",
    "    collagen_features.append(file_features)"
   ]
  },
  {
   "cell_type": "code",
   "execution_count": 5,
   "id": "0a66f49c",
   "metadata": {},
   "outputs": [
    {
     "name": "stdout",
     "output_type": "stream",
     "text": [
      "103\n",
      "103\n",
      "103\n",
      "103\n"
     ]
    }
   ],
   "source": [
    "# Sepideh features\n",
    "til_features = []\n",
    "censor = []\n",
    "days = []\n",
    "filenames = []\n",
    "flag = -1\n",
    "with open(\"../../DATA_OC.csv\", newline='', encoding = \"ISO-8859-1\") as csvfile:\n",
    "    spamreader = csv.reader(csvfile)\n",
    "    for row in spamreader:\n",
    "        if flag == -1:\n",
    "            flag = 1\n",
    "        else:\n",
    "            array = row\n",
    "            \n",
    "            filenames.append(array[0])\n",
    "            features = [float(array[2]), float(array[4]), float(array[5]), float(array[6]), float(array[7])]\n",
    "            til_features.append(features)\n",
    "            \n",
    "            censor.append(bool(int(array[20])))\n",
    "            days.append(int(array[23]))\n",
    "print(len(filenames))\n",
    "print(len(til_features))\n",
    "print(len(censor))\n",
    "print(len(days))"
   ]
  },
  {
   "cell_type": "code",
   "execution_count": 6,
   "id": "dfc04c23",
   "metadata": {},
   "outputs": [
    {
     "name": "stdout",
     "output_type": "stream",
     "text": [
      "TCGA-23-1021\n",
      "[0.682027452, -0.280511172, -0.420431852, -0.429332933, -0.614347094]\n",
      "[2.0773, 0.63186, 2.2962, 1.6644, 2.099, 0.52204, 2.3004, 1.7784, 2.1159, 0.55915, 2.2901, 1.731, 2.131, 0.64197, 2.2891, 1.6471, 2.133, 0.63186, 2.2857, 1.6538, 2.1474, 0.67688, 2.2845, 1.6076, 2.1575, 0.92646, 2.2858, 1.3593, 2.1558, 0.6504, 2.2821, 1.6317, 2.1659, 1.0546, 2.2864, 1.2318]\n",
      "True\n",
      "1446\n"
     ]
    }
   ],
   "source": [
    "print(filenames[0])\n",
    "print(til_features[0])\n",
    "print(collagen_features[0])\n",
    "print(censor[0])\n",
    "print(days[0])"
   ]
  },
  {
   "cell_type": "code",
   "execution_count": 7,
   "id": "5f8f32bc",
   "metadata": {},
   "outputs": [
    {
     "name": "stdout",
     "output_type": "stream",
     "text": [
      "TCGA-25-1325\n",
      "[-0.862786584, -0.194419922, 1.478746708, -1.481532252, -0.222333269]\n",
      "[2.0278, 0.35668, 2.2969, 1.9403, 2.0674, 0.54058, 2.2927, 1.7521, 2.0891, 0.59001, 2.2965, 1.7065, 2.1073, 0.65272, 2.2929, 1.6402, 2.119, 0.63409, 2.2956, 1.6615, 2.1313, 0.63385, 2.2919, 1.6581, 2.1371, 0.59887, 2.2896, 1.6908, 2.1482, 0.50407, 2.2953, 1.7912, 2.1503, 0.684, 2.2926, 1.6086]\n",
      "True\n",
      "976\n"
     ]
    }
   ],
   "source": [
    "print(filenames[50])\n",
    "print(til_features[50])\n",
    "print(collagen_features[50])\n",
    "print(censor[50])\n",
    "print(days[50])"
   ]
  },
  {
   "cell_type": "code",
   "execution_count": 8,
   "id": "58d6ebd5",
   "metadata": {},
   "outputs": [
    {
     "name": "stdout",
     "output_type": "stream",
     "text": [
      "95\n",
      "95\n"
     ]
    }
   ],
   "source": [
    "final_til_features = []\n",
    "y = []\n",
    "for file in files:\n",
    "    count = 0\n",
    "    filename1 = file.split(\"/\")[-1][:-4]\n",
    "    for filename in filenames:\n",
    "        filename2 = filename\n",
    "        if filename1 == filename2:\n",
    "            final_til_features.append(til_features[count])\n",
    "            y.append([censor[count], days[count]])\n",
    "        count += 1\n",
    "print(len(final_til_features))\n",
    "print(len(y))"
   ]
  },
  {
   "cell_type": "code",
   "execution_count": 9,
   "id": "facabfb8",
   "metadata": {},
   "outputs": [
    {
     "name": "stdout",
     "output_type": "stream",
     "text": [
      "95\n"
     ]
    }
   ],
   "source": [
    "final_collagen_features = []\n",
    "for features in collagen_features:\n",
    "    final_collagen_features.append([features[32], features[21], features[4], features[13], features[34], features[16], features[20], features[30]])\n",
    "print(len(final_collagen_features))"
   ]
  },
  {
   "cell_type": "code",
   "execution_count": 10,
   "id": "510ffae1",
   "metadata": {},
   "outputs": [
    {
     "name": "stdout",
     "output_type": "stream",
     "text": [
      "95\n",
      "13\n"
     ]
    }
   ],
   "source": [
    "# generate training set\n",
    "features = []\n",
    "for index in range(0, 95):\n",
    "    features.append(final_til_features[index]+final_collagen_features[index])\n",
    "    #features.append(final_collagen_features[index])\n",
    "    #features.append(final_til_features[index])\n",
    "print(len(features))\n",
    "print(len(features[0]))"
   ]
  },
  {
   "cell_type": "code",
   "execution_count": 11,
   "id": "8fb55c91",
   "metadata": {},
   "outputs": [],
   "source": [
    "# training and validation set\n",
    "features = np.array(features)\n",
    "y = np.array(y)"
   ]
  },
  {
   "cell_type": "code",
   "execution_count": 12,
   "id": "30438eb6",
   "metadata": {},
   "outputs": [
    {
     "name": "stdout",
     "output_type": "stream",
     "text": [
      "0.7234139511540988 0.025113978126652035\n",
      "1.0\n",
      "[  19.  323.    0. 1000. 1000. 1000. 1000.    1.    0.    0. 1000.    0.\n",
      " 1000.]\n"
     ]
    }
   ],
   "source": [
    "# main code\n",
    "iter_scores = []\n",
    "max_score = -1\n",
    "max_train_index = []\n",
    "max_test_index = []\n",
    "dt = dtype=[('Status', '?'), ('Survival_in_days', '<f8')]\n",
    "prognostic_count = np.zeros(len(features[0]))\n",
    "for iter in range(100):\n",
    "    model_score = []\n",
    "    kf = KFold(n_splits=10, shuffle=True)\n",
    "    for train_index, test_index in kf.split(features):\n",
    "        # get the training and testing set\n",
    "        scaler = MinMaxScaler()\n",
    "        features_train, features_test = features[train_index], features[test_index]\n",
    "        features_train = scaler.fit_transform(features_train)\n",
    "        features_test = scaler.transform(features_test)\n",
    "        y_train, y_test = y[train_index], y[test_index]\n",
    "        y_train = np.array([tuple(row) for row in y_train], dtype=dt)\n",
    "        y_test = np.array([tuple(row) for row in y_test], dtype=dt)\n",
    "        \n",
    "        # remove highly correlated features\n",
    "        features_train_df = pd.DataFrame(features_train)\n",
    "        features_test_df = pd.DataFrame(features_test)\n",
    "        \n",
    "        # fit model\n",
    "        estimator = CoxnetSurvivalAnalysis(l1_ratio=0.99, alpha_min_ratio=0.001)\n",
    "        estimator.fit(features_train_df, y_train)\n",
    "        \n",
    "        # score on validation set\n",
    "        score = estimator.score(features_test_df, y_test)\n",
    "        model_score.append(score)\n",
    "        if score > max_score:\n",
    "            max_train_index = train_index\n",
    "            max_test_index = test_index\n",
    "            \n",
    "        # update prognostic count\n",
    "        for index1 in range(0, len(estimator.coef_)):\n",
    "            flag = -1\n",
    "            for index2 in range(0, len(estimator.coef_[index1])):\n",
    "                if estimator.coef_[index1][index2] > 0:\n",
    "                    flag = 1\n",
    "                    break\n",
    "            if flag == 1:\n",
    "                prognostic_count[index1] += 1\n",
    "    \n",
    "    if len(model_score) > 0:\n",
    "        iter_scores.append(np.mean(model_score))\n",
    "        max_score = max(max(model_score), max_score)\n",
    "print(np.mean(iter_scores), np.std(iter_scores))\n",
    "print(max_score)\n",
    "print(prognostic_count)"
   ]
  },
  {
   "cell_type": "code",
   "execution_count": 13,
   "id": "05d0d5e6",
   "metadata": {},
   "outputs": [
    {
     "data": {
      "text/plain": [
       "(array([ 6., 13., 19., 26., 18., 11.,  5.,  1.,  0.,  1.]),\n",
       " array([0.67129483, 0.68622986, 0.70116489, 0.71609992, 0.73103495,\n",
       "        0.74596998, 0.76090501, 0.77584004, 0.79077507, 0.8057101 ,\n",
       "        0.82064513]),\n",
       " <BarContainer object of 10 artists>)"
      ]
     },
     "execution_count": 13,
     "metadata": {},
     "output_type": "execute_result"
    },
    {
     "data": {
      "image/png": "[encoded data removed]",
      "text/plain": [
       "<Figure size 432x288 with 1 Axes>"
      ]
     },
     "metadata": {
      "needs_background": "light"
     },
     "output_type": "display_data"
    }
   ],
   "source": [
    "# histogram of c-indexes\n",
    "plt.hist(iter_scores, bins=10)"
   ]
  },
  {
   "cell_type": "code",
   "execution_count": 14,
   "id": "7d6950b6",
   "metadata": {},
   "outputs": [
    {
     "name": "stdout",
     "output_type": "stream",
     "text": [
      "1.0\n"
     ]
    }
   ],
   "source": [
    "# run best model\n",
    "scaler = MinMaxScaler()\n",
    "features_train, features_test = features[max_train_index], features[max_test_index]\n",
    "features_train = scaler.fit_transform(features_train)\n",
    "features_test = scaler.transform(features_test)\n",
    "y_train, y_test = y[max_train_index], y[max_test_index]\n",
    "y_train = np.array([tuple(row) for row in y_train], dtype=dt)\n",
    "y_test = np.array([tuple(row) for row in y_test], dtype=dt)\n",
    "        \n",
    "# remove highly correlated features\n",
    "features_train_df = pd.DataFrame(features_train)\n",
    "features_test_df = pd.DataFrame(features_test)\n",
    "        \n",
    "# fit model\n",
    "estimator = CoxnetSurvivalAnalysis(l1_ratio=0.99, alpha_min_ratio=0.001)\n",
    "estimator.fit(features_train_df, y_train)\n",
    "        \n",
    "# score on validation set\n",
    "score = estimator.score(features_test_df, y_test)\n",
    "print(score)"
   ]
  },
  {
   "cell_type": "code",
   "execution_count": 15,
   "id": "54e50739",
   "metadata": {},
   "outputs": [
    {
     "name": "stdout",
     "output_type": "stream",
     "text": [
      "3\n",
      "4\n",
      "5\n",
      "6\n",
      "10\n",
      "12\n",
      "\n",
      "Prognostic features count = 6\n"
     ]
    }
   ],
   "source": [
    "# find prognostic features\n",
    "count = 0\n",
    "for index1 in range(0, len(estimator.coef_)):\n",
    "    flag = -1\n",
    "    for index2 in range(0, len(estimator.coef_[index1])):\n",
    "        if estimator.coef_[index1][index2] > 0:\n",
    "            flag = 1\n",
    "            print(index1)\n",
    "            break\n",
    "    if flag == 1:\n",
    "        count += 1\n",
    "print()\n",
    "print(\"Prognostic features count = \" + str(count))"
   ]
  },
  {
   "cell_type": "code",
   "execution_count": null,
   "id": "0f622393",
   "metadata": {},
   "outputs": [],
   "source": []
  }
 ],
 "metadata": {
  "kernelspec": {
   "display_name": "Python 3",
   "language": "python",
   "name": "python3"
  },
  "language_info": {
   "codemirror_mode": {
    "name": "ipython",
    "version": 3
   },
   "file_extension": ".py",
   "mimetype": "text/x-python",
   "name": "python",
   "nbconvert_exporter": "python",
   "pygments_lexer": "ipython3",
   "version": "3.8.8"
  }
 },
 "nbformat": 4,
 "nbformat_minor": 5
}
