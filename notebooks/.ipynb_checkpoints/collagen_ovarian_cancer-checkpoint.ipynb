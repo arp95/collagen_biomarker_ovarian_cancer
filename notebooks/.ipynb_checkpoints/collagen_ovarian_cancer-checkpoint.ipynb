{
 "cells": [
  {
   "cell_type": "code",
   "execution_count": 1,
   "id": "abebc41f",
   "metadata": {},
   "outputs": [
    {
     "name": "stdout",
     "output_type": "stream",
     "text": [
      "Header files loaded\n"
     ]
    }
   ],
   "source": [
    "# header files\n",
    "import numpy as np\n",
    "import cv2\n",
    "from skimage.feature import local_binary_pattern\n",
    "from skimage.color import rgb2gray\n",
    "from skimage import io\n",
    "\n",
    "print(\"Header files loaded\")"
   ]
  },
  {
   "cell_type": "code",
   "execution_count": 92,
   "id": "fa6a7846",
   "metadata": {},
   "outputs": [],
   "source": [
    "# define image path\n",
    "image_path = \"../../sample_patches_ovarian_cancer_data/TCGA-25-2401_14000_38000.png\"\n",
    "epi_stroma_mask_path = \"../../sample_patches_ovarian_cancer_data/epithelium_stroma_masks/TCGA-25-2401_14000_38000_epi_stroma_mask.png\"\n",
    "nuclei_mask_path = \"../../sample_patches_ovarian_cancer_data/nuclei_masks/TCGA-25-2401_14000_38000.png\""
   ]
  },
  {
   "cell_type": "code",
   "execution_count": 93,
   "id": "d8e35bf2",
   "metadata": {},
   "outputs": [],
   "source": [
    "# hyperparameters\n",
    "lbp_radius = 3\n",
    "lbp_numpoints = 9"
   ]
  },
  {
   "cell_type": "code",
   "execution_count": 94,
   "id": "e5505baa",
   "metadata": {},
   "outputs": [
    {
     "name": "stdout",
     "output_type": "stream",
     "text": [
      "(2000, 2000, 3)\n",
      "(2000, 2000)\n",
      "(2000, 2000)\n"
     ]
    }
   ],
   "source": [
    "# read image and convert it to grayscale\n",
    "image = io.imread(image_path)\n",
    "image_gray = rgb2gray(image)\n",
    "\n",
    "\n",
    "# create image empty mask for removing collagen from empty area\n",
    "image_empty = np.ones((image.shape[0], image.shape[1]))*255\n",
    "for index1 in range(0, image.shape[0]):\n",
    "    for index2 in range(0, image.shape[1]):\n",
    "        if image[index1, index2, 0]>200 and image[index1, index2, 1]>200 and image[index1, index2, 2]>200:\n",
    "            image_empty[index1, index2] = 0\n",
    "            \n",
    "ret, image_empty_orig = cv2.threshold(image_empty, 200, 255, cv2.THRESH_BINARY)\n",
    "output_image_empty = cv2.connectedComponentsWithStats(np.uint8(image_empty_orig), 8, cv2.CV_32S)\n",
    "(num_labels, labels, stats, centroids) = output_image_empty            \n",
    "image_empty_mask = np.zeros(image_empty.shape, dtype=\"uint8\")\n",
    "for index in range(1, num_labels):\n",
    "    w = stats[index, cv2.CC_STAT_WIDTH]\n",
    "    h = stats[index, cv2.CC_STAT_HEIGHT]\n",
    "    if w>50 or h>50:\n",
    "        componentMask = (labels == index).astype(\"uint8\")*255\n",
    "        image_empty_mask = cv2.bitwise_or(image_empty_mask, componentMask)\n",
    "        \n",
    "ret, image_empty_inv = cv2.threshold(image_empty_mask, 200, 255, cv2.THRESH_BINARY_INV)\n",
    "output_image_empty_inv = cv2.connectedComponentsWithStats(np.uint8(image_empty_inv), 8, cv2.CV_32S)\n",
    "(num_labels, labels, stats, centroids) = output_image_empty_inv            \n",
    "image_empty_mask_inv = np.zeros(image_empty_inv.shape, dtype=\"uint8\")\n",
    "for index in range(1, num_labels):\n",
    "    w = stats[index, cv2.CC_STAT_WIDTH]\n",
    "    h = stats[index, cv2.CC_STAT_HEIGHT]\n",
    "    if w>50 or h>50:\n",
    "        componentMask = (labels == index).astype(\"uint8\")*255\n",
    "        image_empty_mask_inv = cv2.bitwise_or(image_empty_mask_inv, componentMask)\n",
    "ret, image_empty_mask = cv2.threshold(image_empty_mask_inv, 200, 255, cv2.THRESH_BINARY_INV)\n",
    "\n",
    "\n",
    "# print shapes of the images\n",
    "print(image.shape)\n",
    "print(image_gray.shape)\n",
    "print(image_empty_mask.shape)"
   ]
  },
  {
   "cell_type": "code",
   "execution_count": 95,
   "id": "ba1d2b9d",
   "metadata": {},
   "outputs": [
    {
     "name": "stdout",
     "output_type": "stream",
     "text": [
      "(2000, 2000, 3)\n",
      "(2000, 2000)\n",
      "(2000, 2000)\n"
     ]
    }
   ],
   "source": [
    "# read image and then convert to grayscale\n",
    "image = io.imread(image_path)\n",
    "image_gray = rgb2gray(image)\n",
    "\n",
    "\n",
    "# create image red mask and remove collagen from red area\n",
    "image_red = np.ones((image.shape[0], image.shape[1]))*255\n",
    "for index1 in range(0, image.shape[0]):\n",
    "    for index2 in range(0, image.shape[1]):\n",
    "        if image[index1, index2, 0]>200 and image[index1, index2, 1]<50 and image[index1, index2, 2]<50:\n",
    "            image_red[index1, index2] = 0\n",
    "            \n",
    "ret, image_red_orig = cv2.threshold(image_red, 200, 255, cv2.THRESH_BINARY)\n",
    "output_image_red = cv2.connectedComponentsWithStats(np.uint8(image_red_orig), 8, cv2.CV_32S)\n",
    "(num_labels, labels, stats, centroids) = output_image_red\n",
    "image_red_mask = np.zeros(image_red.shape, dtype=\"uint8\")\n",
    "for index in range(1, num_labels):\n",
    "    w = stats[index, cv2.CC_STAT_WIDTH]\n",
    "    h = stats[index, cv2.CC_STAT_HEIGHT]\n",
    "    if w>50 or h>50:\n",
    "        componentMask = (labels == index).astype(\"uint8\")*255\n",
    "        image_red_mask = cv2.bitwise_or(image_red_mask, componentMask)\n",
    "        \n",
    "ret, image_red_inv = cv2.threshold(image_red_mask, 200, 255, cv2.THRESH_BINARY_INV)\n",
    "output_image_red_inv = cv2.connectedComponentsWithStats(np.uint8(image_red_inv), 8, cv2.CV_32S)\n",
    "(num_labels, labels, stats, centroids) = output_image_red_inv            \n",
    "image_red_mask_inv = np.zeros(image_red_inv.shape, dtype=\"uint8\")\n",
    "for index in range(1, num_labels):\n",
    "    w = stats[index, cv2.CC_STAT_WIDTH]\n",
    "    h = stats[index, cv2.CC_STAT_HEIGHT]\n",
    "    if w>50 or h>50:\n",
    "        componentMask = (labels == index).astype(\"uint8\")*255\n",
    "        image_red_mask_inv = cv2.bitwise_or(image_red_mask_inv, componentMask)\n",
    "ret, image_red_mask = cv2.threshold(image_red_mask_inv, 200, 255, cv2.THRESH_BINARY_INV)\n",
    "\n",
    "\n",
    "# print shapes of the images\n",
    "print(image.shape)\n",
    "print(image_gray.shape)\n",
    "print(image_red_mask.shape)"
   ]
  },
  {
   "cell_type": "code",
   "execution_count": 96,
   "id": "d20cae90",
   "metadata": {},
   "outputs": [
    {
     "name": "stdout",
     "output_type": "stream",
     "text": [
      "(2000, 2000)\n"
     ]
    }
   ],
   "source": [
    "# get the corresponding epi region and remove collagen fiber from there\n",
    "epi_stroma_mask = io.imread(epi_stroma_mask_path)\n",
    "ret, epi_stroma_mask = cv2.threshold(epi_stroma_mask, 200, 255, cv2.THRESH_BINARY_INV)\n",
    "print(epi_stroma_mask.shape)"
   ]
  },
  {
   "cell_type": "code",
   "execution_count": 97,
   "id": "cd792a77",
   "metadata": {},
   "outputs": [
    {
     "name": "stdout",
     "output_type": "stream",
     "text": [
      "(2000, 2000)\n"
     ]
    }
   ],
   "source": [
    "# get the corresponding nuclei region and remove collagen fiber from there\n",
    "nuclei_mask = io.imread(nuclei_mask_path)\n",
    "ret, nuclei_mask = cv2.threshold(nuclei_mask, 200, 255, cv2.THRESH_BINARY_INV)\n",
    "print(nuclei_mask.shape)"
   ]
  },
  {
   "cell_type": "code",
   "execution_count": 98,
   "id": "0de8b178",
   "metadata": {},
   "outputs": [
    {
     "name": "stdout",
     "output_type": "stream",
     "text": [
      "(2000, 2000)\n"
     ]
    }
   ],
   "source": [
    "# apply local binary pattern texture descriptor\n",
    "lbp_image_gray = local_binary_pattern(image_gray, lbp_numpoints, lbp_radius, \"ror\")\n",
    "\n",
    "\n",
    "# post processing: thresholding and then apply connected component analysis\n",
    "ret, lbp_image_gray = cv2.threshold(lbp_image_gray, 200, 255, cv2.THRESH_BINARY)\n",
    "output = cv2.connectedComponentsWithStats(np.uint8(lbp_image_gray), 8, cv2.CV_32S)\n",
    "(num_labels, labels, stats, centroids) = output\n",
    "\n",
    "\n",
    "# form collagen mask\n",
    "collagen_mask = np.zeros(lbp_image_gray.shape, dtype=\"uint8\")\n",
    "for index in range(1, num_labels):\n",
    "    w = stats[index, cv2.CC_STAT_WIDTH]\n",
    "    h = stats[index, cv2.CC_STAT_HEIGHT]\n",
    "    if w>7 or h>7:\n",
    "        componentMask = (labels == index).astype(\"uint8\")*255\n",
    "        collagen_mask = cv2.bitwise_or(collagen_mask, componentMask)\n",
    "        \n",
    "\n",
    "# print collagen mask shape\n",
    "print(collagen_mask.shape)"
   ]
  },
  {
   "cell_type": "code",
   "execution_count": 99,
   "id": "4e1719b4",
   "metadata": {},
   "outputs": [
    {
     "name": "stdout",
     "output_type": "stream",
     "text": [
      "(2000, 2000)\n"
     ]
    }
   ],
   "source": [
    "# remove collagen fibers from empty region, red region, epi region and stroma nuclei region\n",
    "collagen_mask = cv2.bitwise_and(collagen_mask, image_empty_mask)\n",
    "collagen_mask = cv2.bitwise_and(collagen_mask, image_red_mask)\n",
    "collagen_mask = cv2.bitwise_and(collagen_mask, epi_stroma_mask)\n",
    "collagen_mask = cv2.bitwise_and(collagen_mask, nuclei_mask)\n",
    "\n",
    "\n",
    "# get final collagen mask\n",
    "ret, collagen_mask = cv2.threshold(collagen_mask, 200, 255, cv2.THRESH_BINARY)\n",
    "final_output = cv2.connectedComponentsWithStats(np.uint8(collagen_mask), 8, cv2.CV_32S)\n",
    "(num_labels, labels, stats, centroids) = final_output\n",
    "\n",
    "\n",
    "# form collagen mask\n",
    "final_collagen_mask = np.zeros(collagen_mask.shape, dtype=\"uint8\")\n",
    "for index in range(1, num_labels):\n",
    "    w = stats[index, cv2.CC_STAT_WIDTH]\n",
    "    h = stats[index, cv2.CC_STAT_HEIGHT]\n",
    "    if w>7 or h>7:\n",
    "        componentMask = (labels == index).astype(\"uint8\")*255\n",
    "        final_collagen_mask = cv2.bitwise_or(final_collagen_mask, componentMask)\n",
    "        \n",
    "        \n",
    "# print final collagen mask shape\n",
    "print(final_collagen_mask.shape)"
   ]
  },
  {
   "cell_type": "code",
   "execution_count": null,
   "id": "81ffaf08",
   "metadata": {},
   "outputs": [],
   "source": [
    "cv2.imwrite(\"../results/collagen_case_3.png\", final_collagen_mask)"
   ]
  },
  {
   "cell_type": "code",
   "execution_count": null,
   "id": "9802cc4e",
   "metadata": {},
   "outputs": [],
   "source": []
  },
  {
   "cell_type": "code",
   "execution_count": 100,
   "id": "f1547919",
   "metadata": {},
   "outputs": [
    {
     "name": "stdout",
     "output_type": "stream",
     "text": [
      "(2000, 2000, 3)\n"
     ]
    }
   ],
   "source": [
    "# overlay image\n",
    "collagen_mask = cv2.cvtColor(final_collagen_mask, cv2.COLOR_GRAY2BGR)\n",
    "image_updated = cv2.cvtColor(image, cv2.COLOR_RGB2BGR)\n",
    "collagen_image_overlay = cv2.addWeighted(collagen_mask, 0.8, image_updated, 1, 0.0)\n",
    "\n",
    "\n",
    "# print collagen_image_overlay shape\n",
    "print(collagen_image_overlay.shape)"
   ]
  },
  {
   "cell_type": "code",
   "execution_count": 101,
   "id": "28b48c20",
   "metadata": {},
   "outputs": [
    {
     "data": {
      "text/plain": [
       "True"
      ]
     },
     "execution_count": 101,
     "metadata": {},
     "output_type": "execute_result"
    }
   ],
   "source": [
    "cv2.imwrite(\"../../sample_patches_ovarian_cancer_data/collagen_masks/TCGA-25-2401_14000_38000.png\", collagen_image_overlay)"
   ]
  },
  {
   "cell_type": "code",
   "execution_count": null,
   "id": "107c049c",
   "metadata": {},
   "outputs": [],
   "source": []
  }
 ],
 "metadata": {
  "kernelspec": {
   "display_name": "Python 3",
   "language": "python",
   "name": "python3"
  },
  "language_info": {
   "codemirror_mode": {
    "name": "ipython",
    "version": 3
   },
   "file_extension": ".py",
   "mimetype": "text/x-python",
   "name": "python",
   "nbconvert_exporter": "python",
   "pygments_lexer": "ipython3",
   "version": "3.8.8"
  }
 },
 "nbformat": 4,
 "nbformat_minor": 5
}
