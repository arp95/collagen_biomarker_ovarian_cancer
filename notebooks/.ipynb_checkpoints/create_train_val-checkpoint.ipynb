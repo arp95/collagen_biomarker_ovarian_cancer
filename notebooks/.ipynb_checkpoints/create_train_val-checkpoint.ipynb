{
 "cells": [
  {
   "cell_type": "code",
   "execution_count": 1,
   "id": "95e7d091",
   "metadata": {},
   "outputs": [],
   "source": [
    "import scipy, importlib, pprint, matplotlib.pyplot as plt, warnings\n",
    "#from glmnet import glmnet; from glmnetPlot import glmnetPlot \n",
    "#from glmnetPrint import glmnetPrint; from glmnetCoef import glmnetCoef; from glmnetPredict import glmnetPredict\n",
    "#from cvglmnet import cvglmnet; from cvglmnetCoef import cvglmnetCoef\n",
    "#from cvglmnetPlot import cvglmnetPlot; from cvglmnetPredict import cvglmnetPredict\n",
    "import glob\n",
    "import csv\n",
    "import numpy as np\n",
    "from sksurv.nonparametric import kaplan_meier_estimator\n",
    "from sksurv.linear_model import CoxPHSurvivalAnalysis\n",
    "from sksurv.preprocessing import OneHotEncoder\n",
    "%matplotlib inline\n",
    "import matplotlib.pyplot as plt\n",
    "from random import shuffle"
   ]
  },
  {
   "cell_type": "code",
   "execution_count": 2,
   "id": "0a3f6e54",
   "metadata": {},
   "outputs": [
    {
     "name": "stdout",
     "output_type": "stream",
     "text": [
      "90\n"
     ]
    }
   ],
   "source": [
    "files = (glob.glob(\"../../ovarian_cancer_results/collagen_final/features/*\"))\n",
    "shuffle(files)\n",
    "print(len(files))"
   ]
  },
  {
   "cell_type": "code",
   "execution_count": null,
   "id": "ef928f03",
   "metadata": {},
   "outputs": [],
   "source": [
    "with open('../notebooks/results_good/main_filenames.txt') as f:\n",
    "    lines = f.readlines()\n",
    "files = []\n",
    "for line in lines:\n",
    "    files.append(line[:len(line)-1])\n",
    "print(files)"
   ]
  },
  {
   "cell_type": "code",
   "execution_count": null,
   "id": "edceaabc",
   "metadata": {},
   "outputs": [],
   "source": [
    "#print(files)\n",
    "#textfile = open(\"filenames.txt\", \"w\")\n",
    "#for file in files:\n",
    "#    textfile.write(file + \"\\n\")\n",
    "#textfile.close()"
   ]
  },
  {
   "cell_type": "code",
   "execution_count": 3,
   "id": "807293f2",
   "metadata": {},
   "outputs": [
    {
     "name": "stdout",
     "output_type": "stream",
     "text": [
      "90\n"
     ]
    }
   ],
   "source": [
    "collagen_features = []\n",
    "for file in files:\n",
    "    flag = -1\n",
    "    file_features = []\n",
    "    with open(file, newline='') as csvfile:\n",
    "        spamreader = csv.reader(csvfile)\n",
    "        for row in spamreader:\n",
    "            if flag == -1:\n",
    "                array = row\n",
    "                for index in range(0, len(array)):\n",
    "                    file_features.append(float(array[index]))\n",
    "    collagen_features.append(file_features)\n",
    "print(len(collagen_features))"
   ]
  },
  {
   "cell_type": "code",
   "execution_count": 4,
   "id": "630b6a8b",
   "metadata": {},
   "outputs": [
    {
     "name": "stdout",
     "output_type": "stream",
     "text": [
      "90\n"
     ]
    }
   ],
   "source": [
    "f = []\n",
    "flag = -1\n",
    "with open(\"../../til_biomarkers_ovarian_cancer/data/features.csv\", newline='') as csvfile:\n",
    "    spamreader = csv.reader(csvfile)\n",
    "    for row in spamreader:\n",
    "        if flag == -1:\n",
    "            flag = 1\n",
    "        else:\n",
    "            array = row\n",
    "            ff = []\n",
    "            for index in range(1, len(array)):\n",
    "                ff.append(float(array[index]))\n",
    "            f.append(ff)\n",
    "\n",
    "til_features = []\n",
    "for file in files:\n",
    "    flag = -1\n",
    "    count = 0\n",
    "    target_file = file.split(\"/\")[-1]\n",
    "    with open(\"../../til_biomarkers_ovarian_cancer/data/filenames.csv\", newline='') as csvfile:\n",
    "        spamreader = csv.reader(csvfile)\n",
    "        for row in spamreader:\n",
    "            if flag == -1:\n",
    "                flag = 1\n",
    "            else:\n",
    "                array = row\n",
    "                file = array[1]\n",
    "                file = file.split(\"/\")[-1]\n",
    "                \n",
    "                if target_file == file:\n",
    "                    til_features.append(f[count])\n",
    "                count += 1\n",
    "print(len(til_features))"
   ]
  },
  {
   "cell_type": "code",
   "execution_count": 5,
   "id": "bf9944d5",
   "metadata": {},
   "outputs": [
    {
     "name": "stdout",
     "output_type": "stream",
     "text": [
      "90\n",
      "72\n"
     ]
    }
   ],
   "source": [
    "features = []\n",
    "for index in range(0, 90):\n",
    "    #features.append(til_features[index]+collagen_features[index])\n",
    "    features.append(collagen_features[index])\n",
    "print(len(features))\n",
    "print(len(features[0]))"
   ]
  },
  {
   "cell_type": "code",
   "execution_count": 6,
   "id": "35b580ba",
   "metadata": {},
   "outputs": [
    {
     "name": "stdout",
     "output_type": "stream",
     "text": [
      "72\n"
     ]
    }
   ],
   "source": [
    "print(len(features[0]))"
   ]
  },
  {
   "cell_type": "code",
   "execution_count": 7,
   "id": "22c40b86",
   "metadata": {},
   "outputs": [],
   "source": [
    "train_features = []\n",
    "val_features = []\n",
    "count = 0\n",
    "for index in range(30, 90):\n",
    "    count += 1\n",
    "    current_features = []\n",
    "    current_features.append(count)\n",
    "    for index1 in range(0, len(features[index])):\n",
    "        current_features.append(features[index][index1])\n",
    "    train_features.append(current_features)\n",
    "\n",
    "'''\n",
    "for index in range(60, 90):\n",
    "    count += 1\n",
    "    current_features = []\n",
    "    current_features.append(count)\n",
    "    for index1 in range(0, len(features[index])):\n",
    "        current_features.append(features[index][index1])\n",
    "    train_features.append(current_features)\n",
    "'''\n",
    "\"\"\"\n",
    "for index in range(0, 27, 2):\n",
    "    count += 1\n",
    "    current_features = []\n",
    "    current_features.append(count)\n",
    "    for index1 in range(0, len(features[index])):\n",
    "        current_features.append(features[index][index1])\n",
    "    train_features.append(current_features)\n",
    "\"\"\"\n",
    "    \n",
    "count = 0\n",
    "for index in range(0, 30):\n",
    "    count += 1\n",
    "    current_features = []\n",
    "    current_features.append(count)\n",
    "    for index1 in range(0, len(features[index])):\n",
    "        current_features.append(features[index][index1])\n",
    "    val_features.append(current_features)"
   ]
  },
  {
   "cell_type": "code",
   "execution_count": 8,
   "id": "ec04a133",
   "metadata": {},
   "outputs": [
    {
     "name": "stdout",
     "output_type": "stream",
     "text": [
      "60\n",
      "30\n"
     ]
    }
   ],
   "source": [
    "print(len(train_features))\n",
    "print(len(val_features))"
   ]
  },
  {
   "cell_type": "code",
   "execution_count": 9,
   "id": "8250ebc9",
   "metadata": {},
   "outputs": [
    {
     "name": "stdout",
     "output_type": "stream",
     "text": [
      "73\n",
      "73\n"
     ]
    }
   ],
   "source": [
    "print(len(train_features[0]))\n",
    "print(len(val_features[0]))"
   ]
  },
  {
   "cell_type": "code",
   "execution_count": 10,
   "id": "687d4195",
   "metadata": {},
   "outputs": [
    {
     "name": "stdout",
     "output_type": "stream",
     "text": [
      "73\n"
     ]
    }
   ],
   "source": [
    "rows = []\n",
    "rows.append(\"\")\n",
    "for index in range(1, 73):\n",
    "    rows.append(\"F_\" + str(index))\n",
    "print(len(rows))"
   ]
  },
  {
   "cell_type": "code",
   "execution_count": 11,
   "id": "1aada500",
   "metadata": {},
   "outputs": [
    {
     "name": "stdout",
     "output_type": "stream",
     "text": [
      "61\n"
     ]
    }
   ],
   "source": [
    "final_train_features = []\n",
    "final_train_features.append(rows)\n",
    "for index in range(0, len(train_features)):\n",
    "    final_train_features.append(train_features[index])\n",
    "print(len(final_train_features))"
   ]
  },
  {
   "cell_type": "code",
   "execution_count": 12,
   "id": "2dc47f48",
   "metadata": {},
   "outputs": [
    {
     "name": "stdout",
     "output_type": "stream",
     "text": [
      "31\n"
     ]
    }
   ],
   "source": [
    "final_val_features = []\n",
    "final_val_features.append(rows)\n",
    "for index in range(0, len(val_features)):\n",
    "    final_val_features.append(val_features[index])\n",
    "print(len(final_val_features))"
   ]
  },
  {
   "cell_type": "code",
   "execution_count": 13,
   "id": "f2b714d7",
   "metadata": {},
   "outputs": [],
   "source": [
    "# write csv file\n",
    "with open(\"train_features.csv\", 'w', newline='') as csvfile:\n",
    "    spamwriter = csv.writer(csvfile)\n",
    "    for index in range(0, len(final_train_features)):\n",
    "        spamwriter.writerow(final_train_features[index])"
   ]
  },
  {
   "cell_type": "code",
   "execution_count": 14,
   "id": "299f2fd4",
   "metadata": {},
   "outputs": [],
   "source": [
    "# write csv file\n",
    "with open(\"val_features.csv\", 'w', newline='') as csvfile:\n",
    "    spamwriter = csv.writer(csvfile)\n",
    "    for index in range(0, len(final_val_features)):\n",
    "        spamwriter.writerow(final_val_features[index])"
   ]
  },
  {
   "cell_type": "code",
   "execution_count": null,
   "id": "25999934",
   "metadata": {},
   "outputs": [],
   "source": []
  },
  {
   "cell_type": "code",
   "execution_count": 15,
   "id": "75db500b",
   "metadata": {},
   "outputs": [],
   "source": [
    "flag = -1\n",
    "new_filenames = []\n",
    "survival_info = []\n",
    "age_info = []\n",
    "with open(\"../../Ov_TCGA_data.csv\", newline='') as csvfile:\n",
    "    spamreader = csv.reader(csvfile)\n",
    "    for row in spamreader:\n",
    "        file_survival_info = []\n",
    "        if flag == -1:\n",
    "            flag = 1\n",
    "        else:\n",
    "            array = row\n",
    "            new_filenames.append(array[1])\n",
    "            \n",
    "            if array[7] == \"--\":\n",
    "                array[7] = 20000\n",
    "            \n",
    "            if array[10] == \"--\":\n",
    "                if array[len(array)-1] == \"--\":\n",
    "                    array[len(array)-1] = 50\n",
    "                file_survival_info.append(float(array[len(array)-1]))\n",
    "                file_survival_info.append(0)\n",
    "                age_info.append(float(array[7]))\n",
    "            else:\n",
    "                file_survival_info.append(float(array[10]))\n",
    "                file_survival_info.append(1)\n",
    "                age_info.append(float(array[7]))\n",
    "            survival_info.append(file_survival_info)"
   ]
  },
  {
   "cell_type": "code",
   "execution_count": 16,
   "id": "7651a445",
   "metadata": {},
   "outputs": [
    {
     "data": {
      "text/html": [
       "<div>\n",
       "<style scoped>\n",
       "    .dataframe tbody tr th:only-of-type {\n",
       "        vertical-align: middle;\n",
       "    }\n",
       "\n",
       "    .dataframe tbody tr th {\n",
       "        vertical-align: top;\n",
       "    }\n",
       "\n",
       "    .dataframe thead th {\n",
       "        text-align: right;\n",
       "    }\n",
       "</style>\n",
       "<table border=\"1\" class=\"dataframe\">\n",
       "  <thead>\n",
       "    <tr style=\"text-align: right;\">\n",
       "      <th></th>\n",
       "      <th>case_id</th>\n",
       "      <th>case_submitter_id</th>\n",
       "      <th>project_id</th>\n",
       "      <th>age_at_index</th>\n",
       "      <th>age_is_obfuscated</th>\n",
       "      <th>cause_of_death</th>\n",
       "      <th>cause_of_death_source</th>\n",
       "      <th>country_of_residence_at_enrollment</th>\n",
       "      <th>days_to_birth</th>\n",
       "      <th>days_to_death</th>\n",
       "      <th>...</th>\n",
       "      <th>treatment_arm</th>\n",
       "      <th>treatment_dose</th>\n",
       "      <th>treatment_dose_units</th>\n",
       "      <th>treatment_effect</th>\n",
       "      <th>treatment_effect_indicator</th>\n",
       "      <th>treatment_frequency</th>\n",
       "      <th>treatment_intent_type</th>\n",
       "      <th>treatment_or_therapy</th>\n",
       "      <th>treatment_outcome</th>\n",
       "      <th>treatment_type</th>\n",
       "    </tr>\n",
       "  </thead>\n",
       "  <tbody>\n",
       "    <tr>\n",
       "      <th>0</th>\n",
       "      <td>74dcdfb4-a637-4111-9a22-4b4bc7bbc8f7</td>\n",
       "      <td>TCGA-13-1495</td>\n",
       "      <td>TCGA-OV</td>\n",
       "      <td>60</td>\n",
       "      <td>'--</td>\n",
       "      <td>'--</td>\n",
       "      <td>'--</td>\n",
       "      <td>'--</td>\n",
       "      <td>-22046</td>\n",
       "      <td>2749</td>\n",
       "      <td>...</td>\n",
       "      <td>'--</td>\n",
       "      <td>'--</td>\n",
       "      <td>'--</td>\n",
       "      <td>'--</td>\n",
       "      <td>'--</td>\n",
       "      <td>'--</td>\n",
       "      <td>'--</td>\n",
       "      <td>yes</td>\n",
       "      <td>'--</td>\n",
       "      <td>Pharmaceutical Therapy, NOS</td>\n",
       "    </tr>\n",
       "    <tr>\n",
       "      <th>1</th>\n",
       "      <td>74dcdfb4-a637-4111-9a22-4b4bc7bbc8f7</td>\n",
       "      <td>TCGA-13-1495</td>\n",
       "      <td>TCGA-OV</td>\n",
       "      <td>60</td>\n",
       "      <td>'--</td>\n",
       "      <td>'--</td>\n",
       "      <td>'--</td>\n",
       "      <td>'--</td>\n",
       "      <td>-22046</td>\n",
       "      <td>2749</td>\n",
       "      <td>...</td>\n",
       "      <td>'--</td>\n",
       "      <td>'--</td>\n",
       "      <td>'--</td>\n",
       "      <td>'--</td>\n",
       "      <td>'--</td>\n",
       "      <td>'--</td>\n",
       "      <td>'--</td>\n",
       "      <td>no</td>\n",
       "      <td>'--</td>\n",
       "      <td>Radiation Therapy, NOS</td>\n",
       "    </tr>\n",
       "    <tr>\n",
       "      <th>2</th>\n",
       "      <td>f2ec64f5-a414-4c34-99c7-d59bc4e831e0</td>\n",
       "      <td>TCGA-24-1545</td>\n",
       "      <td>TCGA-OV</td>\n",
       "      <td>69</td>\n",
       "      <td>'--</td>\n",
       "      <td>'--</td>\n",
       "      <td>'--</td>\n",
       "      <td>'--</td>\n",
       "      <td>-25460</td>\n",
       "      <td>1746</td>\n",
       "      <td>...</td>\n",
       "      <td>'--</td>\n",
       "      <td>'--</td>\n",
       "      <td>'--</td>\n",
       "      <td>'--</td>\n",
       "      <td>'--</td>\n",
       "      <td>'--</td>\n",
       "      <td>'--</td>\n",
       "      <td>no</td>\n",
       "      <td>'--</td>\n",
       "      <td>Radiation Therapy, NOS</td>\n",
       "    </tr>\n",
       "    <tr>\n",
       "      <th>3</th>\n",
       "      <td>f2ec64f5-a414-4c34-99c7-d59bc4e831e0</td>\n",
       "      <td>TCGA-24-1545</td>\n",
       "      <td>TCGA-OV</td>\n",
       "      <td>69</td>\n",
       "      <td>'--</td>\n",
       "      <td>'--</td>\n",
       "      <td>'--</td>\n",
       "      <td>'--</td>\n",
       "      <td>-25460</td>\n",
       "      <td>1746</td>\n",
       "      <td>...</td>\n",
       "      <td>'--</td>\n",
       "      <td>'--</td>\n",
       "      <td>'--</td>\n",
       "      <td>'--</td>\n",
       "      <td>'--</td>\n",
       "      <td>'--</td>\n",
       "      <td>'--</td>\n",
       "      <td>yes</td>\n",
       "      <td>'--</td>\n",
       "      <td>Pharmaceutical Therapy, NOS</td>\n",
       "    </tr>\n",
       "    <tr>\n",
       "      <th>4</th>\n",
       "      <td>6fb71a0c-bc50-48c8-acfa-db94be1e151a</td>\n",
       "      <td>TCGA-29-1693</td>\n",
       "      <td>TCGA-OV</td>\n",
       "      <td>72</td>\n",
       "      <td>'--</td>\n",
       "      <td>'--</td>\n",
       "      <td>'--</td>\n",
       "      <td>'--</td>\n",
       "      <td>-26300</td>\n",
       "      <td>'--</td>\n",
       "      <td>...</td>\n",
       "      <td>'--</td>\n",
       "      <td>'--</td>\n",
       "      <td>'--</td>\n",
       "      <td>'--</td>\n",
       "      <td>'--</td>\n",
       "      <td>'--</td>\n",
       "      <td>'--</td>\n",
       "      <td>yes</td>\n",
       "      <td>'--</td>\n",
       "      <td>Radiation Therapy, NOS</td>\n",
       "    </tr>\n",
       "  </tbody>\n",
       "</table>\n",
       "<p>5 rows × 154 columns</p>\n",
       "</div>"
      ],
      "text/plain": [
       "                                case_id case_submitter_id project_id  \\\n",
       "0  74dcdfb4-a637-4111-9a22-4b4bc7bbc8f7      TCGA-13-1495    TCGA-OV   \n",
       "1  74dcdfb4-a637-4111-9a22-4b4bc7bbc8f7      TCGA-13-1495    TCGA-OV   \n",
       "2  f2ec64f5-a414-4c34-99c7-d59bc4e831e0      TCGA-24-1545    TCGA-OV   \n",
       "3  f2ec64f5-a414-4c34-99c7-d59bc4e831e0      TCGA-24-1545    TCGA-OV   \n",
       "4  6fb71a0c-bc50-48c8-acfa-db94be1e151a      TCGA-29-1693    TCGA-OV   \n",
       "\n",
       "   age_at_index age_is_obfuscated cause_of_death cause_of_death_source  \\\n",
       "0            60               '--            '--                   '--   \n",
       "1            60               '--            '--                   '--   \n",
       "2            69               '--            '--                   '--   \n",
       "3            69               '--            '--                   '--   \n",
       "4            72               '--            '--                   '--   \n",
       "\n",
       "  country_of_residence_at_enrollment days_to_birth days_to_death  ...  \\\n",
       "0                                '--        -22046          2749  ...   \n",
       "1                                '--        -22046          2749  ...   \n",
       "2                                '--        -25460          1746  ...   \n",
       "3                                '--        -25460          1746  ...   \n",
       "4                                '--        -26300           '--  ...   \n",
       "\n",
       "  treatment_arm treatment_dose treatment_dose_units treatment_effect  \\\n",
       "0           '--            '--                  '--              '--   \n",
       "1           '--            '--                  '--              '--   \n",
       "2           '--            '--                  '--              '--   \n",
       "3           '--            '--                  '--              '--   \n",
       "4           '--            '--                  '--              '--   \n",
       "\n",
       "  treatment_effect_indicator treatment_frequency treatment_intent_type  \\\n",
       "0                        '--                 '--                   '--   \n",
       "1                        '--                 '--                   '--   \n",
       "2                        '--                 '--                   '--   \n",
       "3                        '--                 '--                   '--   \n",
       "4                        '--                 '--                   '--   \n",
       "\n",
       "   treatment_or_therapy treatment_outcome               treatment_type  \n",
       "0                   yes               '--  Pharmaceutical Therapy, NOS  \n",
       "1                    no               '--       Radiation Therapy, NOS  \n",
       "2                    no               '--       Radiation Therapy, NOS  \n",
       "3                   yes               '--  Pharmaceutical Therapy, NOS  \n",
       "4                   yes               '--       Radiation Therapy, NOS  \n",
       "\n",
       "[5 rows x 154 columns]"
      ]
     },
     "execution_count": 16,
     "metadata": {},
     "output_type": "execute_result"
    }
   ],
   "source": [
    "import pandas as pd\n",
    "df = pd.read_csv(\"../../clinical.tsv\", sep='\\t')\n",
    "df.head()"
   ]
  },
  {
   "cell_type": "code",
   "execution_count": 17,
   "id": "b0ab8ef5",
   "metadata": {},
   "outputs": [],
   "source": [
    "df = df[['figo_stage', 'case_submitter_id']]"
   ]
  },
  {
   "cell_type": "code",
   "execution_count": 18,
   "id": "7602a406",
   "metadata": {},
   "outputs": [],
   "source": [
    "df['Status'] = df['case_submitter_id'].isin(f)"
   ]
  },
  {
   "cell_type": "code",
   "execution_count": 19,
   "id": "ffbccf23",
   "metadata": {},
   "outputs": [
    {
     "data": {
      "text/html": [
       "<div>\n",
       "<style scoped>\n",
       "    .dataframe tbody tr th:only-of-type {\n",
       "        vertical-align: middle;\n",
       "    }\n",
       "\n",
       "    .dataframe tbody tr th {\n",
       "        vertical-align: top;\n",
       "    }\n",
       "\n",
       "    .dataframe thead th {\n",
       "        text-align: right;\n",
       "    }\n",
       "</style>\n",
       "<table border=\"1\" class=\"dataframe\">\n",
       "  <thead>\n",
       "    <tr style=\"text-align: right;\">\n",
       "      <th></th>\n",
       "      <th>figo_stage</th>\n",
       "      <th>case_submitter_id</th>\n",
       "      <th>Status</th>\n",
       "    </tr>\n",
       "  </thead>\n",
       "  <tbody>\n",
       "  </tbody>\n",
       "</table>\n",
       "</div>"
      ],
      "text/plain": [
       "Empty DataFrame\n",
       "Columns: [figo_stage, case_submitter_id, Status]\n",
       "Index: []"
      ]
     },
     "execution_count": 19,
     "metadata": {},
     "output_type": "execute_result"
    }
   ],
   "source": [
    "df = df[df['Status'] == True]\n",
    "df"
   ]
  },
  {
   "cell_type": "code",
   "execution_count": 20,
   "id": "c7f4387f",
   "metadata": {},
   "outputs": [],
   "source": [
    "for index, row in df.iterrows():\n",
    "    print(row['case_submitter_id'] + \" \" + row[\"figo_stage\"])"
   ]
  },
  {
   "cell_type": "code",
   "execution_count": 21,
   "id": "b2ed3c30",
   "metadata": {},
   "outputs": [],
   "source": [
    "y = []\n",
    "for file in files:\n",
    "    file = file.split(\"/\")[-1][:-4]\n",
    "    count = 0\n",
    "    flag = -1\n",
    "    for filename in new_filenames:\n",
    "        if file == filename:\n",
    "            y.append(survival_info[count])\n",
    "            flag = 1\n",
    "        count += 1\n",
    "        \n",
    "    if flag == -1:\n",
    "        print(file)"
   ]
  },
  {
   "cell_type": "code",
   "execution_count": 22,
   "id": "3ed092f3",
   "metadata": {},
   "outputs": [
    {
     "name": "stdout",
     "output_type": "stream",
     "text": [
      "90\n"
     ]
    }
   ],
   "source": [
    "print(len(y))"
   ]
  },
  {
   "cell_type": "code",
   "execution_count": 23,
   "id": "a511eef7",
   "metadata": {},
   "outputs": [
    {
     "name": "stdout",
     "output_type": "stream",
     "text": [
      "60\n",
      "30\n"
     ]
    }
   ],
   "source": [
    "train_labels = []\n",
    "val_labels = []\n",
    "count = 0\n",
    "val_files = []\n",
    "for index in range(30, 90):\n",
    "    count += 1\n",
    "    current_labels = []\n",
    "    current_labels.append(count)\n",
    "    for index1 in range(0, len(y[index])):\n",
    "        current_labels.append(y[index][index1])\n",
    "    train_labels.append(current_labels)\n",
    "    \n",
    "'''\n",
    "for index in range(60, 90):\n",
    "    count += 1\n",
    "    current_labels = []\n",
    "    current_labels.append(count)\n",
    "    for index1 in range(0, len(y[index])):\n",
    "        current_labels.append(y[index][index1])\n",
    "    train_labels.append(current_labels)\n",
    "'''\n",
    "\"\"\"\n",
    "for index in range(0, 27, 2):\n",
    "    count += 1\n",
    "    current_labels = []\n",
    "    current_labels.append(count)\n",
    "    for index1 in range(0, len(y[index])):\n",
    "        current_labels.append(y[index][index1])\n",
    "    train_labels.append(current_labels)\n",
    "\"\"\"\n",
    "\n",
    "count = 0\n",
    "for index in range(0, 30):\n",
    "    val_files.append(files[index])\n",
    "    count += 1\n",
    "    current_labels = []\n",
    "    current_labels.append(count)\n",
    "    for index1 in range(0, len(y[index])):\n",
    "        current_labels.append(y[index][index1])\n",
    "    val_labels.append(current_labels)\n",
    "print(len(train_labels))\n",
    "print(len(val_labels))"
   ]
  },
  {
   "cell_type": "code",
   "execution_count": 24,
   "id": "5d6400d4",
   "metadata": {},
   "outputs": [],
   "source": [
    "rows = []\n",
    "rows.append(\"\")\n",
    "rows.append(\"Survival (in days)\")\n",
    "rows.append(\"Status\")"
   ]
  },
  {
   "cell_type": "code",
   "execution_count": 25,
   "id": "83e371dc",
   "metadata": {},
   "outputs": [
    {
     "name": "stdout",
     "output_type": "stream",
     "text": [
      "61\n"
     ]
    }
   ],
   "source": [
    "final_train_labels = []\n",
    "final_train_labels.append(rows)\n",
    "for index in range(0, len(train_labels)):\n",
    "    final_train_labels.append(train_labels[index])\n",
    "print(len(final_train_labels))"
   ]
  },
  {
   "cell_type": "code",
   "execution_count": 26,
   "id": "ba5acbc3",
   "metadata": {},
   "outputs": [
    {
     "name": "stdout",
     "output_type": "stream",
     "text": [
      "31\n"
     ]
    }
   ],
   "source": [
    "final_val_labels = []\n",
    "final_val_labels.append(rows)\n",
    "for index in range(0, len(val_labels)):\n",
    "    final_val_labels.append(val_labels[index])\n",
    "print(len(final_val_labels))"
   ]
  },
  {
   "cell_type": "code",
   "execution_count": 27,
   "id": "03eae724",
   "metadata": {},
   "outputs": [],
   "source": [
    "# write csv file\n",
    "with open(\"train_labels.csv\", 'w', newline='') as csvfile:\n",
    "    spamwriter = csv.writer(csvfile)\n",
    "    for index in range(0, len(final_train_labels)):\n",
    "        spamwriter.writerow(final_train_labels[index])"
   ]
  },
  {
   "cell_type": "code",
   "execution_count": 28,
   "id": "95d51f5d",
   "metadata": {},
   "outputs": [],
   "source": [
    "# write csv file\n",
    "with open(\"val_labels.csv\", 'w', newline='') as csvfile:\n",
    "    spamwriter = csv.writer(csvfile)\n",
    "    for index in range(0, len(final_val_labels)):\n",
    "        spamwriter.writerow(final_val_labels[index])"
   ]
  },
  {
   "cell_type": "code",
   "execution_count": null,
   "id": "573c408b",
   "metadata": {},
   "outputs": [],
   "source": []
  },
  {
   "cell_type": "code",
   "execution_count": null,
   "id": "92384b0e",
   "metadata": {},
   "outputs": [],
   "source": []
  }
 ],
 "metadata": {
  "kernelspec": {
   "display_name": "Python 3",
   "language": "python",
   "name": "python3"
  },
  "language_info": {
   "codemirror_mode": {
    "name": "ipython",
    "version": 3
   },
   "file_extension": ".py",
   "mimetype": "text/x-python",
   "name": "python",
   "nbconvert_exporter": "python",
   "pygments_lexer": "ipython3",
   "version": "3.8.8"
  }
 },
 "nbformat": 4,
 "nbformat_minor": 5
}
