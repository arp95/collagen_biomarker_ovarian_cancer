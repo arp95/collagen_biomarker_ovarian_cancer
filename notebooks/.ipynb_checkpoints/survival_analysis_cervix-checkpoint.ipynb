{
 "cells": [
  {
   "cell_type": "code",
   "execution_count": 1,
   "id": "711e0b25",
   "metadata": {},
   "outputs": [
    {
     "name": "stdout",
     "output_type": "stream",
     "text": [
      "Header files loaded!\n"
     ]
    }
   ],
   "source": [
    "# header files\n",
    "%matplotlib inline\n",
    "import glob\n",
    "import csv\n",
    "import numpy as np\n",
    "import pandas as pd\n",
    "from sksurv.nonparametric import kaplan_meier_estimator\n",
    "from sksurv.linear_model import CoxnetSurvivalAnalysis\n",
    "from sksurv.ensemble import RandomSurvivalForest\n",
    "from sksurv.metrics import (\n",
    "    concordance_index_censored,\n",
    "    concordance_index_ipcw,\n",
    "    cumulative_dynamic_auc,\n",
    "    integrated_brier_score,\n",
    ")\n",
    "from sklearn.preprocessing import StandardScaler, MinMaxScaler, RobustScaler\n",
    "from sklearn.pipeline import make_pipeline\n",
    "from sklearn.model_selection import KFold\n",
    "from sklearn.model_selection import train_test_split\n",
    "import matplotlib.pyplot as plt\n",
    "from sklearn.feature_selection import SelectKBest\n",
    "from sklearn.feature_selection import chi2, f_regression, f_classif\n",
    "import matplotlib.pyplot as plt\n",
    "plt.rcParams['figure.figsize'] = [100, 100]\n",
    "print(\"Header files loaded!\")"
   ]
  },
  {
   "cell_type": "code",
   "execution_count": 2,
   "id": "8527b1c9",
   "metadata": {},
   "outputs": [],
   "source": [
    "# hyper-parameters\n",
    "is_ovarian_cancer = 1\n",
    "is_cervix_cancer = 0\n",
    "is_endometrial_cancer = 0"
   ]
  },
  {
   "cell_type": "code",
   "execution_count": 3,
   "id": "6f13ed4f",
   "metadata": {},
   "outputs": [
    {
     "name": "stdout",
     "output_type": "stream",
     "text": [
      "95\n"
     ]
    }
   ],
   "source": [
    "# load ovarian cancer files\n",
    "if is_ovarian_cancer:\n",
    "    oc_files = (glob.glob(\"../results/oc_collagen_features/window_1/*\"))\n",
    "    print(len(oc_files))"
   ]
  },
  {
   "cell_type": "code",
   "execution_count": 4,
   "id": "4b002baf",
   "metadata": {},
   "outputs": [],
   "source": [
    "# collect features\n",
    "if is_ovarian_cancer:\n",
    "    collagen_features = []\n",
    "    for file in oc_files:\n",
    "        filename = file.split(\"/\")[-1]\n",
    "        flag = -1\n",
    "        file_features = []\n",
    "        with open(file, newline='') as csvfile:\n",
    "            spamreader = csv.reader(csvfile)\n",
    "            for row in spamreader:\n",
    "                if flag == -1:\n",
    "                    array = row\n",
    "                    for index in range(0, len(array)-1):\n",
    "                        file_features.append(float(array[index]))\n",
    "                    \n",
    "        with open(\"../results/oc_collagen_features/window_2/\" + filename, newline='') as csvfile:\n",
    "            spamreader = csv.reader(csvfile)\n",
    "            for row in spamreader:\n",
    "                if flag == -1:\n",
    "                    array = row\n",
    "                    for index in range(0, len(array)-1):\n",
    "                        file_features.append(float(array[index]))\n",
    "                    \n",
    "        with open(\"../results/oc_collagen_features/window_3/\" + filename, newline='') as csvfile:\n",
    "            spamreader = csv.reader(csvfile)\n",
    "            for row in spamreader:\n",
    "                if flag == -1:\n",
    "                    array = row\n",
    "                    for index in range(0, len(array)-1):\n",
    "                        file_features.append(float(array[index]))\n",
    "                    \n",
    "        with open(\"../results/oc_collagen_features/window_4/\" + filename, newline='') as csvfile:\n",
    "            spamreader = csv.reader(csvfile)\n",
    "            for row in spamreader:\n",
    "                if flag == -1:\n",
    "                    array = row\n",
    "                    for index in range(0, len(array)-1):\n",
    "                        file_features.append(float(array[index]))\n",
    "                    \n",
    "        with open(\"../results/oc_collagen_features/window_5/\" + filename, newline='') as csvfile:\n",
    "            spamreader = csv.reader(csvfile)\n",
    "            for row in spamreader:\n",
    "                if flag == -1:\n",
    "                    array = row\n",
    "                    for index in range(0, len(array)-1):\n",
    "                        file_features.append(float(array[index]))\n",
    "                    \n",
    "        with open(\"../results/oc_collagen_features/window_6/\" + filename, newline='') as csvfile:\n",
    "            spamreader = csv.reader(csvfile)\n",
    "            for row in spamreader:\n",
    "                if flag == -1:\n",
    "                    array = row\n",
    "                    for index in range(0, len(array)-1):\n",
    "                        file_features.append(float(array[index]))\n",
    "                    \n",
    "        with open(\"../results/oc_collagen_features/window_7/\" + filename, newline='') as csvfile:\n",
    "            spamreader = csv.reader(csvfile)\n",
    "            for row in spamreader:\n",
    "                if flag == -1:\n",
    "                    array = row\n",
    "                    for index in range(0, len(array)-1):\n",
    "                        file_features.append(float(array[index]))\n",
    "                    \n",
    "        with open(\"../results/oc_collagen_features/window_8/\" + filename, newline='') as csvfile:\n",
    "            spamreader = csv.reader(csvfile)\n",
    "            for row in spamreader:\n",
    "                if flag == -1:\n",
    "                    array = row\n",
    "                    for index in range(0, len(array)-1):\n",
    "                        file_features.append(float(array[index]))\n",
    "                    \n",
    "        with open(\"../results/oc_collagen_features/window_9/\" + filename, newline='') as csvfile:\n",
    "            spamreader = csv.reader(csvfile)\n",
    "            for row in spamreader:\n",
    "                if flag == -1:\n",
    "                    array = row\n",
    "                    for index in range(0, len(array)-1):\n",
    "                        file_features.append(float(array[index]))\n",
    "        collagen_features.append(file_features)"
   ]
  },
  {
   "cell_type": "code",
   "execution_count": 5,
   "id": "7b76ee33",
   "metadata": {},
   "outputs": [
    {
     "name": "stdout",
     "output_type": "stream",
     "text": [
      "['patient_name', 'SF1', 'SF2', 'SF3', 'SF4', 'SF5', 'SF6', 'SF7', 'cont_risk_score', 'binary_risk_score', 'WSI_Width', 'WSI_Height', 'year_of_birth', 'race', 'year_of_death', 'vital_status', 'Organ', 'treatment_type', 'Age', 'TTE', 'censor', 'Site', 'stage', 'OS_days', 'Vital', 'stage_numeric']\n",
      "95\n",
      "95\n",
      "95\n",
      "95\n"
     ]
    }
   ],
   "source": [
    "# create output survival information for training model and get til features\n",
    "if is_ovarian_cancer:\n",
    "    til_features = []\n",
    "    censor = []\n",
    "    days = []\n",
    "    filenames = []\n",
    "    flag = -1\n",
    "    with open(\"../results/DATA_OC.csv\", newline='', encoding = \"ISO-8859-1\") as csvfile:\n",
    "        spamreader = csv.reader(csvfile)\n",
    "        for row in spamreader:\n",
    "            if flag == -1:\n",
    "                flag = 1\n",
    "                print(row)\n",
    "            else:\n",
    "                array = row\n",
    "                filenames.append(array[0])\n",
    "                f_features = [float(array[1]), float(array[2]), float(array[3]), float(array[4]), float(array[5]), float(array[6]), float(array[7])]\n",
    "                til_features.append(f_features)\n",
    "                censor.append(bool(int(array[20])))\n",
    "                days.append(int(array[23]))\n",
    "                \n",
    "    final_til_features = []\n",
    "    y = []\n",
    "    event = []\n",
    "    survival_time = []\n",
    "    for file in oc_files:\n",
    "        count = 0\n",
    "        filename1 = file.split(\"/\")[-1][:-4]\n",
    "        for filename in filenames:\n",
    "            filename2 = filename\n",
    "            if filename1 == filename2:\n",
    "                final_til_features.append(til_features[count])\n",
    "                y.append([censor[count], days[count]])\n",
    "                event.append(censor[count])\n",
    "                survival_time.append(days[count])\n",
    "            count += 1\n",
    "    print(len(final_til_features))\n",
    "    print(len(y))\n",
    "    print(len(event))\n",
    "    print(len(survival_time))"
   ]
  },
  {
   "cell_type": "code",
   "execution_count": 6,
   "id": "510ffae1",
   "metadata": {},
   "outputs": [
    {
     "name": "stdout",
     "output_type": "stream",
     "text": [
      "95\n",
      "34\n"
     ]
    }
   ],
   "source": [
    "# generate training set for training model\n",
    "features = []\n",
    "for index in range(0, len(oc_files)):\n",
    "    features.append(final_til_features[index]+collagen_features[index])\n",
    "    #features.append(collagen_features[index])\n",
    "    #features.append(final_til_features[index])\n",
    "print(len(features))\n",
    "print(len(features[0]))"
   ]
  },
  {
   "cell_type": "code",
   "execution_count": 7,
   "id": "8fb55c91",
   "metadata": {},
   "outputs": [],
   "source": [
    "# final training information to be used for training model\n",
    "features = np.array(features)\n",
    "y = np.array(y)\n",
    "event = np.array(event)\n",
    "survival_time = np.array(survival_time)"
   ]
  },
  {
   "cell_type": "code",
   "execution_count": null,
   "id": "7d5cc6e4",
   "metadata": {},
   "outputs": [],
   "source": []
  },
  {
   "cell_type": "code",
   "execution_count": 8,
   "id": "0f622393",
   "metadata": {},
   "outputs": [
    {
     "name": "stdout",
     "output_type": "stream",
     "text": [
      "262\n"
     ]
    }
   ],
   "source": [
    "# load ovarian cancer files\n",
    "is_cervix_cancer = 1\n",
    "if is_cervix_cancer:\n",
    "    test_cc_files = (glob.glob(\"../../tcga_cervix_cancer/collagen_feature_maps_200_final/*\"))\n",
    "    print(len(test_cc_files))"
   ]
  },
  {
   "cell_type": "code",
   "execution_count": 9,
   "id": "d6f7c780",
   "metadata": {},
   "outputs": [],
   "source": [
    "# collect test features\n",
    "if is_cervix_cancer:\n",
    "    test_collagen_features = []\n",
    "    for file in test_cc_files:\n",
    "        filename = file.split(\"/\")[-1]\n",
    "        flag = -1\n",
    "        file_features = []\n",
    "        with open(file, newline='') as csvfile:\n",
    "            spamreader = csv.reader(csvfile)\n",
    "            for row in spamreader:\n",
    "                if flag == -1:\n",
    "                    array = row\n",
    "                    for index in range(0, len(array)-1):\n",
    "                        file_features.append(float(array[index]))\n",
    "                    \n",
    "        with open(\"../../tcga_cervix_cancer/collagen_feature_maps_250_final/\" + filename, newline='') as csvfile:\n",
    "            spamreader = csv.reader(csvfile)\n",
    "            for row in spamreader:\n",
    "                if flag == -1:\n",
    "                    array = row\n",
    "                    for index in range(0, len(array)-1):\n",
    "                        file_features.append(float(array[index]))\n",
    "                    \n",
    "        with open(\"../../tcga_cervix_cancer/collagen_feature_maps_300_final/\" + filename, newline='') as csvfile:\n",
    "            spamreader = csv.reader(csvfile)\n",
    "            for row in spamreader:\n",
    "                if flag == -1:\n",
    "                    array = row\n",
    "                    for index in range(0, len(array)-1):\n",
    "                        file_features.append(float(array[index]))\n",
    "                    \n",
    "        with open(\"../../tcga_cervix_cancer/collagen_feature_maps_350_final/\" + filename, newline='') as csvfile:\n",
    "            spamreader = csv.reader(csvfile)\n",
    "            for row in spamreader:\n",
    "                if flag == -1:\n",
    "                    array = row\n",
    "                    for index in range(0, len(array)-1):\n",
    "                        file_features.append(float(array[index]))\n",
    "                    \n",
    "        with open(\"../../tcga_cervix_cancer/collagen_feature_maps_400_final/\" + filename, newline='') as csvfile:\n",
    "            spamreader = csv.reader(csvfile)\n",
    "            for row in spamreader:\n",
    "                if flag == -1:\n",
    "                    array = row\n",
    "                    for index in range(0, len(array)-1):\n",
    "                        file_features.append(float(array[index]))\n",
    "                    \n",
    "        with open(\"../../tcga_cervix_cancer/collagen_feature_maps_450_final/\" + filename, newline='') as csvfile:\n",
    "            spamreader = csv.reader(csvfile)\n",
    "            for row in spamreader:\n",
    "                if flag == -1:\n",
    "                    array = row\n",
    "                    for index in range(0, len(array)-1):\n",
    "                        file_features.append(float(array[index]))\n",
    "                    \n",
    "        with open(\"../../tcga_cervix_cancer/collagen_feature_maps_500_final/\" + filename, newline='') as csvfile:\n",
    "            spamreader = csv.reader(csvfile)\n",
    "            for row in spamreader:\n",
    "                if flag == -1:\n",
    "                    array = row\n",
    "                    for index in range(0, len(array)-1):\n",
    "                        file_features.append(float(array[index]))\n",
    "                    \n",
    "        with open(\"../../tcga_cervix_cancer/collagen_feature_maps_550_final/\" + filename, newline='') as csvfile:\n",
    "            spamreader = csv.reader(csvfile)\n",
    "            for row in spamreader:\n",
    "                if flag == -1:\n",
    "                    array = row\n",
    "                    for index in range(0, len(array)-1):\n",
    "                        file_features.append(float(array[index]))\n",
    "                    \n",
    "        with open(\"../../tcga_cervix_cancer/collagen_feature_maps_600_final/\" + filename, newline='') as csvfile:\n",
    "            spamreader = csv.reader(csvfile)\n",
    "            for row in spamreader:\n",
    "                if flag == -1:\n",
    "                    array = row\n",
    "                    for index in range(0, len(array)-1):\n",
    "                        file_features.append(float(array[index]))\n",
    "        test_collagen_features.append(file_features)"
   ]
  },
  {
   "cell_type": "code",
   "execution_count": 10,
   "id": "57a6746f",
   "metadata": {},
   "outputs": [
    {
     "name": "stdout",
     "output_type": "stream",
     "text": [
      "['patient_name', 'SF1', 'SF2', 'SF3', 'SF4', 'SF5', 'SF6', 'SF7', 'cont_risk_score', 'binary_risk_score', 'file_name', 'WSI_Width', 'WSI_Height', 'year_of_birth', 'race', 'year_of_death', 'vital_status', 'Organ', 'treatment_type', 'Age', 'ajcc_pathologic_m', 'ajcc_pathologic_n', 'ajcc_pathologic_t', 'TTE', 'censor', 'thres', 'Site', 'stage', 'OS_days', 'Vital', 'Grade', 'BMI', 'plannedRegimen', 'stage_numeric', 'Cohort']\n",
      "140\n",
      "129\n"
     ]
    }
   ],
   "source": [
    "# create output survival information for training model and get til features\n",
    "if is_cervix_cancer:\n",
    "    til_features_chemo = []\n",
    "    censor_chemo = []\n",
    "    days_chemo = []\n",
    "    filenames_chemo = []\n",
    "    til_features_radio = []\n",
    "    censor_radio = []\n",
    "    days_radio = []\n",
    "    filenames_radio = []\n",
    "    flag = -1\n",
    "    with open(\"../../DATA.csv\", newline='', encoding = \"ISO-8859-1\") as csvfile:\n",
    "        spamreader = csv.reader(csvfile)\n",
    "        for row in spamreader:\n",
    "            if flag == -1:\n",
    "                flag = 1\n",
    "                print(row)\n",
    "            else:\n",
    "                array = row\n",
    "                if array[17] == \"Cervix\" and array[18] == \"Chemotherapy\":\n",
    "                    filenames_chemo.append(array[0])\n",
    "                    f_features = [float(array[1]), float(array[2]), float(array[3]), float(array[4]), float(array[5]), float(array[6]), float(array[7])]\n",
    "                    til_features_chemo.append(f_features)\n",
    "                    censor_chemo.append(bool(int(array[24])))\n",
    "                    days_chemo.append(int(array[23]))\n",
    "                    \n",
    "                if array[17] == \"Cervix\" and array[18] == \"Radiation Therapy\":\n",
    "                    filenames_radio.append(array[0])\n",
    "                    f_features = [float(array[1]), float(array[2]), float(array[3]), float(array[4]), float(array[5]), float(array[6]), float(array[7])]\n",
    "                    til_features_radio.append(f_features)\n",
    "                    censor_radio.append(bool(int(array[24])))\n",
    "                    days_radio.append(int(array[23]))\n",
    "    print(len(filenames_chemo))\n",
    "    print(len(filenames_radio))"
   ]
  },
  {
   "cell_type": "code",
   "execution_count": 11,
   "id": "9cd1f88f",
   "metadata": {},
   "outputs": [
    {
     "name": "stdout",
     "output_type": "stream",
     "text": [
      "134\n",
      "134\n",
      "134\n",
      "134\n",
      "134\n",
      "134\n"
     ]
    }
   ],
   "source": [
    "final_filenames_chemo = []\n",
    "final_til_features_chemo = []\n",
    "final_collagen_features_chemo = []\n",
    "y_chemo = []\n",
    "event_chemo = []\n",
    "survival_time_chemo = []\n",
    "index = 0\n",
    "for file in test_cc_files:\n",
    "    count = 0\n",
    "    filename1 = file.split(\"/\")[-1][:-4]\n",
    "    flag = -1\n",
    "    for filename in filenames_chemo:\n",
    "        filename2 = filename\n",
    "        if filename1 == filename2:\n",
    "            final_til_features_chemo.append(til_features_chemo[count])\n",
    "            y_chemo.append([censor_chemo[count], days_chemo[count]])\n",
    "            event_chemo.append(censor_chemo[count])\n",
    "            survival_time_chemo.append(days_chemo[count])\n",
    "            final_collagen_features_chemo.append(test_collagen_features[index])\n",
    "            final_filenames_chemo.append(file)\n",
    "            flag = 1\n",
    "        count += 1\n",
    "    index += 1\n",
    "print(len(final_filenames_chemo))\n",
    "print(len(final_collagen_features_chemo))\n",
    "print(len(final_til_features_chemo))\n",
    "print(len(y_chemo))\n",
    "print(len(event_chemo))\n",
    "print(len(survival_time_chemo))"
   ]
  },
  {
   "cell_type": "code",
   "execution_count": 12,
   "id": "ed706aac",
   "metadata": {},
   "outputs": [
    {
     "name": "stdout",
     "output_type": "stream",
     "text": [
      "128\n",
      "128\n",
      "128\n",
      "128\n",
      "128\n"
     ]
    }
   ],
   "source": [
    "final_filenames_radio = []\n",
    "final_til_features_radio = []\n",
    "final_collagen_features_radio = []\n",
    "y_radio = []\n",
    "event_radio = []\n",
    "survival_time_radio = []\n",
    "index = 0\n",
    "for file in test_cc_files:\n",
    "    count = 0\n",
    "    filename1 = file.split(\"/\")[-1][:-4]\n",
    "    flag = -1\n",
    "    for filename in filenames_radio:\n",
    "        filename2 = filename\n",
    "        if filename1 == filename2:\n",
    "            final_til_features_radio.append(til_features_radio[count])\n",
    "            y_radio.append([censor_radio[count], days_radio[count]])\n",
    "            event_radio.append(censor_radio[count])\n",
    "            survival_time_radio.append(days_radio[count])\n",
    "            final_collagen_features_radio.append(test_collagen_features[index])\n",
    "            final_filenames_radio.append(file)\n",
    "            flag = 1\n",
    "        count += 1\n",
    "    index += 1\n",
    "print(len(final_filenames_radio))\n",
    "print(len(final_til_features_radio))\n",
    "print(len(y_radio))\n",
    "print(len(event_radio))\n",
    "print(len(survival_time_radio))"
   ]
  },
  {
   "cell_type": "code",
   "execution_count": 13,
   "id": "0a6d0598",
   "metadata": {},
   "outputs": [
    {
     "name": "stdout",
     "output_type": "stream",
     "text": [
      "128\n",
      "34\n"
     ]
    }
   ],
   "source": [
    "# generate training set for testing model\n",
    "test_features = []\n",
    "for index in range(0, len(final_filenames_radio)):\n",
    "    test_features.append(final_til_features_radio[index] + final_collagen_features_radio[index])\n",
    "    #test_features.append(final_collagen_features_chemo[index])\n",
    "    #test_features.append(final_til_features_chemo[index])\n",
    "print(len(test_features))\n",
    "print(len(test_features[0]))"
   ]
  },
  {
   "cell_type": "code",
   "execution_count": 14,
   "id": "af4ffd1a",
   "metadata": {},
   "outputs": [
    {
     "name": "stdout",
     "output_type": "stream",
     "text": [
      "Test: 0.6703703703703704\n",
      "Train: 0.7264375637972099\n"
     ]
    }
   ],
   "source": [
    "# run on test set\n",
    "group = []\n",
    "features_train = features\n",
    "features_test = test_features\n",
    "y_train = y\n",
    "event_train, survival_time_train = event, survival_time\n",
    "dt = dtype=[('Status', '?'), ('Survival_in_days', '<f8')]\n",
    "y_train = np.array([tuple(row) for row in y_train], dtype=dt)\n",
    "scaler = MinMaxScaler()\n",
    "features_train = scaler.fit_transform(features_train)\n",
    "features_test = scaler.transform(features_test)\n",
    "features_train_df = pd.DataFrame(features_train)\n",
    "features_test_df = pd.DataFrame(features_test)\n",
    "        \n",
    "# fit model\n",
    "estimator = CoxnetSurvivalAnalysis(l1_ratio=0.9, alpha_min_ratio=0.1)\n",
    "estimator.fit(features_train_df, y_train)\n",
    "\n",
    "score, _, _, _, _ = concordance_index_censored(event_radio, survival_time_radio, estimator.predict(features_test_df))\n",
    "print(\"Test: \" + str(score))\n",
    "score, _, _, _, _ = concordance_index_censored(event, survival_time, estimator.predict(features_train_df))\n",
    "print(\"Train: \" + str(score))\n",
    "\n",
    "# get risk scores\n",
    "train_risk_scores = estimator.predict(features_train_df)\n",
    "test_risk_scores = estimator.predict(features_test_df)\n",
    "\n",
    "median = np.percentile(train_risk_scores, 66)\n",
    "count_low = 0\n",
    "count_high = 0\n",
    "for index in range(0, len(test_risk_scores)):\n",
    "    if test_risk_scores[index] > median:\n",
    "        count_high += 1\n",
    "        group.append(1)\n",
    "    else:\n",
    "        count_low += 1\n",
    "        group.append(0)"
   ]
  },
  {
   "cell_type": "code",
   "execution_count": 15,
   "id": "eebb0364",
   "metadata": {},
   "outputs": [
    {
     "name": "stdout",
     "output_type": "stream",
     "text": [
      "1; 1; 0; 0; 0; 0; 1; 1; 0; 0; 0; 1; 0; 0; 1; 0; 0; 1; 1; 0; 1; 0; 0; 0; 0; 0; 0; 0; 1; 0; 0; 0; 0; 0; 1; 0; 0; 0; 0; 0; 1; 0; 0; 1; 0; 0; 0; 0; 1; 0; 0; 0; 0; 1; 0; 1; 1; 1; 1; 0; 0; 0; 1; 0; 0; 0; 0; 0; 0; 0; 0; 0; 0; 0; 0; 0; 0; 0; 1; 1; 0; 1; 0; 0; 0; 0; 0; 0; 1; 0; 0; 0; 0; 0; 0; 0; 0; 1; 1; 1; 1; 0; 0; 0; 0; 0; 0; 1; 0; 0; 0; 1; 1; 1; 0; 1; 0; 0; 0; 0; 0; 1; 0; 0; 1; 0; 1; 0\n"
     ]
    }
   ],
   "source": [
    "a = []\n",
    "for index in range(0, len(event_radio)):\n",
    "    if event_radio[index] == False:\n",
    "        a.append(0)\n",
    "    else:\n",
    "        a.append(1)\n",
    "print(*a, sep=\"; \")"
   ]
  },
  {
   "cell_type": "code",
   "execution_count": 16,
   "id": "3a832947",
   "metadata": {},
   "outputs": [
    {
     "name": "stdout",
     "output_type": "stream",
     "text": [
      "350; 1118; 634; 463; 540; 573; 52; 227; 1386; 444; 1066; 1372; 1667; 636; 1394; 1735; 2044; 829; 442; 1505; 582; 3609; 1415; 854; 1778; 25; 1345; 9; 305; 2056; 1053; 4385; 4694; 447; 414; 2949; 5385; 0; 474; 1112; 4086; 0; 699; 3097; 533; 426; 0; 0; 2052; 4172; 602; 4482; 0; 2520; 791; 100; 955; 2032; 266; 3935; 1409; 730; 166; 747; 43; 485; 791; 380; 376; 406; 473; 321; 34; 720; 499; 834; 5; 795; 1065; 355; 287; 659; 632; 1078; 829; 1106; 453; 474; 638; 428; 6408; 2394; 725; 3874; 241; 2493; 0; 570; 604; 1083; 908; 83; 685; 3988; 619; 890; 761; 633; 1015; 1136; 1992; 506; 104; 348; 149; 144; 793; 346; 1561; 986; 1630; 642; 1013; 1444; 3046; 954; 978; 548\n"
     ]
    }
   ],
   "source": [
    "print(*survival_time_radio, sep=\"; \")"
   ]
  },
  {
   "cell_type": "code",
   "execution_count": 17,
   "id": "eb4630f8",
   "metadata": {},
   "outputs": [
    {
     "name": "stdout",
     "output_type": "stream",
     "text": [
      "0; 1; 0; 0; 1; 1; 1; 1; 1; 1; 0; 1; 0; 1; 0; 1; 1; 1; 1; 1; 1; 1; 1; 0; 1; 0; 1; 1; 1; 1; 0; 1; 0; 0; 1; 0; 1; 1; 1; 1; 0; 1; 0; 1; 0; 0; 1; 1; 1; 0; 0; 0; 0; 1; 1; 0; 0; 0; 0; 0; 0; 0; 1; 1; 0; 1; 0; 0; 0; 1; 0; 1; 1; 0; 0; 0; 1; 0; 1; 1; 1; 1; 1; 1; 0; 0; 1; 0; 1; 0; 0; 0; 0; 0; 0; 0; 0; 0; 0; 1; 1; 0; 0; 0; 0; 0; 0; 1; 0; 0; 1; 0; 1; 0; 1; 1; 1; 0; 1; 0; 0; 1; 0; 0; 1; 0; 1; 1\n"
     ]
    }
   ],
   "source": [
    "print(*group, sep=\"; \")"
   ]
  },
  {
   "cell_type": "code",
   "execution_count": 22,
   "id": "f2cabccc",
   "metadata": {},
   "outputs": [
    {
     "name": "stdout",
     "output_type": "stream",
     "text": [
      "../../tcga_cervix_cancer/collagen_feature_maps_200_final/TCGA-VS-A8QC.csv\n",
      "../../tcga_cervix_cancer/collagen_feature_maps_200_final/TCGA-C5-A8XH.csv\n",
      "../../tcga_cervix_cancer/collagen_feature_maps_200_final/TCGA-C5-A7CK.csv\n",
      "../../tcga_cervix_cancer/collagen_feature_maps_200_final/TCGA-JW-A5VH.csv\n",
      "../../tcga_cervix_cancer/collagen_feature_maps_200_final/TCGA-C5-A1M6.csv\n",
      "../../tcga_cervix_cancer/collagen_feature_maps_200_final/TCGA-IR-A3LB.csv\n",
      "../../tcga_cervix_cancer/collagen_feature_maps_200_final/TCGA-DS-A1O9.csv\n",
      "../../tcga_cervix_cancer/collagen_feature_maps_200_final/TCGA-C5-A1BF.csv\n",
      "../../tcga_cervix_cancer/collagen_feature_maps_200_final/TCGA-C5-A1BQ.csv\n",
      "../../tcga_cervix_cancer/collagen_feature_maps_200_final/TCGA-VS-A94X.csv\n",
      "../../tcga_cervix_cancer/collagen_feature_maps_200_final/TCGA-C5-A0TN.csv\n",
      "570.0\n",
      "100\n",
      "4086\n",
      "11\n"
     ]
    }
   ],
   "source": [
    "count = []\n",
    "for index in range(0, len(final_filenames_radio)):\n",
    "    if group[index] == 1 and event_radio[index] == 1:\n",
    "        print(final_filenames_radio[index])\n",
    "        count.append(survival_time_radio[index])\n",
    "print(np.median(count))\n",
    "print(np.min(count))\n",
    "print(np.max(count))\n",
    "print(len(count))"
   ]
  },
  {
   "cell_type": "code",
   "execution_count": null,
   "id": "7c8ddb53",
   "metadata": {},
   "outputs": [],
   "source": [
    "# find prognostic features from model trained above\n",
    "count = 0\n",
    "for index1 in range(0, len(estimator.coef_)):\n",
    "    flag = -1\n",
    "    for index2 in range(0, len(estimator.coef_[index1])):\n",
    "        if estimator.coef_[index1][index2] > 0:\n",
    "            flag = 1\n",
    "            print(index1)\n",
    "            break\n",
    "    if flag == 1:\n",
    "        count += 1\n",
    "print()\n",
    "print(\"Prognostic features count = \" + str(count))"
   ]
  },
  {
   "cell_type": "code",
   "execution_count": null,
   "id": "92f9e9c2",
   "metadata": {},
   "outputs": [],
   "source": []
  }
 ],
 "metadata": {
  "kernelspec": {
   "display_name": "Python 3",
   "language": "python",
   "name": "python3"
  },
  "language_info": {
   "codemirror_mode": {
    "name": "ipython",
    "version": 3
   },
   "file_extension": ".py",
   "mimetype": "text/x-python",
   "name": "python",
   "nbconvert_exporter": "python",
   "pygments_lexer": "ipython3",
   "version": "3.8.8"
  }
 },
 "nbformat": 4,
 "nbformat_minor": 5
}
