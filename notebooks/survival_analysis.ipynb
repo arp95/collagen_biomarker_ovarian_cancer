{
 "cells": [
  {
   "cell_type": "code",
   "execution_count": 1,
   "id": "eacc948b",
   "metadata": {},
   "outputs": [
    {
     "data": {
      "text/plain": [
       "<Figure size 800x800 with 0 Axes>"
      ]
     },
     "execution_count": 1,
     "metadata": {},
     "output_type": "execute_result"
    },
    {
     "data": {
      "text/plain": [
       "<Figure size 800x800 with 0 Axes>"
      ]
     },
     "metadata": {},
     "output_type": "display_data"
    }
   ],
   "source": [
    "import scipy, importlib, pprint, matplotlib.pyplot as plt, warnings\n",
    "import glob\n",
    "import csv\n",
    "import numpy as np\n",
    "import pandas as pd\n",
    "from sksurv.nonparametric import kaplan_meier_estimator\n",
    "from sksurv.linear_model import CoxPHSurvivalAnalysis\n",
    "from sksurv.linear_model import CoxnetSurvivalAnalysis\n",
    "from sksurv.preprocessing import OneHotEncoder\n",
    "from sksurv.compare import compare_survival\n",
    "%matplotlib inline\n",
    "import matplotlib.pyplot as plt\n",
    "from sklearn.preprocessing import StandardScaler\n",
    "\n",
    "from matplotlib.pyplot import figure\n",
    "figure(figsize=(10, 10), dpi=80)"
   ]
  },
  {
   "cell_type": "code",
   "execution_count": 2,
   "id": "0f6a3689",
   "metadata": {},
   "outputs": [],
   "source": [
    "train_data = pd.read_csv(\"../notebooks/train_features.csv\", index_col=0)\n",
    "train_labels = pd.read_csv(\"../notebooks/train_labels.csv\", index_col=0)"
   ]
  },
  {
   "cell_type": "code",
   "execution_count": 3,
   "id": "89a45948",
   "metadata": {},
   "outputs": [
    {
     "name": "stderr",
     "output_type": "stream",
     "text": [
      "<ipython-input-3-d6fd05cc41a0>:2: DeprecationWarning: `np.bool` is a deprecated alias for the builtin `bool`. To silence this warning, use `bool` by itself. Doing this will not modify any behavior and is safe. If you specifically wanted the numpy scalar type, use `np.bool_` here.\n",
      "Deprecated in NumPy 1.20; for more details and guidance: https://numpy.org/devdocs/release/1.20.0-notes.html#deprecations\n",
      "  upper = corr.where(np.triu(np.ones(corr.shape), k=1).astype(np.bool))\n"
     ]
    }
   ],
   "source": [
    "corr = train_data.corr().abs()\n",
    "upper = corr.where(np.triu(np.ones(corr.shape), k=1).astype(np.bool))\n",
    "to_drop = [column for column in upper.columns if any(upper[column] > 0.99)]\n",
    "train_data = train_data.drop(train_data[to_drop], axis=1)"
   ]
  },
  {
   "cell_type": "code",
   "execution_count": 4,
   "id": "f34649f4",
   "metadata": {},
   "outputs": [],
   "source": [
    "scaler = StandardScaler()\n",
    "train_data_normalized = scaler.fit_transform(train_data)"
   ]
  },
  {
   "cell_type": "code",
   "execution_count": 5,
   "id": "bfeb933e",
   "metadata": {},
   "outputs": [
    {
     "data": {
      "text/plain": [
       "60"
      ]
     },
     "execution_count": 5,
     "metadata": {},
     "output_type": "execute_result"
    }
   ],
   "source": [
    "len(train_data_normalized)"
   ]
  },
  {
   "cell_type": "code",
   "execution_count": 6,
   "id": "822470dc",
   "metadata": {},
   "outputs": [
    {
     "data": {
      "text/plain": [
       "304"
      ]
     },
     "execution_count": 6,
     "metadata": {},
     "output_type": "execute_result"
    }
   ],
   "source": [
    "len(train_data_normalized[0])"
   ]
  },
  {
   "cell_type": "code",
   "execution_count": 7,
   "id": "07c07dd2",
   "metadata": {},
   "outputs": [
    {
     "data": {
      "text/html": [
       "<div>\n",
       "<style scoped>\n",
       "    .dataframe tbody tr th:only-of-type {\n",
       "        vertical-align: middle;\n",
       "    }\n",
       "\n",
       "    .dataframe tbody tr th {\n",
       "        vertical-align: top;\n",
       "    }\n",
       "\n",
       "    .dataframe thead th {\n",
       "        text-align: right;\n",
       "    }\n",
       "</style>\n",
       "<table border=\"1\" class=\"dataframe\">\n",
       "  <thead>\n",
       "    <tr style=\"text-align: right;\">\n",
       "      <th></th>\n",
       "      <th>Status</th>\n",
       "      <th>Survival (in days)</th>\n",
       "    </tr>\n",
       "  </thead>\n",
       "  <tbody>\n",
       "    <tr>\n",
       "      <th>1</th>\n",
       "      <td>False</td>\n",
       "      <td>361.0</td>\n",
       "    </tr>\n",
       "    <tr>\n",
       "      <th>2</th>\n",
       "      <td>False</td>\n",
       "      <td>194.0</td>\n",
       "    </tr>\n",
       "    <tr>\n",
       "      <th>3</th>\n",
       "      <td>False</td>\n",
       "      <td>816.0</td>\n",
       "    </tr>\n",
       "    <tr>\n",
       "      <th>4</th>\n",
       "      <td>True</td>\n",
       "      <td>365.0</td>\n",
       "    </tr>\n",
       "    <tr>\n",
       "      <th>5</th>\n",
       "      <td>False</td>\n",
       "      <td>679.0</td>\n",
       "    </tr>\n",
       "  </tbody>\n",
       "</table>\n",
       "</div>"
      ],
      "text/plain": [
       "   Status  Survival (in days)\n",
       "1   False               361.0\n",
       "2   False               194.0\n",
       "3   False               816.0\n",
       "4    True               365.0\n",
       "5   False               679.0"
      ]
     },
     "execution_count": 7,
     "metadata": {},
     "output_type": "execute_result"
    }
   ],
   "source": [
    "columns_titles = [\"Status\", \"Survival (in days)\"]\n",
    "train_labels = train_labels.reindex(columns=columns_titles)\n",
    "train_labels[\"Status\"] = train_labels[\"Status\"].astype('bool')\n",
    "train_labels.head()"
   ]
  },
  {
   "cell_type": "code",
   "execution_count": 8,
   "id": "3933355e",
   "metadata": {},
   "outputs": [],
   "source": [
    "val_data = pd.read_csv(\"../notebooks/val_features.csv\", index_col=0)\n",
    "val_labels = pd.read_csv(\"../notebooks/val_labels.csv\", index_col=0)\n",
    "\n",
    "val_data = val_data[train_data.columns]"
   ]
  },
  {
   "cell_type": "code",
   "execution_count": 9,
   "id": "8b7c2f18",
   "metadata": {},
   "outputs": [],
   "source": [
    "val_data_normalized = scaler.transform(val_data)"
   ]
  },
  {
   "cell_type": "code",
   "execution_count": 10,
   "id": "abec0c78",
   "metadata": {},
   "outputs": [
    {
     "data": {
      "text/plain": [
       "30"
      ]
     },
     "execution_count": 10,
     "metadata": {},
     "output_type": "execute_result"
    }
   ],
   "source": [
    "len(val_data_normalized)"
   ]
  },
  {
   "cell_type": "code",
   "execution_count": 11,
   "id": "e094c2ab",
   "metadata": {},
   "outputs": [
    {
     "data": {
      "text/plain": [
       "304"
      ]
     },
     "execution_count": 11,
     "metadata": {},
     "output_type": "execute_result"
    }
   ],
   "source": [
    "len(val_data_normalized[0])"
   ]
  },
  {
   "cell_type": "code",
   "execution_count": 12,
   "id": "cbcb78cd",
   "metadata": {},
   "outputs": [
    {
     "data": {
      "text/html": [
       "<div>\n",
       "<style scoped>\n",
       "    .dataframe tbody tr th:only-of-type {\n",
       "        vertical-align: middle;\n",
       "    }\n",
       "\n",
       "    .dataframe tbody tr th {\n",
       "        vertical-align: top;\n",
       "    }\n",
       "\n",
       "    .dataframe thead th {\n",
       "        text-align: right;\n",
       "    }\n",
       "</style>\n",
       "<table border=\"1\" class=\"dataframe\">\n",
       "  <thead>\n",
       "    <tr style=\"text-align: right;\">\n",
       "      <th></th>\n",
       "      <th>Status</th>\n",
       "      <th>Survival (in days)</th>\n",
       "    </tr>\n",
       "  </thead>\n",
       "  <tbody>\n",
       "    <tr>\n",
       "      <th>1</th>\n",
       "      <td>True</td>\n",
       "      <td>880.0</td>\n",
       "    </tr>\n",
       "    <tr>\n",
       "      <th>2</th>\n",
       "      <td>False</td>\n",
       "      <td>3953.0</td>\n",
       "    </tr>\n",
       "    <tr>\n",
       "      <th>3</th>\n",
       "      <td>True</td>\n",
       "      <td>624.0</td>\n",
       "    </tr>\n",
       "    <tr>\n",
       "      <th>4</th>\n",
       "      <td>False</td>\n",
       "      <td>1503.0</td>\n",
       "    </tr>\n",
       "    <tr>\n",
       "      <th>5</th>\n",
       "      <td>True</td>\n",
       "      <td>91.0</td>\n",
       "    </tr>\n",
       "  </tbody>\n",
       "</table>\n",
       "</div>"
      ],
      "text/plain": [
       "   Status  Survival (in days)\n",
       "1    True               880.0\n",
       "2   False              3953.0\n",
       "3    True               624.0\n",
       "4   False              1503.0\n",
       "5    True                91.0"
      ]
     },
     "execution_count": 12,
     "metadata": {},
     "output_type": "execute_result"
    }
   ],
   "source": [
    "columns_titles = [\"Status\", \"Survival (in days)\"]\n",
    "val_labels = val_labels.reindex(columns=columns_titles)\n",
    "val_labels[\"Status\"] = val_labels[\"Status\"].astype('bool')\n",
    "val_labels.head()"
   ]
  },
  {
   "cell_type": "code",
   "execution_count": 13,
   "id": "184587ed",
   "metadata": {},
   "outputs": [
    {
     "name": "stdout",
     "output_type": "stream",
     "text": [
      "[(False,  361.) (False,  194.) (False,  816.) ( True,  365.)\n",
      " (False,  679.) ( True,  627.) ( True,  820.) ( True,  730.)\n",
      " ( True,  317.) (False,  135.) (False, 1240.) ( True, 1278.)\n",
      " ( True, 1004.) ( True,  592.) (False,  116.) ( True, 1157.)\n",
      " ( True, 1891.) ( True, 1446.) ( True, 1279.) ( True,   92.)\n",
      " ( True,  883.) ( True, 1799.) (False,  576.) (False,  882.)\n",
      " (False, 1233.) ( True, 1583.) (False,  143.) ( True, 1369.)\n",
      " ( True,  455.) (False, 1278.) ( True, 1189.) (False, 1207.)\n",
      " (False, 2788.) ( True, 1249.) (False, 2616.) ( True, 1447.)\n",
      " ( True, 1562.) ( True, 2587.) ( True, 1033.) (False,  761.)\n",
      " (False,  137.) ( True,   61.) ( True,   84.) ( True, 1018.)\n",
      " ( True,   31.) ( True,  976.) ( True,  731.) ( True,    9.)\n",
      " ( True,   45.) ( True,  821.) (False,  130.) (False, 3525.)\n",
      " ( True,    9.) (False,  468.) ( True,  518.) (False, 2661.)\n",
      " (False,   84.) ( True,  395.) ( True,  575.) ( True,   53.)]\n"
     ]
    }
   ],
   "source": [
    "y_train = []\n",
    "for index, row in train_labels.iterrows():\n",
    "    y_train.append((row[\"Status\"], row[\"Survival (in days)\"]))\n",
    "dt = dtype=[('Status', '?'), ('Survival_in_days', '<f8')]\n",
    "y_train = np.array([tuple(row) for row in y_train], dtype=dt)\n",
    "print(y_train)"
   ]
  },
  {
   "cell_type": "code",
   "execution_count": 14,
   "id": "ea61fc2b",
   "metadata": {},
   "outputs": [
    {
     "name": "stdout",
     "output_type": "stream",
     "text": [
      "[( True,  880.) (False, 3953.) ( True,  624.) (False, 1503.)\n",
      " ( True,   91.) ( True, 1516.) (False,  268.) ( True, 1492.)\n",
      " (False, 1658.) (False,   98.) ( True,  949.) ( True,  304.)\n",
      " ( True, 1583.) ( True,  346.) (False,   16.) ( True,   90.)\n",
      " ( True,  976.) (False,  420.) ( True,  760.) ( True, 2009.)\n",
      " ( True,  759.) ( True,  394.) (False,  763.) ( True,   31.)\n",
      " ( True, 1155.) ( True, 1013.) ( True, 1162.) ( True, 1035.)\n",
      " (False,  722.) ( True, 2342.)]\n"
     ]
    }
   ],
   "source": [
    "y_val = []\n",
    "for index, row in val_labels.iterrows():\n",
    "    y_val.append((row[\"Status\"], row[\"Survival (in days)\"]))\n",
    "dt = dtype=[('Status', '?'), ('Survival_in_days', '<f8')]\n",
    "y_val = np.array([tuple(row) for row in y_val], dtype=dt)\n",
    "print(y_val)"
   ]
  },
  {
   "cell_type": "code",
   "execution_count": null,
   "id": "19f1f00a",
   "metadata": {},
   "outputs": [],
   "source": []
  },
  {
   "cell_type": "code",
   "execution_count": 15,
   "id": "734112d1",
   "metadata": {},
   "outputs": [
    {
     "data": {
      "text/plain": [
       "CoxnetSurvivalAnalysis(alpha_min_ratio=0.05, l1_ratio=0.99)"
      ]
     },
     "execution_count": 15,
     "metadata": {},
     "output_type": "execute_result"
    }
   ],
   "source": [
    "estimator = CoxnetSurvivalAnalysis(l1_ratio=0.9, alpha_min_ratio=0.05)\n",
    "estimator.fit(train_data_normalized, y_train)"
   ]
  },
  {
   "cell_type": "code",
   "execution_count": 16,
   "id": "871bc230",
   "metadata": {},
   "outputs": [
    {
     "data": {
      "text/plain": [
       "0.535593220338983"
      ]
     },
     "execution_count": 16,
     "metadata": {},
     "output_type": "execute_result"
    }
   ],
   "source": [
    "estimator.score(train_data_normalized, y_train)\n",
    "estimator.score(val_data_normalized, y_val)"
   ]
  },
  {
   "cell_type": "code",
   "execution_count": 17,
   "id": "e2870ed0",
   "metadata": {},
   "outputs": [
    {
     "name": "stdout",
     "output_type": "stream",
     "text": [
      "24\n"
     ]
    }
   ],
   "source": [
    "# remove non-relevant features\n",
    "count = 0\n",
    "for index in range(0, len(estimator.coef_)):\n",
    "    flag = -1\n",
    "    for index1 in range(0, len(estimator.coef_[index])):\n",
    "        if estimator.coef_[index][index1] > 0.01:\n",
    "            flag = 1\n",
    "            break\n",
    "    if flag > 0:\n",
    "        count += 1\n",
    "print(count)"
   ]
  },
  {
   "cell_type": "code",
   "execution_count": null,
   "id": "740939d7",
   "metadata": {},
   "outputs": [],
   "source": []
  },
  {
   "cell_type": "code",
   "execution_count": 18,
   "id": "db1d7ecb",
   "metadata": {},
   "outputs": [
    {
     "name": "stdout",
     "output_type": "stream",
     "text": [
      "60\n",
      "30\n"
     ]
    }
   ],
   "source": [
    "pred_surv_train = estimator.predict(train_data_normalized)\n",
    "pred_surv_val = estimator.predict(val_data_normalized)\n",
    "print(len(pred_surv_train))\n",
    "print(len(pred_surv_val))"
   ]
  },
  {
   "cell_type": "code",
   "execution_count": 19,
   "id": "dc321160",
   "metadata": {},
   "outputs": [
    {
     "name": "stdout",
     "output_type": "stream",
     "text": [
      "38\n",
      "22\n",
      "21\n",
      "9\n"
     ]
    }
   ],
   "source": [
    "x_train_survival = []\n",
    "x_train_survival_censored = []\n",
    "x_val_survival = []\n",
    "x_val_survival_censored = []\n",
    "y_train_survival = []\n",
    "y_val_survival = []\n",
    "y_train_survival_censored = []\n",
    "y_val_survival_censored = []\n",
    "for index in range(0, len(y_train)):\n",
    "    if y_train[index][0] == 1:\n",
    "        x_train_survival.append(pred_surv_train[index])\n",
    "        y_train_survival.append(y_train[index][1])\n",
    "    else:\n",
    "        x_train_survival_censored.append(pred_surv_train[index])\n",
    "        y_train_survival_censored.append(y_train[index][1])\n",
    "for index in range(0, len(y_val)):\n",
    "    if y_val[index][0] == 1:\n",
    "        x_val_survival.append(pred_surv_val[index])\n",
    "        y_val_survival.append(y_val[index][1])\n",
    "    else:\n",
    "        x_val_survival_censored.append(pred_surv_val[index])\n",
    "        y_val_survival_censored.append(y_val[index][1])\n",
    "print(len(y_train_survival))\n",
    "print(len(y_train_survival_censored))\n",
    "print(len(y_val_survival))\n",
    "print(len(y_val_survival_censored))"
   ]
  },
  {
   "cell_type": "code",
   "execution_count": 20,
   "id": "7d75e3ab",
   "metadata": {},
   "outputs": [
    {
     "name": "stdout",
     "output_type": "stream",
     "text": [
      "0.5265543310079273\n"
     ]
    }
   ],
   "source": [
    "median_risk_score = np.median(pred_surv_train)\n",
    "print(median_risk_score)"
   ]
  },
  {
   "cell_type": "code",
   "execution_count": 21,
   "id": "a27d4195",
   "metadata": {},
   "outputs": [
    {
     "data": {
      "image/png": "[encoded data removed]",
      "text/plain": [
       "<Figure size 432x288 with 1 Axes>"
      ]
     },
     "metadata": {
      "needs_background": "light"
     },
     "output_type": "display_data"
    }
   ],
   "source": [
    "fig, ax = plt.subplots()\n",
    "\n",
    "ax.scatter(y_train_survival, x_train_survival, color='b', label=\"Event\")\n",
    "ax.scatter(y_train_survival_censored, x_train_survival_censored, color='r', label=\"Censored\")\n",
    "ax.axhline(y=median_risk_score, color=[0,0,0], linestyle='--', label=\"Cut-off Risk Score\")\n",
    "ax.legend()\n",
    "plt.title(\"Risk Score Plot (Training)\")\n",
    "plt.ylabel(\"Risk Score\")\n",
    "plt.xlabel(\"Survival (in days)\")\n",
    "plt.show()"
   ]
  },
  {
   "cell_type": "code",
   "execution_count": 22,
   "id": "91fec67a",
   "metadata": {},
   "outputs": [
    {
     "data": {
      "image/png": "[encoded data removed]",
      "text/plain": [
       "<Figure size 432x288 with 1 Axes>"
      ]
     },
     "metadata": {
      "needs_background": "light"
     },
     "output_type": "display_data"
    }
   ],
   "source": [
    "fig, ax = plt.subplots()\n",
    "\n",
    "ax.scatter(y_val_survival, x_val_survival, color='b', label=\"Event\")\n",
    "ax.scatter(y_val_survival_censored, x_val_survival_censored, color='r', label=\"Censored\")\n",
    "ax.axhline(y=median_risk_score, color=[0,0,0], linestyle='--', label=\"Cut-off Risk Score\")\n",
    "ax.legend()\n",
    "plt.title(\"Risk Score Plot (Validation)\")\n",
    "plt.ylabel(\"Risk Score\")\n",
    "plt.xlabel(\"Survival (in days)\")\n",
    "plt.show()"
   ]
  },
  {
   "cell_type": "code",
   "execution_count": null,
   "id": "e532aec3",
   "metadata": {},
   "outputs": [],
   "source": []
  },
  {
   "cell_type": "code",
   "execution_count": 23,
   "id": "505e627e",
   "metadata": {},
   "outputs": [
    {
     "name": "stdout",
     "output_type": "stream",
     "text": [
      "30\n",
      "30\n",
      "30\n",
      "30\n"
     ]
    }
   ],
   "source": [
    "high_train_labels_status = []\n",
    "high_train_labels_days = []\n",
    "low_train_labels_status = []\n",
    "low_train_labels_days = []\n",
    "group_patients_train = []\n",
    "for index, row in train_labels.iterrows():\n",
    "    if pred_surv_train[index-1] > median_risk_score:\n",
    "        group_patients_train.append(1)\n",
    "        high_train_labels_status.append(row[\"Status\"])\n",
    "        high_train_labels_days.append(row[\"Survival (in days)\"])\n",
    "    else:\n",
    "        group_patients_train.append(0)\n",
    "        low_train_labels_status.append(row[\"Status\"])\n",
    "        low_train_labels_days.append(row[\"Survival (in days)\"])\n",
    "print(len(high_train_labels_status))\n",
    "print(len(high_train_labels_days))\n",
    "print(len(low_train_labels_status))\n",
    "print(len(low_train_labels_days))"
   ]
  },
  {
   "cell_type": "code",
   "execution_count": 24,
   "id": "2f5165f2",
   "metadata": {},
   "outputs": [
    {
     "data": {
      "text/plain": [
       "<matplotlib.legend.Legend at 0x7f982bf5b6a0>"
      ]
     },
     "execution_count": 24,
     "metadata": {},
     "output_type": "execute_result"
    },
    {
     "data": {
      "image/png": "[encoded data removed]",
      "text/plain": [
       "<Figure size 432x288 with 1 Axes>"
      ]
     },
     "metadata": {
      "needs_background": "light"
     },
     "output_type": "display_data"
    }
   ],
   "source": [
    "time_high, survival_prob_high = kaplan_meier_estimator(high_train_labels_status, high_train_labels_days)\n",
    "time_low, survival_prob_low = kaplan_meier_estimator(low_train_labels_status, low_train_labels_days)\n",
    "\n",
    "plt.step(time_high, survival_prob_high, where=\"post\", label=\"High Risk\")\n",
    "plt.step(time_low, survival_prob_low, where=\"post\", label=\"Low Risk\")\n",
    "plt.ylabel(\"Overall Survival\")\n",
    "plt.xlabel(\"Time (in days)\")\n",
    "plt.legend(loc=\"best\")"
   ]
  },
  {
   "cell_type": "code",
   "execution_count": 25,
   "id": "1dccbb67",
   "metadata": {},
   "outputs": [
    {
     "name": "stdout",
     "output_type": "stream",
     "text": [
      "9\n",
      "9\n",
      "21\n",
      "21\n"
     ]
    }
   ],
   "source": [
    "high_val_labels_status = []\n",
    "high_val_labels_days = []\n",
    "low_val_labels_status = []\n",
    "low_val_labels_days = []\n",
    "group_patients_val = []\n",
    "for index, row in val_labels.iterrows():\n",
    "    if pred_surv_val[index-1] > median_risk_score:\n",
    "        group_patients_val.append(1)\n",
    "        high_val_labels_status.append(row[\"Status\"])\n",
    "        high_val_labels_days.append(row[\"Survival (in days)\"])\n",
    "    else:\n",
    "        group_patients_val.append(0)\n",
    "        low_val_labels_status.append(row[\"Status\"])\n",
    "        low_val_labels_days.append(row[\"Survival (in days)\"])\n",
    "print(len(high_val_labels_status))\n",
    "print(len(high_val_labels_days))\n",
    "print(len(low_val_labels_status))\n",
    "print(len(low_val_labels_days))"
   ]
  },
  {
   "cell_type": "code",
   "execution_count": 26,
   "id": "c8e23695",
   "metadata": {},
   "outputs": [
    {
     "data": {
      "text/plain": [
       "<matplotlib.legend.Legend at 0x7f982c0970d0>"
      ]
     },
     "execution_count": 26,
     "metadata": {},
     "output_type": "execute_result"
    },
    {
     "data": {
      "image/png": "[encoded data removed]",
      "text/plain": [
       "<Figure size 432x288 with 1 Axes>"
      ]
     },
     "metadata": {
      "needs_background": "light"
     },
     "output_type": "display_data"
    }
   ],
   "source": [
    "time_high, survival_prob_high = kaplan_meier_estimator(high_val_labels_status, high_val_labels_days)\n",
    "time_low, survival_prob_low = kaplan_meier_estimator(low_val_labels_status, low_val_labels_days)\n",
    "\n",
    "plt.step(time_high, survival_prob_high, where=\"post\", label=\"High Risk\")\n",
    "plt.step(time_low, survival_prob_low, where=\"post\", label=\"Low Risk\")\n",
    "plt.ylabel(\"Overall Survival\")\n",
    "plt.xlabel(\"Time (in days)\")\n",
    "plt.legend(loc=\"best\")"
   ]
  },
  {
   "cell_type": "code",
   "execution_count": null,
   "id": "c3697d7e",
   "metadata": {},
   "outputs": [],
   "source": []
  },
  {
   "cell_type": "code",
   "execution_count": 27,
   "id": "c1ff5179",
   "metadata": {},
   "outputs": [],
   "source": [
    "def plot_coefficients(coefs, n_highlight):\n",
    "    _, ax = plt.subplots(figsize=(9, 6))\n",
    "    n_features = coefs.shape[0]\n",
    "    alphas = coefs.columns\n",
    "    for row in coefs.itertuples():\n",
    "        ax.semilogx(alphas, row[1:], \".-\", label=row.Index)\n",
    "\n",
    "    alpha_min = alphas.min()\n",
    "    top_coefs = coefs.loc[:, alpha_min].map(abs).sort_values().tail(n_highlight)\n",
    "    for name in top_coefs.index:\n",
    "        coef = coefs.loc[name, alpha_min]\n",
    "        plt.text(\n",
    "            alpha_min, coef, name + \"   \",\n",
    "            horizontalalignment=\"right\",\n",
    "            verticalalignment=\"center\"\n",
    "        )\n",
    "\n",
    "    ax.yaxis.set_label_position(\"right\")\n",
    "    ax.yaxis.tick_right()\n",
    "    ax.grid(True)\n",
    "    ax.set_xlabel(\"alpha\")\n",
    "    ax.set_ylabel(\"coefficient\")"
   ]
  },
  {
   "cell_type": "code",
   "execution_count": 28,
   "id": "f67461ff",
   "metadata": {},
   "outputs": [
    {
     "data": {
      "image/png": "[encoded data removed]",
      "text/plain": [
       "<Figure size 648x432 with 1 Axes>"
      ]
     },
     "metadata": {
      "needs_background": "light"
     },
     "output_type": "display_data"
    }
   ],
   "source": [
    "coefficients_lasso = pd.DataFrame(\n",
    "    estimator.coef_,\n",
    "    index=val_data.columns,\n",
    "    columns=np.round(estimator.alphas_, 5)\n",
    ")\n",
    "\n",
    "plot_coefficients(coefficients_lasso, n_highlight=5)"
   ]
  },
  {
   "cell_type": "code",
   "execution_count": null,
   "id": "9824c95c",
   "metadata": {},
   "outputs": [],
   "source": []
  },
  {
   "cell_type": "code",
   "execution_count": 29,
   "id": "7e489ff7",
   "metadata": {},
   "outputs": [
    {
     "name": "stdout",
     "output_type": "stream",
     "text": [
      "(57.20675924494824, 3.923205325334184e-14,        counts  observed   expected  statistic\n",
      "group                                        \n",
      "0          30        15  30.954659 -15.954659\n",
      "1          30        23   7.045341  15.954659, array([[ 4.44966881, -4.44966881],\n",
      "       [-4.44966881,  4.44966881]]))\n"
     ]
    }
   ],
   "source": [
    "_ = compare_survival(y_train, group_patients_train, return_stats=True)\n",
    "print(_)"
   ]
  },
  {
   "cell_type": "code",
   "execution_count": 30,
   "id": "92455ba4",
   "metadata": {},
   "outputs": [
    {
     "name": "stdout",
     "output_type": "stream",
     "text": [
      "(0.0032473048234121114, 0.9545570419545416,        counts  observed  expected  statistic\n",
      "group                                       \n",
      "0          21        17  16.89909    0.10091\n",
      "1           9         4   4.10091   -0.10091, array([[ 3.13577707, -3.13577707],\n",
      "       [-3.13577707,  3.13577707]]))\n"
     ]
    }
   ],
   "source": [
    "_ = compare_survival(y_val, group_patients_val, return_stats=True)\n",
    "print(_)"
   ]
  },
  {
   "cell_type": "code",
   "execution_count": 31,
   "id": "1ca7c112",
   "metadata": {},
   "outputs": [
    {
     "name": "stdout",
     "output_type": "stream",
     "text": [
      "Hazard Ratio = 2.326\n",
      "p-value = 0.017\n"
     ]
    }
   ],
   "source": [
    "print(\"Hazard Ratio = 2.326\")\n",
    "print(\"p-value = 0.017\")"
   ]
  },
  {
   "cell_type": "code",
   "execution_count": 32,
   "id": "b9de8e58",
   "metadata": {},
   "outputs": [
    {
     "name": "stdout",
     "output_type": "stream",
     "text": [
      "10.389565507980759\n",
      "1.0146422148848613\n"
     ]
    }
   ],
   "source": [
    "est = 5.70210386143281\n",
    "p_value = 0.017\n",
    "z = -0.862 + np.sqrt(0.743 - 2.404*np.log(p_value))\n",
    "se = np.abs(est / z)\n",
    "\n",
    "u = est + 1.96*se\n",
    "l = est - 1.96*se\n",
    "print(u)\n",
    "print(l)"
   ]
  },
  {
   "cell_type": "code",
   "execution_count": null,
   "id": "2e686ba5",
   "metadata": {},
   "outputs": [],
   "source": []
  },
  {
   "cell_type": "code",
   "execution_count": null,
   "id": "c7b313cf",
   "metadata": {},
   "outputs": [],
   "source": []
  },
  {
   "cell_type": "code",
   "execution_count": null,
   "id": "5ff8d895",
   "metadata": {},
   "outputs": [],
   "source": []
  }
 ],
 "metadata": {
  "kernelspec": {
   "display_name": "Python 3",
   "language": "python",
   "name": "python3"
  },
  "language_info": {
   "codemirror_mode": {
    "name": "ipython",
    "version": 3
   },
   "file_extension": ".py",
   "mimetype": "text/x-python",
   "name": "python",
   "nbconvert_exporter": "python",
   "pygments_lexer": "ipython3",
   "version": "3.8.8"
  }
 },
 "nbformat": 4,
 "nbformat_minor": 5
}
