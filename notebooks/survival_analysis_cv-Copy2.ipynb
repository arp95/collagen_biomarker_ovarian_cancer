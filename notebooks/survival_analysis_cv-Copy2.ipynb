{
 "cells": [
  {
   "cell_type": "code",
   "execution_count": 1,
   "id": "711e0b25",
   "metadata": {},
   "outputs": [
    {
     "name": "stdout",
     "output_type": "stream",
     "text": [
      "Header files loaded!\n"
     ]
    }
   ],
   "source": [
    "# header files\n",
    "import glob\n",
    "import csv\n",
    "import numpy as np\n",
    "import pandas as pd\n",
    "from sksurv.nonparametric import kaplan_meier_estimator\n",
    "from sksurv.linear_model import CoxnetSurvivalAnalysis\n",
    "from sksurv.ensemble import RandomSurvivalForest\n",
    "from sksurv.metrics import (\n",
    "    concordance_index_censored,\n",
    "    concordance_index_ipcw,\n",
    "    cumulative_dynamic_auc,\n",
    "    integrated_brier_score,\n",
    ")\n",
    "from sklearn.preprocessing import StandardScaler, MinMaxScaler, RobustScaler\n",
    "from sklearn.pipeline import make_pipeline\n",
    "from sklearn.model_selection import KFold\n",
    "from sklearn.model_selection import train_test_split\n",
    "import matplotlib.pyplot as plt\n",
    "from sklearn.feature_selection import SelectKBest\n",
    "from sklearn.feature_selection import chi2, f_regression, f_classif\n",
    "from datetime import datetime\n",
    "print(\"Header files loaded!\")"
   ]
  },
  {
   "cell_type": "code",
   "execution_count": 2,
   "id": "8527b1c9",
   "metadata": {},
   "outputs": [],
   "source": [
    "# hyper-parameters\n",
    "date_format = \"%m/%d/%Y\"\n",
    "is_ovarian_cancer = 1\n",
    "is_cervix_cancer = 0\n",
    "is_endometrial_cancer = 0\n",
    "\n",
    "def mean(a):\n",
    "    return sum(a) / len(a)"
   ]
  },
  {
   "cell_type": "code",
   "execution_count": 3,
   "id": "5a8fcc63",
   "metadata": {},
   "outputs": [
    {
     "name": "stdout",
     "output_type": "stream",
     "text": [
      "['TMA_label', 'Gender', 'Race', 'Diagnosis', 'DiagnosisDate', 'AgeatDiagnosis', 'AliveDeadCensor', 'AliveDeadStatus', 'DateLastSeen', 'DODCensor', 'DODStatus', 'FollowupDays', 'FollowupMonths', 'PrimaryStatus', 'Core', 'Stage', 'histology_subtype', 'smoking_status', 'CD4', 'CD20', 'CD8', 'OS_m', 'OS_d', 'DSS_censor', 'DSS_censor_bin', 'OS_Censor', 'OS_bin']\n",
      "116\n",
      "116\n",
      "116\n"
     ]
    }
   ],
   "source": [
    "censor = []\n",
    "days = []\n",
    "filenames = []\n",
    "flag = -1\n",
    "with open(\"../../../Desktop/Yale_YTMA79_HEIF_clinical_info_v2.csv\", newline='', encoding = \"ISO-8859-1\") as csvfile:\n",
    "    spamreader = csv.reader(csvfile)\n",
    "    for row in spamreader:\n",
    "        if flag == -1:\n",
    "            flag = 1\n",
    "            print(row)\n",
    "        else:\n",
    "            array = row\n",
    "            \n",
    "            if array[1] == \"\" or array[22] == \"NA\":\n",
    "                continue\n",
    "            \n",
    "            filenames.append(str(array[0][1:len(array[0])-1]))\n",
    "            if array[26] == \"1\":\n",
    "                censor.append(False)\n",
    "                days.append(int(array[22]))\n",
    "            else:\n",
    "                censor.append(True)\n",
    "                days.append(int(array[22]))\n",
    "print(len(filenames))\n",
    "print(len(censor))\n",
    "print(len(days))"
   ]
  },
  {
   "cell_type": "code",
   "execution_count": 4,
   "id": "b477c761",
   "metadata": {},
   "outputs": [
    {
     "name": "stdout",
     "output_type": "stream",
     "text": [
      "YTMA79-10_2_383_254\n",
      "False\n",
      "1376\n"
     ]
    }
   ],
   "source": [
    "print(filenames[0])\n",
    "print(censor[0])\n",
    "print(days[0])"
   ]
  },
  {
   "cell_type": "code",
   "execution_count": 5,
   "id": "c3eb46da",
   "metadata": {},
   "outputs": [
    {
     "name": "stdout",
     "output_type": "stream",
     "text": [
      "YTMA79-10_120_309_943\n",
      "True\n",
      "701\n"
     ]
    }
   ],
   "source": [
    "print(filenames[50])\n",
    "print(censor[50])\n",
    "print(days[50])"
   ]
  },
  {
   "cell_type": "code",
   "execution_count": 6,
   "id": "a1a8fe8d",
   "metadata": {},
   "outputs": [
    {
     "name": "stdout",
     "output_type": "stream",
     "text": [
      "119\n"
     ]
    }
   ],
   "source": [
    "ec_files = (glob.glob(\"../../yale_lung_cancer/macrophage_output/*\"))\n",
    "print(len(ec_files))"
   ]
  },
  {
   "cell_type": "code",
   "execution_count": 7,
   "id": "d83fa1a8",
   "metadata": {},
   "outputs": [
    {
     "name": "stdout",
     "output_type": "stream",
     "text": [
      "114\n",
      "114\n",
      "114\n"
     ]
    }
   ],
   "source": [
    "final_filenames = []\n",
    "final_censor = []\n",
    "final_days = []\n",
    "index = 0\n",
    "for file in filenames:\n",
    "    flag = -1\n",
    "    for file_1 in ec_files:\n",
    "        if file in file_1:\n",
    "            final_filenames.append(filenames[index])\n",
    "            final_censor.append(censor[index])\n",
    "            final_days.append(days[index])\n",
    "            break\n",
    "    index += 1\n",
    "print(len(final_filenames))\n",
    "print(len(final_censor))\n",
    "print(len(final_days))"
   ]
  },
  {
   "cell_type": "code",
   "execution_count": 8,
   "id": "b1ef7085",
   "metadata": {},
   "outputs": [
    {
     "name": "stdout",
     "output_type": "stream",
     "text": [
      "['YTMA79-10_2_383_254', 'YTMA79-10_3_486_245', 'YTMA79-10_4_614_221', 'YTMA79-10_5_715_219', 'YTMA79-10_7_914_216', 'YTMA79-10_8_1020_205', 'YTMA79-10_9_1122_196', 'YTMA79-10_11_1332_183', 'YTMA79-10_12_1437_184', 'YTMA79-10_13_1550_179', 'YTMA79-10_20_1340_285', 'YTMA79-10_21_1230_301', 'YTMA79-10_22_1126_303', 'YTMA79-10_27_589_329', 'YTMA79-10_30_298_339', 'YTMA79-10_31_289_460', 'YTMA79-10_34_607_429', 'YTMA79-10_35_715_422', 'YTMA79-10_36_819_423', 'YTMA79-10_38_1020_394', 'YTMA79-10_39_1132_402', 'YTMA79-10_41_1343_389', 'YTMA79-10_43_1552_377', 'YTMA79-10_47_1667_470', 'YTMA79-10_50_1351_489', 'YTMA79-10_53_1025_500', 'YTMA79-10_56_711_529', 'YTMA79-10_57_603_534', 'YTMA79-10_58_506_527', 'YTMA79-10_59_402_547', 'YTMA79-10_63_502_644', 'YTMA79-10_65_715_625', 'YTMA79-10_68_1041_596', 'YTMA79-10_72_1456_571', 'YTMA79-10_79_1460_680', 'YTMA79-10_86_720_722', 'YTMA79-10_87_612_729', 'YTMA79-10_89_407_738', 'YTMA79-10_90_301_754', 'YTMA79-10_92_403_848', 'YTMA79-10_94_609_828', 'YTMA79-10_95_720_820', 'YTMA79-10_97_937_801', 'YTMA79-10_103_1571_769', 'YTMA79-10_104_1675_759', 'YTMA79-10_110_1366_876', 'YTMA79-10_112_1147_888', 'YTMA79-10_113_1041_895', 'YTMA79-10_114_927_904', 'YTMA79-10_120_309_943', 'YTMA79-10_121_307_1047', 'YTMA79-10_123_513_1031', 'YTMA79-10_125_735_1011', 'YTMA79-10_127_938_998', 'YTMA79-10_129_1153_991', 'YTMA79-10_131_1364_974', 'YTMA79-10_132_1478_971', 'YTMA79-10_133_1577_958', 'YTMA79-10_134_1679_959', 'YTMA79-10_137_1687_1058', 'YTMA79-10_138_1586_1057', 'YTMA79-10_140_374_1069', 'YTMA79-10_141_1265_1090', 'YTMA79-10_143_1052_1093', 'YTMA79-10_144_940_1097', 'YTMA79-10_147_625_1123', 'YTMA79-10_148_524_1133', 'YTMA79-10_149_429_1134', 'YTMA79-10_150_315_1143', 'YTMA79-10_156_845_1202', 'YTMA79-10_158_1057_1192', 'YTMA79-10_159_1162_1191', 'YTMA79-10_161_1372_1168', 'YTMA79-10_163_1578_1159', 'YTMA79-10_164_1694_1160', 'YTMA79-10_168_1583_1256', 'YTMA79-10_169_1487_1264', 'YTMA79-10_170_1375_1270', 'YTMA79-10_173_1061_1301', 'YTMA79-10_174_954_1308', 'YTMA79-10_175_840_1307', 'YTMA79-10_176_727_1310', 'YTMA79-10_179_427_1324', 'YTMA79-10_182_432_1427', 'YTMA79-10_185_743_1411', 'YTMA79-10_186_849_1409', 'YTMA79-10_189_1173_1388', 'YTMA79-10_190_1267_1399', 'YTMA79-10_193_1593_1352', 'YTMA79-10_197_1697_1448', 'YTMA79-10_198_1599_1451', 'YTMA79-10_199_1478_1458', 'YTMA79-10_200_1368_1473', 'YTMA79-10_202_1167_1486', 'YTMA79-10_205_849_1514', 'YTMA79-10_207_639_1515', 'YTMA79-10_209_428_1532', 'YTMA79-10_211_336_1623', 'YTMA79-10_214_643_1629', 'YTMA79-10_215_751_1614', 'YTMA79-10_216_864_1616', 'YTMA79-10_217_970_1590', 'YTMA79-10_218_1071_1586', 'YTMA79-10_221_1375_1570', 'YTMA79-10_222_1480_1568', 'YTMA79-10_223_1591_1559', 'YTMA79-10_224_1704_1551', 'YTMA79-10_227_1697_1654', 'YTMA79-10_228_1593_1670', 'YTMA79-10_229_1493_1670', 'YTMA79-10_230_1383_1677', 'YTMA79-10_234_959_1707', 'YTMA79-10_236_757_1719', 'YTMA79-10_238_548_1721']\n"
     ]
    }
   ],
   "source": [
    "print(final_filenames)"
   ]
  },
  {
   "cell_type": "code",
   "execution_count": 9,
   "id": "c771d337",
   "metadata": {},
   "outputs": [
    {
     "name": "stdout",
     "output_type": "stream",
     "text": [
      "114\n",
      "3\n"
     ]
    }
   ],
   "source": [
    "# collect features\n",
    "collagen_features = []\n",
    "for file in final_filenames:\n",
    "    file_features = []\n",
    "        \n",
    "    for file_1 in ec_files:\n",
    "        if file in file_1:\n",
    "            filename = file_1.split(\"/\")[-1]\n",
    "            flag = -1\n",
    "            slide_features = []\n",
    "            \n",
    "            with open(file_1, newline='') as csvfile:\n",
    "                spamreader = csv.reader(csvfile)\n",
    "                for row in spamreader:\n",
    "                    if flag == -1:\n",
    "                        array = row\n",
    "                        for index in range(0, len(array)):\n",
    "                            slide_features.append(float(array[index]))\n",
    "            file_features.append(slide_features)\n",
    "    \n",
    "    f = [sum(col) / float(len(col)) for col in zip(*file_features)]\n",
    "    collagen_features.append(f)\n",
    "print(len(collagen_features))\n",
    "print(len(collagen_features[0]))"
   ]
  },
  {
   "cell_type": "code",
   "execution_count": 10,
   "id": "3e2471b7",
   "metadata": {},
   "outputs": [
    {
     "name": "stdout",
     "output_type": "stream",
     "text": [
      "[[0.176930606285435, 0.10047847889952152, 0.16838488972508592], [0.14777778777777778, 0.13757397449704142, 0.1489796018367347], [0.1623931723931624, 0.2276923176923077, 0.20246914580246914], [0.07744566217391304, 0.09430439842203547, 0.09079755601226994], [0.18166940443535187, 0.1848184918481848, 0.18634260259259258], [0.12477232329690345, 0.15418503202643172, 0.130879355603272], [0.16926771708283314, 0.07764706882352941, 0.15306123448979592], [0.10160056671537926, 0.05263158894736842, 0.10094851948509484], [0.22448980591836734, 0.22344323344322345, 0.23796792443850268], [0.12831859407079646, 0.07582939388625592, 0.11276949590381426], [0.07533113582781456, 0.14960630921259843, 0.07984497124031008], [0.21039183282793866, 0.07619048619047619, 0.20675454047775946], [0.20934580439252337, 0.1705989210707804, 0.1986970784039088], [0.14270153505446623, 0.024390253902439027, 0.14027631180658873], [0.1983273696176822, 0.028735642183908047, 0.17733474242392444], [0.22678572428571428, 0.13725491196078432, 0.1952941276470588], [0.20949075074074072, 0.07349082364829396, 0.16901409450704225], [0.22281168108753316, 0.14285715285714284, 0.20781894004115226], [0.21413722413721414, 0.13281251, 0.2022867294371152], [0.22774870109947642, 0.07980457026058631, 0.11356046424181696], [0.18487395957983194, 0.07352942176470588, 0.15914787967418545], [0.13500001, 0.05333334333333334, 0.12045691550363447], [0.20969697969696968, 0.13513514513513514, 0.1954137687238285], [0.12191781821917808, 0.2727272827272727, 0.17801048120418847], [0.07520892364902507, 0.06935484870967741, 0.07426509509541], [0.14102565102564102, 0.19637463235649547, 0.156158367771261], [0.19837588006960558, 0.1786407866990291, 0.1950832772482157], [0.1393188954489164, 0.14012739853503184, 0.14227087183310533], [0.13458263350936966, 0.21904762904761904, 0.19057105913678618], [0.2871287228712871, 0.1893687807641196, 0.21614584333333334], [0.2857142957142857, 0.3049792631120332, 0.30390144737166325], [0.15446072904127828, 0.09574469085106382, 0.14709237031927022], [0.1951219612195122, 0.12801014941698352, 0.1319358916276202], [0.13521773345301757, 0.048583005951417006, 0.12593095109681787], [0.2222222322222222, 0.19639279557114228, 0.20256777034236803], [0.20930233558139535, 0.18115943028985507, 0.20245399773006134], [0.162839258434238, 0.10333864275039745, 0.14002733240437157], [0.2146341563414634, 0.18741059655221745, 0.19314286714285714], [0.024356627647058825, 0.04600485261501211, 0.028537465410225924], [0.2793765088009592, 0.1934984620123839, 0.25181951509461425], [0.22807018543859647, 0.14678900082568808, 0.1627907076744186], [0.2339499555930359, 0.10305344511450382, 0.1924242524242424], [0.08089501860585198, 0.06306307306306305, 0.07378130117259551], [0.3630573348407643, 0.2318840679710145, 0.3048780587804878], [0.16036229023441662, 0.006666676666666667, 0.1540816426530612], [0.3682983782983683, 0.2692967509948542, 0.316702829956616], [0.18497110826589594, 0.12634409602150537, 0.14932127696832578], [0.17539268015706805, 0.10091744119266055, 0.1668472472697725], [0.14264991328820115, 0.20098847787479407, 0.15929909403026682], [0.37857143857142855, 0.26956522739130434, 0.311178257734139], [0.14858491566037735, 0.1183206206870229, 0.15004841271055178], [0.18982119294360383, 0.15629743033383914, 0.1735668889808917], [0.17678101263852242, 0.15097691941385435, 0.16511628906976744], [0.19938651306748464, 0.12409813409812409, 0.14907509161044613], [0.05732485076433121, 0.17391305347826086, 0.06881406563689604], [0.14285715285714284, 0.1958762986597938, 0.18820225719101122], [1e-08, 0.3316062276165803, 0.3316062276165803], [0.15463918525773196, 0.08984376, 0.1458153680672994], [0.1393998163891578, 0.1598173615981735, 0.14393940393939395], [0.14658274381294964, 0.2862903325806452, 0.1750380617503805], [0.1782334484858044, 0.09919572045576407, 0.15126051420168066], [0.1829787334042553, 0.055276391909547744, 0.16367981884109917], [1e-08, 0.09594461929772502, 0.09575519262586377], [0.06334842628959275, 0.014285724285714285, 0.04950496049504951], [0.10631971260223048, 0.10625910752547306, 0.10829372368198625], [0.09379510379509379, 0.1187648556057007, 0.1072194524588992], [0.2608695752173913, 0.3203463303463203, 0.3237705018032787], [0.10046729971962616, 0.15830116830115828, 0.13310581204778157], [0.15921788709497206, 0.2484076533121019, 0.1898115940893231], [0.1751054952320675, 0.12588653482269502, 0.1506849415068493], [0.18887016177065766, 0.12864078669902912, 0.15449011654490105], [0.21364986163204747, 0.22942644391521197, 0.23865301146412884], [0.12589929057553956, 1e-08, 0.12411348517730496], [0.14447593067988668, 0.16296297296296297, 0.15096619357487923], [0.17125001, 0.07165110034267912, 0.15090736434574975], [0.04734849484848485, 0.0945946045945946, 0.0535405972193437], [0.1111111211111111, 0.18418260023354563, 0.17860509953817152], [0.12201835862385321, 0.09523810523809523, 0.11899642577060932], [0.017857152857142858, 0.04761905761904762, 0.035398240088495576], [0.19186047511627907, 0.20000001, 0.20194987072423398], [0.18882979723404256, 0.19498290623717218, 0.19756310834638816], [0.11818182818181817, 0.15696650029982362, 0.1584241508214585], [0.20000001, 0.09554141127388535, 0.16071429571428572], [0.19423369740515933, 0.17333334333333333, 0.18996799292422625], [0.1722689175630252, 0.1828978722327791, 0.1782178317821782], [0.09248555913294797, 0.14073072718538565, 0.12423313883435583], [0.25000001, 0.29268293682926827, 0.28187920463087246], [0.21729958805907174, 0.18803419803418803, 0.21313365055299538], [0.3326134009287257, 0.22857143857142856, 0.3035993840219092], [0.0595703225, 1e-08, 0.05882353941176471], [0.11948530411764706, 0.15070243656449553, 0.1441515750741351], [0.12944163436548223, 0.08689249895434462, 0.10169492525423729], [0.048249773481551565, 0.05246253676659529, 0.05299786867237687], [0.1287223923246878, 0.07079647017699114, 0.1185870579394449], [0.23174604174603175, 0.09635417666666667, 0.16510904426791276], [0.24375001, 0.20066890632107023, 0.24151697606786426], [0.19652174913043477, 0.2179930895847751, 0.20236687390532543], [0.14839798639123103, 0.1776061876061776, 0.16025642025641026], [0.2545454645454545, 0.16452992452991452, 0.20352782546811396], [0.21266969325791854, 0.10878662087866109, 0.15151516151515151], [0.14285715285714284, 0.09711287089238844, 0.11993770470404984], [0.14952280957582184, 0.036363646363636364, 0.13994170096209912], [0.21082622082621083, 0.12797620047619046, 0.19013361739979445], [0.14624506928853753, 0.17091837734693877, 0.1610738355033557], [0.06875835445927904, 0.16546763589928057, 0.07678019575851393], [0.24812031075187968, 0.2390852490852391, 0.24281610195402298], [0.24899599393574295, 0.08026756852842809, 0.21617162716171617], [0.0273224143715847, 0.041666676666666666, 0.027863787089783282], [0.18628159844765343, 0.20256411256410256, 0.19434417365824308], [0.07117438722419929, 0.26523298491039426, 0.2030456952791878], [0.040492967746478876, 0.056086689413639264, 0.05514158973174367], [0.08045978011494252, 0.1951219612195122, 0.18639799488664988], [0.20886076949367088, 0.28893906191873586, 0.2732049136777583], [0.18329467357308585, 0.2690513319284603, 0.2374384336453202]]\n"
     ]
    }
   ],
   "source": [
    "print(collagen_features)"
   ]
  },
  {
   "cell_type": "code",
   "execution_count": null,
   "id": "5a390a86",
   "metadata": {},
   "outputs": [],
   "source": []
  },
  {
   "cell_type": "code",
   "execution_count": null,
   "id": "3c86b73a",
   "metadata": {},
   "outputs": [],
   "source": []
  },
  {
   "cell_type": "code",
   "execution_count": 11,
   "id": "83f00907",
   "metadata": {},
   "outputs": [
    {
     "name": "stdout",
     "output_type": "stream",
     "text": [
      "114\n"
     ]
    }
   ],
   "source": [
    "y = []\n",
    "event = []\n",
    "survival_time = []\n",
    "for index in range(0, len(final_censor)):\n",
    "    y.append([final_censor[index], final_days[index]])\n",
    "    event.append(final_censor[index])\n",
    "    survival_time.append(final_days[index])\n",
    "print(len(y))"
   ]
  },
  {
   "cell_type": "code",
   "execution_count": 12,
   "id": "510ffae1",
   "metadata": {},
   "outputs": [
    {
     "name": "stdout",
     "output_type": "stream",
     "text": [
      "114\n",
      "3\n"
     ]
    }
   ],
   "source": [
    "# generate training set for training model\n",
    "features = []\n",
    "for index in range(0, len(final_filenames)):\n",
    "    #features.append(final_til_features[index]+collagen_features[index])\n",
    "    features.append(collagen_features[index])\n",
    "    #features.append(final_til_features[index])\n",
    "print(len(features))\n",
    "print(len(features[0]))"
   ]
  },
  {
   "cell_type": "code",
   "execution_count": 13,
   "id": "8fb55c91",
   "metadata": {},
   "outputs": [],
   "source": [
    "# final training information to be used for training model\n",
    "features = np.array(features)\n",
    "y = np.array(y)\n",
    "event = np.array(event)\n",
    "survival_time = np.array(survival_time)"
   ]
  },
  {
   "cell_type": "code",
   "execution_count": 33,
   "id": "30438eb6",
   "metadata": {},
   "outputs": [
    {
     "name": "stdout",
     "output_type": "stream",
     "text": [
      "0.5266694335632429 0.02046837983496862\n",
      "0.7588652482269503\n"
     ]
    }
   ],
   "source": [
    "# main code for training\n",
    "iter_scores = []\n",
    "max_score = -1\n",
    "dt = dtype=[('Status', '?'), ('Survival_in_days', '<f8')]\n",
    "for iter in range(100):\n",
    "    model_score = []\n",
    "    kf = KFold(n_splits=5, shuffle=True)\n",
    "    for train_index, test_index in kf.split(features):\n",
    "        # get the training and validation data\n",
    "        features_train, features_test = features[train_index], features[test_index]\n",
    "        y_train, y_test = y[train_index], y[test_index]\n",
    "        event_train, survival_time_train = event[train_index], survival_time[train_index]\n",
    "        event_test, survival_time_test = event[test_index], survival_time[test_index]\n",
    "        y_train = np.array([tuple(row) for row in y_train], dtype=dt)\n",
    "        y_test = np.array([tuple(row) for row in y_test], dtype=dt)\n",
    "        \n",
    "        # feature selection\n",
    "        scaler = MinMaxScaler()\n",
    "        features_train = scaler.fit_transform(features_train)\n",
    "        features_test = scaler.transform(features_test)\n",
    "        #select = SelectKBest(score_func=chi2, k=len(features[0])-6)\n",
    "        #features_train_selected = select.fit_transform(features_train, survival_time_train)\n",
    "        #features_test_selected = select.transform(features_test)\n",
    "        features_train_df = pd.DataFrame(features_train)\n",
    "        features_test_df = pd.DataFrame(features_test)\n",
    "        \n",
    "        # fit model\n",
    "        estimator = CoxnetSurvivalAnalysis(l1_ratio=0.99, alpha_min_ratio=0.05)\n",
    "        estimator.fit(features_train_df, y_train)\n",
    "        \n",
    "        # score on validation set\n",
    "        score, _, _, _, _ = concordance_index_censored(event_test, survival_time_test, estimator.predict(features_test_df))\n",
    "        model_score.append(score)\n",
    "        if score > max_score:\n",
    "            max_score = score\n",
    "    \n",
    "    if len(model_score) > 0:\n",
    "        iter_scores.append(np.mean(model_score))\n",
    "        max_score = max(max(model_score), max_score)\n",
    "print(np.mean(iter_scores), np.std(iter_scores))\n",
    "print(max_score)"
   ]
  },
  {
   "cell_type": "code",
   "execution_count": 14,
   "id": "7d6950b6",
   "metadata": {},
   "outputs": [
    {
     "data": {
      "text/plain": [
       "CoxnetSurvivalAnalysis(alpha_min_ratio=0.05, l1_ratio=0.99)"
      ]
     },
     "execution_count": 14,
     "metadata": {},
     "output_type": "execute_result"
    }
   ],
   "source": [
    "# model to be used for external validation\n",
    "features_train = features\n",
    "y_train = y\n",
    "event_train, survival_time_train = event, survival_time\n",
    "dt = dtype=[('Status', '?'), ('Survival_in_days', '<f8')]\n",
    "y_train = np.array([tuple(row) for row in y_train], dtype=dt)\n",
    "        \n",
    "# feature selection\n",
    "scaler = MinMaxScaler()\n",
    "features_train = scaler.fit_transform(features_train)\n",
    "#select = SelectKBest(score_func=chi2, k=len(features[0])-4)\n",
    "#features_train_selected = select.fit_transform(features_train, survival_time_train)\n",
    "features_train_df = pd.DataFrame(features_train)\n",
    "        \n",
    "# fit model\n",
    "estimator = CoxnetSurvivalAnalysis(l1_ratio=0.99, alpha_min_ratio=0.05)\n",
    "estimator.fit(features_train_df, y_train)"
   ]
  },
  {
   "cell_type": "code",
   "execution_count": 15,
   "id": "54e50739",
   "metadata": {},
   "outputs": [
    {
     "name": "stdout",
     "output_type": "stream",
     "text": [
      "0\n",
      "0.00024777929030766436\n",
      "1\n",
      "0.002203506045013648\n",
      "2\n",
      "0.03335743986408717\n",
      "\n",
      "Prognostic features count = 3\n"
     ]
    }
   ],
   "source": [
    "# find prognostic features from model trained above\n",
    "count = 0\n",
    "for index1 in range(0, len(estimator.coef_)):\n",
    "    flag = -1\n",
    "    for index2 in range(0, len(estimator.coef_[index1])):\n",
    "        if estimator.coef_[index1][index2] > 0:\n",
    "            flag = 1\n",
    "            print(index1)\n",
    "            print(estimator.coef_[index1][index2])\n",
    "            break\n",
    "    if flag == 1:\n",
    "        count += 1\n",
    "print()\n",
    "print(\"Prognostic features count = \" + str(count))"
   ]
  },
  {
   "cell_type": "code",
   "execution_count": null,
   "id": "193a41c1",
   "metadata": {},
   "outputs": [],
   "source": []
  },
  {
   "cell_type": "code",
   "execution_count": null,
   "id": "7d5cc6e4",
   "metadata": {},
   "outputs": [],
   "source": []
  },
  {
   "cell_type": "code",
   "execution_count": 16,
   "id": "0f622393",
   "metadata": {},
   "outputs": [
    {
     "name": "stdout",
     "output_type": "stream",
     "text": [
      "100\n"
     ]
    }
   ],
   "source": [
    "oc_files = (glob.glob(\"../../tam_results/macrophage_tcga_final/*\"))\n",
    "print(len(oc_files))"
   ]
  },
  {
   "cell_type": "code",
   "execution_count": 17,
   "id": "d6f7c780",
   "metadata": {},
   "outputs": [
    {
     "name": "stdout",
     "output_type": "stream",
     "text": [
      "[[0.00014818997940298286, 0.00014669133480014668, 0.00013132079689896423], [0.007466339966329966, 0.0015420746317838796, 0.004648486179997799], [0.0014688268049782654, 0.00011877345823614847, 0.000730889324187524], [0.000218272857405429, 0.00020376559958776403, 0.00020706643544566802], [0.00596311770040699, 0.0007054363565891474, 0.002128200867507349], [0.00756324974340172, 0.000923806872576719, 0.006664269185749724], [0.014865759836280287, 0.002341181958962025, 0.0053560225003854225], [0.0019514339679498345, 0.0006276857949906241, 0.0012758293428917664], [0.00012741708383386116, 2.2017090684618587e-05, 4.3026380279140464e-05], [0.00221025585200436, 0.0008354712098890367, 0.0015027562377009224], [0.02356725269701613, 0.013774431340199471, 0.02107045556738179], [0.003871532263121508, 0.00051814782466136, 0.0016938873887249795], [0.0013968569952906907, 0.0014748896392865797, 0.0014108510687536049], [0.017570479904256912, 0.009097597785922215, 0.014103201597838278], [0.00913451494726603, 0.014285054387789101, 0.01147518165672959], [0.004530576397165306, 0.0018160799911146267, 0.0036175995747045916], [0.024225063163105204, 0.005078181483887703, 0.016061119319854336], [0.0014763029015089836, 0.002278354145814025, 0.0017780429639041586], [0.01376880970729265, 0.001606848515682921, 0.0038452245456321588], [0.00017202418416220808, 0.00021995755096861517, 0.00017538998997828628], [0.013632067265167198, 0.004125439191663808, 0.005320739441033828], [0.0011858190723094935, 0.00048678485347419104, 0.00079029520488501], [0.00031282406199042924, 0.00014006652537716503, 0.00027251898508398934], [0.05259675799553386, 0.01443621756925478, 0.04409272291214079], [0.00011732634352030249, 0.00022218650689158608, 0.00015107053380645886], [0.006550528289516155, 0.009877264724037719, 0.007773594905660377], [0.006042107211488156, 0.001583878248020838, 0.004740639804486584], [0.00029128657898783264, 0.00010188564379747122, 0.00022175962912169962], [0.00046279399965155085, 0.0005840950608338378, 0.0005466744633802363], [0.03484060199126656, 0.017117289861905624, 0.032139695696426586], [0.04009820967266776, 0.011051260172675784, 0.034554600623108646], [0.00788307060410064, 0.0035083742535822445, 0.005538513210717062], [0.11724452156479265, 0.048799851301329106, 0.1163745238437469], [0.011312143672588487, 0.005755023775408375, 0.007851881877899368], [0.2724246836373198, 0.07495882383855024, 0.2440031303276344], [0.2522656609132151, 0.13630772223207926, 0.22883272323759518], [0.005109886862906178, 0.005531341938838641, 0.005160164421883508], [0.07354452976955969, 0.013532677386609071, 0.04083232559785239], [0.20593598175735245, 0.1653330224541243, 0.1964417462521628], [0.023044171529744962, 0.018914944226316333, 0.022600826990300662], [0.26755643348346264, 0.08487740931210473, 0.2444208554206382], [0.007030933936889343, 0.0019863244185814094, 0.0042550912818771144], [0.03505974536590588, 0.011903528847238175, 0.033113952867201944], [0.14341574567863086, 0.012014539198100027, 0.14091925393615098], [0.157779198773259, 0.0747682088557901, 0.15205755180677655], [0.011796236265404348, 0.0016403006145841851, 0.005942445857444211], [0.01946756838971408, 0.0035151536539334586, 0.0120882836434203], [0.14864343812992184, 0.048619594324268434, 0.1294599263626657], [0.0004471553116638031, 0.0003925507793116821, 0.0003953948549162931], [0.007155871231920704, 0.0018386650651600455, 0.0060233368396485675], [0.2727119044117705, 0.012364035441360043, 0.24428144240258715], [0.1849235172743789, 0.07887701534759357, 0.16908828641302176], [0.023637859799639817, 0.010761407169186155, 0.019788086607080313], [0.000993458682251563, 0.00022194540602328382, 0.0005298995837969355], [0.10372181146197655, 0.015195758846975004, 0.08562817857700157], [0.001406611650412603, 0.0002661164425770308, 0.00038239559269766867], [0.012395360001072416, 0.0011939001985563954, 0.006382664836464857], [0.015717139565784032, 0.002256197834935463, 0.009938096625277712], [0.0019931124047667496, 0.0005014921030471245, 0.0012079747741885205], [0.040136306773007266, 0.0136986401369863, 0.03626254599443948], [0.0003543309439109946, 0.0008557717435952787, 0.0008322300160908173], [0.0009557826046767394, 0.00039627278718901897, 0.00045085934435931663], [0.29821087988985046, 0.06767637369959484, 0.260471511383254], [0.21126228860685764, 0.12086615173228346, 0.20441214589782422], [0.008562407042027822, 0.002307089639873398, 0.005432705690634392], [0.0007698386118406271, 0.0005711394084051212, 0.0006619928882413211], [0.2018409204602985, 0.08605668914320762, 0.181246294196376], [0.010089649863660071, 0.0024513678493275526, 0.00557560197773564], [0.00014138545465060983, 3.616953587226845e-05, 5.279732607352343e-05], [0.01025145578617897, 0.0046575052062029715, 0.007162735413168322], [8.168132193201679e-05, 2.9767255190781204e-05, 4.0126770661679846e-05], [0.012625582262361951, 0.00800499502285211, 0.010213398553594922], [0.00019736189637231333, 0.00022595258143043518, 0.00022158040663445102], [0.002445806265525374, 0.0009683568665712491, 0.002142865093846726], [0.01448900070892198, 0.0038541426842162497, 0.006805441115868215], [0.005033036566518837, 0.008234223786352256, 0.00587872649732213], [0.011981016044733674, 0.0020824647750818416, 0.008237055343799855], [0.0007911372041260327, 0.00016592058841375255, 0.0005290132603108739], [0.00031554398058252425, 0.00031779832918112577, 0.0003055041240590324], [0.015570839591091214, 0.002393378123462627, 0.008330349792168895], [0.008927207553027129, 0.004479244562127145, 0.006511568386586976], [0.0073831655781046186, 0.0008947758503850031, 0.004975853112151109], [1e-08, 1e-08, 1e-08], [0.000327301080629019, 0.0003733052548011931, 0.0003392133702108279], [0.03828271303781773, 0.019664381337285215, 0.02540635213571682], [0.007568672876464836, 0.0007316248215765964, 0.0031331329284334606], [0.02424413723389907, 0.0014611171539459025, 0.009179403293318811], [0.0015872469866916282, 0.0003657724802999252, 0.0008780788452861876], [0.027296029687400223, 0.005393605512945933, 0.020877387937118925], [1.6625343716077008e-05, 6.960864339980676e-06, 1.0906759739523854e-05], [0.12255870118951064, 0.01372393924247677, 0.07432287108006219], [0.001163982515375029, 0.0005093352988414571, 0.0009012227868149587], [0.021838606491228072, 0.006814679631751536, 0.016424731791814647], [1.1794184446054949e-05, 6.508697011249245e-06, 9.466264775413712e-06], [0.0329730914016067, 0.011719782109920389, 0.02298929653275862], [0.09914016938087325, 0.008019212286754918, 0.06497440459711755], [0.008615300908155037, 0.003531473643565147, 0.006593407778939361], [0.0003571953792118109, 0.00011882725905557252, 0.0001547455371752128], [0.027738811720082208, 0.008353650068967019, 0.01771513836530092], [0.019291981521375377, 0.003471924241183999, 0.008656257688727818]]\n"
     ]
    }
   ],
   "source": [
    "test_tam_features = []\n",
    "for file in oc_files:\n",
    "    filename = file.split(\"/\")[-1]\n",
    "    flag = -1\n",
    "    file_features = []\n",
    "    with open(file, newline='') as csvfile:\n",
    "        spamreader = csv.reader(csvfile)\n",
    "        for row in spamreader:\n",
    "            if flag == -1:\n",
    "                array = row\n",
    "                for index in range(0, len(array)):\n",
    "                    file_features.append(float(array[index]))\n",
    "    test_tam_features.append(file_features)\n",
    "print(test_tam_features)"
   ]
  },
  {
   "cell_type": "code",
   "execution_count": 18,
   "id": "57a6746f",
   "metadata": {},
   "outputs": [
    {
     "name": "stdout",
     "output_type": "stream",
     "text": [
      "['patient_name', 'SF1', 'SF2', 'SF3', 'SF4', 'SF5', 'SF6', 'SF7', 'cont_risk_score', 'binary_risk_score', 'WSI_Width', 'WSI_Height', 'year_of_birth', 'race', 'year_of_death', 'vital_status', 'Organ', 'treatment_type', 'Age', 'TTE', 'censor', 'Site', 'stage', 'OS_days', 'Vital', 'stage_numeric']\n",
      "103\n",
      "103\n",
      "103\n"
     ]
    }
   ],
   "source": [
    "# Sepideh OC Spatil features\n",
    "test_censor = []\n",
    "test_days = []\n",
    "test_filenames = []\n",
    "flag = -1\n",
    "with open(\"../../DATA_OC.csv\", newline='', encoding = \"ISO-8859-1\") as csvfile:\n",
    "    spamreader = csv.reader(csvfile)\n",
    "    for row in spamreader:\n",
    "        if flag == -1:\n",
    "            flag = 1\n",
    "            print(row)\n",
    "        else:\n",
    "            array = row\n",
    "            #if int(array[23]) > 1800:\n",
    "            #    array[20] = 0\n",
    "                \n",
    "            test_filenames.append(array[0])\n",
    "            test_censor.append(bool(int(array[20])))\n",
    "            test_days.append(int(array[23]))\n",
    "\n",
    "print(len(test_filenames))\n",
    "print(len(test_censor))\n",
    "print(len(test_days))"
   ]
  },
  {
   "cell_type": "code",
   "execution_count": 20,
   "id": "0a6d0598",
   "metadata": {},
   "outputs": [
    {
     "name": "stdout",
     "output_type": "stream",
     "text": [
      "100\n",
      "100\n",
      "100\n"
     ]
    }
   ],
   "source": [
    "test_y = []\n",
    "test_event = []\n",
    "test_survival_time = []\n",
    "for file in oc_files:\n",
    "    count = 0\n",
    "    filename1 = file.split(\"/\")[-1][:-4]\n",
    "    for filename in test_filenames:\n",
    "        filename2 = filename\n",
    "        if filename1 == filename2:\n",
    "            test_y.append([test_censor[count], test_days[count]])\n",
    "            test_event.append(test_censor[count])\n",
    "            test_survival_time.append(test_days[count])\n",
    "        count += 1\n",
    "print(len(test_y))\n",
    "print(len(test_event))\n",
    "print(len(test_survival_time))"
   ]
  },
  {
   "cell_type": "code",
   "execution_count": 21,
   "id": "af4ffd1a",
   "metadata": {},
   "outputs": [
    {
     "name": "stdout",
     "output_type": "stream",
     "text": [
      "100\n",
      "3\n"
     ]
    }
   ],
   "source": [
    "# generate training set for training model\n",
    "test_features = []\n",
    "for index in range(0, len(oc_files)):\n",
    "    #features.append(final_til_features[index]+collagen_features[index])\n",
    "    test_features.append(test_tam_features[index])\n",
    "    #features.append(final_til_features[index])\n",
    "print(len(test_features))\n",
    "print(len(test_features[0]))"
   ]
  },
  {
   "cell_type": "code",
   "execution_count": 22,
   "id": "691df8d0",
   "metadata": {},
   "outputs": [],
   "source": [
    "# final training information to be used for training model\n",
    "test_features = np.array(test_features)\n",
    "test_y = np.array(test_y)\n",
    "test_event = np.array(test_event)\n",
    "test_survival_time = np.array(test_survival_time)"
   ]
  },
  {
   "cell_type": "code",
   "execution_count": 31,
   "id": "b3fb7c6f",
   "metadata": {},
   "outputs": [
    {
     "name": "stdout",
     "output_type": "stream",
     "text": [
      "0.5526611273298899\n",
      "8\n",
      "106\n"
     ]
    }
   ],
   "source": [
    "# run on test set\n",
    "group = []\n",
    "features_train = test_features\n",
    "features_test = features\n",
    "y_train = test_y\n",
    "event_train, survival_time_train = test_event, test_survival_time\n",
    "dt = dtype=[('Status', '?'), ('Survival_in_days', '<f8')]\n",
    "y_train = np.array([tuple(row) for row in y_train], dtype=dt)\n",
    "scaler = MinMaxScaler()\n",
    "features_train = scaler.fit_transform(features_train)\n",
    "features_test = scaler.transform(features_test)\n",
    "#select = SelectKBest(score_func=chi2, k=len(features[0])-4)\n",
    "#features_train_selected = select.fit_transform(features_train, survival_time_train)\n",
    "#features_test_selected = select.transform(features_test)\n",
    "features_train_df = pd.DataFrame(features_train)\n",
    "features_test_df = pd.DataFrame(features_test)\n",
    "        \n",
    "# fit model\n",
    "estimator = CoxnetSurvivalAnalysis(l1_ratio=0.99, alpha_min_ratio=0.05)\n",
    "estimator.fit(features_train_df, y_train)\n",
    "\n",
    "score, _, _, _, _ = concordance_index_censored(event, survival_time, estimator.predict(features_test_df))\n",
    "print(score)\n",
    "\n",
    "# get risk scores\n",
    "train_risk_scores = estimator.predict(features_train_df)\n",
    "test_risk_scores = estimator.predict(features_test_df)\n",
    "\n",
    "median = np.median(train_risk_scores)\n",
    "count_low = 0\n",
    "count_high = 0\n",
    "for index in range(0, len(test_risk_scores)):\n",
    "    if test_risk_scores[index] > median:\n",
    "        count_high += 1\n",
    "        group.append(1)\n",
    "    else:\n",
    "        count_low += 1\n",
    "        group.append(0)\n",
    "print(count_low)\n",
    "print(count_high)"
   ]
  },
  {
   "cell_type": "code",
   "execution_count": 29,
   "id": "75956d12",
   "metadata": {},
   "outputs": [
    {
     "name": "stdout",
     "output_type": "stream",
     "text": [
      "0; 0; 0; 1; 1; 0; 0; 1; 1; 1; 1; 0; 1; 1; 1; 1; 0; 0; 0; 0; 1; 1; 1; 0; 1; 0; 0; 0; 0; 1; 1; 1; 1; 1; 1; 1; 0; 1; 0; 1; 1; 0; 0; 1; 0; 1; 1; 0; 1; 1; 1; 0; 1; 0; 1; 0; 1; 0; 0; 1; 1; 0; 1; 0; 1; 0; 1; 0; 0; 0; 1; 1; 1; 0; 1; 1; 1; 1; 1; 0; 0; 1; 1; 1; 1; 0; 1; 1; 1; 1; 0; 0; 0; 1; 0; 1; 0; 1; 0; 0; 0; 0; 1; 1; 0; 0; 0; 1; 1; 1; 1; 0; 1; 1\n"
     ]
    }
   ],
   "source": [
    "a = []\n",
    "for index in range(0, len(event)):\n",
    "    if event[index] == False:\n",
    "        a.append(0)\n",
    "    else:\n",
    "        a.append(1)\n",
    "print(*a, sep=\"; \")"
   ]
  },
  {
   "cell_type": "code",
   "execution_count": 30,
   "id": "137bc8bc",
   "metadata": {},
   "outputs": [
    {
     "name": "stdout",
     "output_type": "stream",
     "text": [
      "1376; 1821; 1333; 1136; 3002; 2521; 3135; 23; 1400; 2014; 556; 2190; 2145; 779; 682; 450; 1278; 1326; 799; 346; 1790; 556; 534; 2889; 2522; 550; 1488; 1278; 1748; 132; 4; 611; 329; 982; 982; 522; 827; 898; 2400; 898; 306; 1088; 3889; 252; 2844; 765; 1432; 539; 80; 701; 376; 635; 30; 694; 369; 2816; 614; 2542; 2971; 2825; 424; 2847; 919; 1410; 7; 788; 872; 2292; 2092; 931; 1400; 498; 693; 2884; 2195; 746; 787; 1803; 150; 568; 681; 66; 429; 77; 661; 540; 702; 277; 2498; 737; 3364; 3297; 2162; 1726; 1156; 733; 2295; 662; 1725; 1249; 796; 645; 3002; 1525; 2770; 3364; 2521; 2014; 409; 2952; 1525; 763; 969; 337\n"
     ]
    }
   ],
   "source": [
    "print(*survival_time, sep=\"; \")"
   ]
  },
  {
   "cell_type": "code",
   "execution_count": 32,
   "id": "833aaec6",
   "metadata": {},
   "outputs": [
    {
     "name": "stdout",
     "output_type": "stream",
     "text": [
      "1; 1; 1; 1; 1; 1; 1; 1; 1; 1; 1; 1; 1; 0; 0; 1; 1; 1; 1; 1; 1; 1; 1; 1; 1; 1; 1; 1; 1; 1; 1; 1; 1; 1; 1; 1; 1; 1; 1; 1; 1; 1; 1; 1; 0; 1; 1; 1; 1; 1; 1; 1; 1; 1; 1; 1; 1; 1; 1; 1; 1; 0; 1; 0; 1; 1; 1; 1; 1; 1; 1; 1; 0; 1; 1; 1; 1; 1; 1; 1; 1; 1; 1; 1; 1; 1; 1; 1; 1; 0; 1; 1; 1; 1; 1; 1; 1; 1; 1; 1; 1; 0; 1; 1; 1; 1; 1; 1; 1; 1; 1; 1; 1; 1\n"
     ]
    }
   ],
   "source": [
    "print(*group, sep=\"; \")"
   ]
  },
  {
   "cell_type": "code",
   "execution_count": null,
   "id": "fe8f7391",
   "metadata": {},
   "outputs": [],
   "source": []
  }
 ],
 "metadata": {
  "kernelspec": {
   "display_name": "Python 3",
   "language": "python",
   "name": "python3"
  },
  "language_info": {
   "codemirror_mode": {
    "name": "ipython",
    "version": 3
   },
   "file_extension": ".py",
   "mimetype": "text/x-python",
   "name": "python",
   "nbconvert_exporter": "python",
   "pygments_lexer": "ipython3",
   "version": "3.8.8"
  }
 },
 "nbformat": 4,
 "nbformat_minor": 5
}
