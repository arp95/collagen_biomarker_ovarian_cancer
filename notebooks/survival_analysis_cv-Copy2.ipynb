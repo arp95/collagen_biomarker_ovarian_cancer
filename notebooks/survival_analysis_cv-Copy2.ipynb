{
 "cells": [
  {
   "cell_type": "code",
   "execution_count": 1,
   "id": "711e0b25",
   "metadata": {},
   "outputs": [
    {
     "name": "stdout",
     "output_type": "stream",
     "text": [
      "Header files loaded!\n"
     ]
    }
   ],
   "source": [
    "# header files\n",
    "import glob\n",
    "import csv\n",
    "import numpy as np\n",
    "import pandas as pd\n",
    "from sksurv.nonparametric import kaplan_meier_estimator\n",
    "from sksurv.linear_model import CoxnetSurvivalAnalysis\n",
    "from sksurv.ensemble import RandomSurvivalForest\n",
    "from sksurv.metrics import (\n",
    "    concordance_index_censored,\n",
    "    concordance_index_ipcw,\n",
    "    cumulative_dynamic_auc,\n",
    "    integrated_brier_score,\n",
    ")\n",
    "from sklearn.preprocessing import StandardScaler, MinMaxScaler, RobustScaler\n",
    "from sklearn.pipeline import make_pipeline\n",
    "from sklearn.model_selection import KFold\n",
    "from sklearn.model_selection import train_test_split\n",
    "import matplotlib.pyplot as plt\n",
    "from sklearn.feature_selection import SelectKBest\n",
    "from sklearn.feature_selection import chi2, f_regression, f_classif\n",
    "from datetime import datetime\n",
    "print(\"Header files loaded!\")"
   ]
  },
  {
   "cell_type": "code",
   "execution_count": 2,
   "id": "8527b1c9",
   "metadata": {},
   "outputs": [],
   "source": [
    "# hyper-parameters\n",
    "date_format = \"%m/%d/%Y\"\n",
    "is_ovarian_cancer = 1\n",
    "is_cervix_cancer = 0\n",
    "is_endometrial_cancer = 0\n",
    "\n",
    "def mean(a):\n",
    "    return sum(a) / len(a)"
   ]
  },
  {
   "cell_type": "code",
   "execution_count": 3,
   "id": "5a8fcc63",
   "metadata": {},
   "outputs": [
    {
     "name": "stdout",
     "output_type": "stream",
     "text": [
      "['TMA_label', 'Gender', 'Race', 'Diagnosis', 'DiagnosisDate', 'AgeatDiagnosis', 'AliveDeadCensor', 'AliveDeadStatus', 'DateLastSeen', 'DODCensor', 'DODStatus', 'FollowupDays', 'FollowupMonths', 'PrimaryStatus', 'Core', 'Stage', 'histology_subtype', 'smoking_status', 'CD4', 'CD20', 'CD8', 'OS_m', 'OS_d', 'DSS_censor', 'DSS_censor_bin', 'OS_Censor', 'OS_bin']\n",
      "116\n",
      "116\n",
      "116\n"
     ]
    }
   ],
   "source": [
    "censor = []\n",
    "days = []\n",
    "filenames = []\n",
    "flag = -1\n",
    "with open(\"../../../Desktop/Yale_YTMA79_HEIF_clinical_info_v2.csv\", newline='', encoding = \"ISO-8859-1\") as csvfile:\n",
    "    spamreader = csv.reader(csvfile)\n",
    "    for row in spamreader:\n",
    "        if flag == -1:\n",
    "            flag = 1\n",
    "            print(row)\n",
    "        else:\n",
    "            array = row\n",
    "            \n",
    "            if array[1] == \"\" or array[22] == \"NA\":\n",
    "                continue\n",
    "            \n",
    "            filenames.append(str(array[0][1:len(array[0])-1]))\n",
    "            if array[26] == \"1\":\n",
    "                censor.append(False)\n",
    "                days.append(int(array[22]))\n",
    "            else:\n",
    "                censor.append(True)\n",
    "                days.append(int(array[22]))\n",
    "print(len(filenames))\n",
    "print(len(censor))\n",
    "print(len(days))"
   ]
  },
  {
   "cell_type": "code",
   "execution_count": 4,
   "id": "b477c761",
   "metadata": {},
   "outputs": [
    {
     "name": "stdout",
     "output_type": "stream",
     "text": [
      "YTMA79-10_2_383_254\n",
      "False\n",
      "1376\n"
     ]
    }
   ],
   "source": [
    "print(filenames[0])\n",
    "print(censor[0])\n",
    "print(days[0])"
   ]
  },
  {
   "cell_type": "code",
   "execution_count": 5,
   "id": "c3eb46da",
   "metadata": {},
   "outputs": [
    {
     "name": "stdout",
     "output_type": "stream",
     "text": [
      "YTMA79-10_120_309_943\n",
      "True\n",
      "701\n"
     ]
    }
   ],
   "source": [
    "print(filenames[50])\n",
    "print(censor[50])\n",
    "print(days[50])"
   ]
  },
  {
   "cell_type": "code",
   "execution_count": 6,
   "id": "a1a8fe8d",
   "metadata": {},
   "outputs": [
    {
     "name": "stdout",
     "output_type": "stream",
     "text": [
      "90\n"
     ]
    }
   ],
   "source": [
    "ec_files = (glob.glob(\"../../yale_lung_cancer/macrophage_output_1/*\"))\n",
    "print(len(ec_files))"
   ]
  },
  {
   "cell_type": "code",
   "execution_count": 7,
   "id": "a100c379",
   "metadata": {},
   "outputs": [
    {
     "name": "stdout",
     "output_type": "stream",
     "text": [
      "119\n"
     ]
    }
   ],
   "source": [
    "ec_files_1 = (glob.glob(\"../../yale_lung_cancer/macrophage_output/*\"))\n",
    "print(len(ec_files_1))"
   ]
  },
  {
   "cell_type": "code",
   "execution_count": 8,
   "id": "d83fa1a8",
   "metadata": {},
   "outputs": [
    {
     "name": "stdout",
     "output_type": "stream",
     "text": [
      "87\n",
      "87\n",
      "87\n"
     ]
    }
   ],
   "source": [
    "final_filenames = []\n",
    "final_censor = []\n",
    "final_days = []\n",
    "index = 0\n",
    "for file in filenames:\n",
    "    flag = -1\n",
    "    for file_1 in ec_files:\n",
    "        if file in file_1:\n",
    "            final_filenames.append(filenames[index])\n",
    "            final_censor.append(censor[index])\n",
    "            final_days.append(days[index])\n",
    "            break\n",
    "    index += 1\n",
    "print(len(final_filenames))\n",
    "print(len(final_censor))\n",
    "print(len(final_days))"
   ]
  },
  {
   "cell_type": "code",
   "execution_count": 9,
   "id": "b1ef7085",
   "metadata": {},
   "outputs": [
    {
     "name": "stdout",
     "output_type": "stream",
     "text": [
      "['YTMA79-10_2_383_254', 'YTMA79-10_3_486_245', 'YTMA79-10_4_614_221', 'YTMA79-10_5_715_219', 'YTMA79-10_7_914_216', 'YTMA79-10_8_1020_205', 'YTMA79-10_9_1122_196', 'YTMA79-10_12_1437_184', 'YTMA79-10_13_1550_179', 'YTMA79-10_20_1340_285', 'YTMA79-10_22_1126_303', 'YTMA79-10_31_289_460', 'YTMA79-10_35_715_422', 'YTMA79-10_36_819_423', 'YTMA79-10_38_1020_394', 'YTMA79-10_39_1132_402', 'YTMA79-10_43_1552_377', 'YTMA79-10_47_1667_470', 'YTMA79-10_50_1351_489', 'YTMA79-10_53_1025_500', 'YTMA79-10_56_711_529', 'YTMA79-10_57_603_534', 'YTMA79-10_58_506_527', 'YTMA79-10_59_402_547', 'YTMA79-10_65_715_625', 'YTMA79-10_68_1041_596', 'YTMA79-10_79_1460_680', 'YTMA79-10_86_720_722', 'YTMA79-10_87_612_729', 'YTMA79-10_89_407_738', 'YTMA79-10_92_403_848', 'YTMA79-10_95_720_820', 'YTMA79-10_97_937_801', 'YTMA79-10_110_1366_876', 'YTMA79-10_112_1147_888', 'YTMA79-10_114_927_904', 'YTMA79-10_120_309_943', 'YTMA79-10_121_307_1047', 'YTMA79-10_123_513_1031', 'YTMA79-10_125_735_1011', 'YTMA79-10_127_938_998', 'YTMA79-10_131_1364_974', 'YTMA79-10_133_1577_958', 'YTMA79-10_134_1679_959', 'YTMA79-10_137_1687_1058', 'YTMA79-10_138_1586_1057', 'YTMA79-10_140_374_1069', 'YTMA79-10_144_940_1097', 'YTMA79-10_147_625_1123', 'YTMA79-10_149_429_1134', 'YTMA79-10_150_315_1143', 'YTMA79-10_156_845_1202', 'YTMA79-10_158_1057_1192', 'YTMA79-10_159_1162_1191', 'YTMA79-10_163_1578_1159', 'YTMA79-10_164_1694_1160', 'YTMA79-10_169_1487_1264', 'YTMA79-10_170_1375_1270', 'YTMA79-10_174_954_1308', 'YTMA79-10_175_840_1307', 'YTMA79-10_179_427_1324', 'YTMA79-10_182_432_1427', 'YTMA79-10_185_743_1411', 'YTMA79-10_186_849_1409', 'YTMA79-10_189_1173_1388', 'YTMA79-10_190_1267_1399', 'YTMA79-10_193_1593_1352', 'YTMA79-10_198_1599_1451', 'YTMA79-10_199_1478_1458', 'YTMA79-10_200_1368_1473', 'YTMA79-10_202_1167_1486', 'YTMA79-10_205_849_1514', 'YTMA79-10_207_639_1515', 'YTMA79-10_209_428_1532', 'YTMA79-10_211_336_1623', 'YTMA79-10_214_643_1629', 'YTMA79-10_215_751_1614', 'YTMA79-10_216_864_1616', 'YTMA79-10_218_1071_1586', 'YTMA79-10_221_1375_1570', 'YTMA79-10_222_1480_1568', 'YTMA79-10_223_1591_1559', 'YTMA79-10_224_1704_1551', 'YTMA79-10_228_1593_1670', 'YTMA79-10_229_1493_1670', 'YTMA79-10_236_757_1719', 'YTMA79-10_238_548_1721']\n"
     ]
    }
   ],
   "source": [
    "print(final_filenames)"
   ]
  },
  {
   "cell_type": "code",
   "execution_count": 10,
   "id": "c771d337",
   "metadata": {},
   "outputs": [
    {
     "name": "stdout",
     "output_type": "stream",
     "text": [
      "87\n",
      "3\n"
     ]
    }
   ],
   "source": [
    "# collect features\n",
    "collagen_features = []\n",
    "for file in final_filenames:\n",
    "    file_features = []\n",
    "        \n",
    "    for file_1 in ec_files_1:\n",
    "        if file in file_1:\n",
    "            filename = file_1.split(\"/\")[-1]\n",
    "            flag = -1\n",
    "            slide_features = []\n",
    "            \n",
    "            with open(file_1, newline='') as csvfile:\n",
    "                spamreader = csv.reader(csvfile)\n",
    "                for row in spamreader:\n",
    "                    if flag == -1:\n",
    "                        array = row\n",
    "                        for index in range(0, len(array)):\n",
    "                            slide_features.append(float(array[index]))\n",
    "            file_features.append(slide_features)\n",
    "    \n",
    "    f = [sum(col) / float(len(col)) for col in zip(*file_features)]\n",
    "    collagen_features.append(f)\n",
    "print(len(collagen_features))\n",
    "print(len(collagen_features[0]))"
   ]
  },
  {
   "cell_type": "code",
   "execution_count": 11,
   "id": "3e2471b7",
   "metadata": {},
   "outputs": [
    {
     "name": "stdout",
     "output_type": "stream",
     "text": [
      "[[0.176930606285435, 0.10047847889952152, 0.16838488972508592], [0.14777778777777778, 0.13757397449704142, 0.1489796018367347], [0.1623931723931624, 0.2276923176923077, 0.20246914580246914], [0.07744566217391304, 0.09430439842203547, 0.09079755601226994], [0.18166940443535187, 0.1848184918481848, 0.18634260259259258], [0.12477232329690345, 0.15418503202643172, 0.130879355603272], [0.16926771708283314, 0.07764706882352941, 0.15306123448979592], [0.22448980591836734, 0.22344323344322345, 0.23796792443850268], [0.12831859407079646, 0.07582939388625592, 0.11276949590381426], [0.07533113582781456, 0.14960630921259843, 0.07984497124031008], [0.20934580439252337, 0.1705989210707804, 0.1986970784039088], [0.22678572428571428, 0.13725491196078432, 0.1952941276470588], [0.22281168108753316, 0.14285715285714284, 0.20781894004115226], [0.21413722413721414, 0.13281251, 0.2022867294371152], [0.22774870109947642, 0.07980457026058631, 0.11356046424181696], [0.18487395957983194, 0.07352942176470588, 0.15914787967418545], [0.20969697969696968, 0.13513514513513514, 0.1954137687238285], [0.12191781821917808, 0.2727272827272727, 0.17801048120418847], [0.07520892364902507, 0.06935484870967741, 0.07426509509541], [0.14102565102564102, 0.19637463235649547, 0.156158367771261], [0.19837588006960558, 0.1786407866990291, 0.1950832772482157], [0.1393188954489164, 0.14012739853503184, 0.14227087183310533], [0.13458263350936966, 0.21904762904761904, 0.19057105913678618], [0.2871287228712871, 0.1893687807641196, 0.21614584333333334], [0.15446072904127828, 0.09574469085106382, 0.14709237031927022], [0.1951219612195122, 0.12801014941698352, 0.1319358916276202], [0.2222222322222222, 0.19639279557114228, 0.20256777034236803], [0.20930233558139535, 0.18115943028985507, 0.20245399773006134], [0.162839258434238, 0.10333864275039745, 0.14002733240437157], [0.2146341563414634, 0.18741059655221745, 0.19314286714285714], [0.2793765088009592, 0.1934984620123839, 0.25181951509461425], [0.2339499555930359, 0.10305344511450382, 0.1924242524242424], [0.08089501860585198, 0.06306307306306305, 0.07378130117259551], [0.3682983782983683, 0.2692967509948542, 0.316702829956616], [0.18497110826589594, 0.12634409602150537, 0.14932127696832578], [0.14264991328820115, 0.20098847787479407, 0.15929909403026682], [0.37857143857142855, 0.26956522739130434, 0.311178257734139], [0.14858491566037735, 0.1183206206870229, 0.15004841271055178], [0.18982119294360383, 0.15629743033383914, 0.1735668889808917], [0.17678101263852242, 0.15097691941385435, 0.16511628906976744], [0.19938651306748464, 0.12409813409812409, 0.14907509161044613], [0.14285715285714284, 0.1958762986597938, 0.18820225719101122], [0.15463918525773196, 0.08984376, 0.1458153680672994], [0.1393998163891578, 0.1598173615981735, 0.14393940393939395], [0.14658274381294964, 0.2862903325806452, 0.1750380617503805], [0.1782334484858044, 0.09919572045576407, 0.15126051420168066], [0.1829787334042553, 0.055276391909547744, 0.16367981884109917], [0.10631971260223048, 0.10625910752547306, 0.10829372368198625], [0.09379510379509379, 0.1187648556057007, 0.1072194524588992], [0.10046729971962616, 0.15830116830115828, 0.13310581204778157], [0.15921788709497206, 0.2484076533121019, 0.1898115940893231], [0.1751054952320675, 0.12588653482269502, 0.1506849415068493], [0.18887016177065766, 0.12864078669902912, 0.15449011654490105], [0.21364986163204747, 0.22942644391521197, 0.23865301146412884], [0.14447593067988668, 0.16296297296296297, 0.15096619357487923], [0.17125001, 0.07165110034267912, 0.15090736434574975], [0.1111111211111111, 0.18418260023354563, 0.17860509953817152], [0.12201835862385321, 0.09523810523809523, 0.11899642577060932], [0.19186047511627907, 0.20000001, 0.20194987072423398], [0.18882979723404256, 0.19498290623717218, 0.19756310834638816], [0.20000001, 0.09554141127388535, 0.16071429571428572], [0.19423369740515933, 0.17333334333333333, 0.18996799292422625], [0.1722689175630252, 0.1828978722327791, 0.1782178317821782], [0.09248555913294797, 0.14073072718538565, 0.12423313883435583], [0.25000001, 0.29268293682926827, 0.28187920463087246], [0.21729958805907174, 0.18803419803418803, 0.21313365055299538], [0.3326134009287257, 0.22857143857142856, 0.3035993840219092], [0.11948530411764706, 0.15070243656449553, 0.1441515750741351], [0.12944163436548223, 0.08689249895434462, 0.10169492525423729], [0.048249773481551565, 0.05246253676659529, 0.05299786867237687], [0.1287223923246878, 0.07079647017699114, 0.1185870579394449], [0.23174604174603175, 0.09635417666666667, 0.16510904426791276], [0.24375001, 0.20066890632107023, 0.24151697606786426], [0.19652174913043477, 0.2179930895847751, 0.20236687390532543], [0.14839798639123103, 0.1776061876061776, 0.16025642025641026], [0.2545454645454545, 0.16452992452991452, 0.20352782546811396], [0.21266969325791854, 0.10878662087866109, 0.15151516151515151], [0.14285715285714284, 0.09711287089238844, 0.11993770470404984], [0.21082622082621083, 0.12797620047619046, 0.19013361739979445], [0.14624506928853753, 0.17091837734693877, 0.1610738355033557], [0.06875835445927904, 0.16546763589928057, 0.07678019575851393], [0.24812031075187968, 0.2390852490852391, 0.24281610195402298], [0.24899599393574295, 0.08026756852842809, 0.21617162716171617], [0.18628159844765343, 0.20256411256410256, 0.19434417365824308], [0.07117438722419929, 0.26523298491039426, 0.2030456952791878], [0.20886076949367088, 0.28893906191873586, 0.2732049136777583], [0.18329467357308585, 0.2690513319284603, 0.2374384336453202]]\n"
     ]
    }
   ],
   "source": [
    "print(collagen_features)"
   ]
  },
  {
   "cell_type": "code",
   "execution_count": null,
   "id": "5a390a86",
   "metadata": {},
   "outputs": [],
   "source": []
  },
  {
   "cell_type": "code",
   "execution_count": null,
   "id": "3c86b73a",
   "metadata": {},
   "outputs": [],
   "source": []
  },
  {
   "cell_type": "code",
   "execution_count": 12,
   "id": "83f00907",
   "metadata": {},
   "outputs": [
    {
     "name": "stdout",
     "output_type": "stream",
     "text": [
      "87\n"
     ]
    }
   ],
   "source": [
    "y = []\n",
    "event = []\n",
    "survival_time = []\n",
    "for index in range(0, len(final_censor)):\n",
    "    y.append([final_censor[index], final_days[index]])\n",
    "    event.append(final_censor[index])\n",
    "    survival_time.append(final_days[index])\n",
    "print(len(y))"
   ]
  },
  {
   "cell_type": "code",
   "execution_count": 13,
   "id": "510ffae1",
   "metadata": {},
   "outputs": [
    {
     "name": "stdout",
     "output_type": "stream",
     "text": [
      "87\n",
      "3\n"
     ]
    }
   ],
   "source": [
    "# generate training set for training model\n",
    "features = []\n",
    "for index in range(0, len(final_filenames)):\n",
    "    #features.append(final_til_features[index]+collagen_features[index])\n",
    "    features.append(collagen_features[index])\n",
    "    #features.append(final_til_features[index])\n",
    "print(len(features))\n",
    "print(len(features[0]))"
   ]
  },
  {
   "cell_type": "code",
   "execution_count": 14,
   "id": "8fb55c91",
   "metadata": {},
   "outputs": [],
   "source": [
    "# final training information to be used for training model\n",
    "features = np.array(features)\n",
    "y = np.array(y)\n",
    "event = np.array(event)\n",
    "survival_time = np.array(survival_time)"
   ]
  },
  {
   "cell_type": "code",
   "execution_count": 28,
   "id": "30438eb6",
   "metadata": {},
   "outputs": [
    {
     "name": "stdout",
     "output_type": "stream",
     "text": [
      "0.5861737833246604 0.02790885308882465\n",
      "0.8586956521739131\n"
     ]
    }
   ],
   "source": [
    "# main code for training\n",
    "iter_scores = []\n",
    "max_score = -1\n",
    "dt = dtype=[('Status', '?'), ('Survival_in_days', '<f8')]\n",
    "for iter in range(100):\n",
    "    model_score = []\n",
    "    kf = KFold(n_splits=5, shuffle=True)\n",
    "    for train_index, test_index in kf.split(features):\n",
    "        # get the training and validation data\n",
    "        features_train, features_test = features[train_index], features[test_index]\n",
    "        y_train, y_test = y[train_index], y[test_index]\n",
    "        event_train, survival_time_train = event[train_index], survival_time[train_index]\n",
    "        event_test, survival_time_test = event[test_index], survival_time[test_index]\n",
    "        y_train = np.array([tuple(row) for row in y_train], dtype=dt)\n",
    "        y_test = np.array([tuple(row) for row in y_test], dtype=dt)\n",
    "        \n",
    "        # feature selection\n",
    "        scaler = MinMaxScaler()\n",
    "        features_train = scaler.fit_transform(features_train)\n",
    "        features_test = scaler.transform(features_test)\n",
    "        #select = SelectKBest(score_func=chi2, k=len(features[0])-800)\n",
    "        #features_train_selected = select.fit_transform(features_train, survival_time_train)\n",
    "        #features_test_selected = select.transform(features_test)\n",
    "        features_train_df = pd.DataFrame(features_train)\n",
    "        features_test_df = pd.DataFrame(features_test)\n",
    "        \n",
    "        # fit model\n",
    "        estimator = CoxnetSurvivalAnalysis(l1_ratio=0.99, alpha_min_ratio=0.05)\n",
    "        estimator.fit(features_train_df, y_train)\n",
    "        \n",
    "        # score on validation set\n",
    "        score, _, _, _, _ = concordance_index_censored(event_test, survival_time_test, estimator.predict(features_test_df))\n",
    "        model_score.append(score)\n",
    "        if score > max_score:\n",
    "            max_score = score\n",
    "    \n",
    "    if len(model_score) > 0:\n",
    "        iter_scores.append(np.mean(model_score))\n",
    "        max_score = max(max(model_score), max_score)\n",
    "print(np.mean(iter_scores), np.std(iter_scores))\n",
    "print(max_score)"
   ]
  },
  {
   "cell_type": "code",
   "execution_count": null,
   "id": "7d6950b6",
   "metadata": {},
   "outputs": [],
   "source": [
    "# model to be used for external validation\n",
    "features_train = features\n",
    "y_train = y\n",
    "event_train, survival_time_train = event, survival_time\n",
    "dt = dtype=[('Status', '?'), ('Survival_in_days', '<f8')]\n",
    "y_train = np.array([tuple(row) for row in y_train], dtype=dt)\n",
    "        \n",
    "# feature selection\n",
    "scaler = MinMaxScaler()\n",
    "features_train = scaler.fit_transform(features_train)\n",
    "#select = SelectKBest(score_func=chi2, k=len(features[0])-4)\n",
    "#features_train_selected = select.fit_transform(features_train, survival_time_train)\n",
    "features_train_df = pd.DataFrame(features_train)\n",
    "        \n",
    "# fit model\n",
    "estimator = CoxnetSurvivalAnalysis(l1_ratio=0.99, alpha_min_ratio=0.05)\n",
    "estimator.fit(features_train_df, y_train)"
   ]
  },
  {
   "cell_type": "code",
   "execution_count": null,
   "id": "54e50739",
   "metadata": {},
   "outputs": [],
   "source": [
    "# find prognostic features from model trained above\n",
    "count = 0\n",
    "for index1 in range(0, len(estimator.coef_)):\n",
    "    flag = -1\n",
    "    for index2 in range(0, len(estimator.coef_[index1])):\n",
    "        if estimator.coef_[index1][index2] > 0:\n",
    "            flag = 1\n",
    "            print(index1)\n",
    "            print(estimator.coef_[index1][index2])\n",
    "            break\n",
    "    if flag == 1:\n",
    "        count += 1\n",
    "print()\n",
    "print(\"Prognostic features count = \" + str(count))"
   ]
  },
  {
   "cell_type": "code",
   "execution_count": null,
   "id": "193a41c1",
   "metadata": {},
   "outputs": [],
   "source": []
  },
  {
   "cell_type": "code",
   "execution_count": null,
   "id": "7d5cc6e4",
   "metadata": {},
   "outputs": [],
   "source": []
  },
  {
   "cell_type": "code",
   "execution_count": null,
   "id": "0f622393",
   "metadata": {},
   "outputs": [],
   "source": [
    "oc_files = (glob.glob(\"../../tam_results/macrophage_tcga_final/*\"))\n",
    "print(len(oc_files))"
   ]
  },
  {
   "cell_type": "code",
   "execution_count": null,
   "id": "d6f7c780",
   "metadata": {},
   "outputs": [],
   "source": [
    "test_tam_features = []\n",
    "for file in oc_files:\n",
    "    filename = file.split(\"/\")[-1]\n",
    "    flag = -1\n",
    "    file_features = []\n",
    "    with open(file, newline='') as csvfile:\n",
    "        spamreader = csv.reader(csvfile)\n",
    "        for row in spamreader:\n",
    "            if flag == -1:\n",
    "                array = row\n",
    "                for index in range(0, len(array)):\n",
    "                    file_features.append(float(array[index]))\n",
    "    test_tam_features.append(file_features)\n",
    "print(test_tam_features)"
   ]
  },
  {
   "cell_type": "code",
   "execution_count": null,
   "id": "57a6746f",
   "metadata": {},
   "outputs": [],
   "source": [
    "# Sepideh OC Spatil features\n",
    "test_censor = []\n",
    "test_days = []\n",
    "test_filenames = []\n",
    "flag = -1\n",
    "with open(\"../../DATA_OC.csv\", newline='', encoding = \"ISO-8859-1\") as csvfile:\n",
    "    spamreader = csv.reader(csvfile)\n",
    "    for row in spamreader:\n",
    "        if flag == -1:\n",
    "            flag = 1\n",
    "            print(row)\n",
    "        else:\n",
    "            array = row\n",
    "            #if int(array[23]) > 1800:\n",
    "            #    array[20] = 0\n",
    "                \n",
    "            test_filenames.append(array[0])\n",
    "            test_censor.append(bool(int(array[20])))\n",
    "            test_days.append(int(array[23]))\n",
    "\n",
    "print(len(test_filenames))\n",
    "print(len(test_censor))\n",
    "print(len(test_days))"
   ]
  },
  {
   "cell_type": "code",
   "execution_count": null,
   "id": "0a6d0598",
   "metadata": {},
   "outputs": [],
   "source": [
    "test_y = []\n",
    "test_event = []\n",
    "test_survival_time = []\n",
    "for file in oc_files:\n",
    "    count = 0\n",
    "    filename1 = file.split(\"/\")[-1][:-4]\n",
    "    for filename in test_filenames:\n",
    "        filename2 = filename\n",
    "        if filename1 == filename2:\n",
    "            test_y.append([test_censor[count], test_days[count]])\n",
    "            test_event.append(test_censor[count])\n",
    "            test_survival_time.append(test_days[count])\n",
    "        count += 1\n",
    "print(len(test_y))\n",
    "print(len(test_event))\n",
    "print(len(test_survival_time))"
   ]
  },
  {
   "cell_type": "code",
   "execution_count": null,
   "id": "af4ffd1a",
   "metadata": {},
   "outputs": [],
   "source": [
    "# generate training set for training model\n",
    "test_features = []\n",
    "for index in range(0, len(oc_files)):\n",
    "    #features.append(final_til_features[index]+collagen_features[index])\n",
    "    test_features.append(test_tam_features[index])\n",
    "    #features.append(final_til_features[index])\n",
    "print(len(test_features))\n",
    "print(len(test_features[0]))"
   ]
  },
  {
   "cell_type": "code",
   "execution_count": null,
   "id": "691df8d0",
   "metadata": {},
   "outputs": [],
   "source": [
    "# final training information to be used for training model\n",
    "test_features = np.array(test_features)\n",
    "test_y = np.array(test_y)\n",
    "test_event = np.array(test_event)\n",
    "test_survival_time = np.array(test_survival_time)"
   ]
  },
  {
   "cell_type": "code",
   "execution_count": null,
   "id": "b3fb7c6f",
   "metadata": {},
   "outputs": [],
   "source": [
    "# run on test set\n",
    "group = []\n",
    "features_train = test_features\n",
    "features_test = features\n",
    "y_train = test_y\n",
    "event_train, survival_time_train = test_event, test_survival_time\n",
    "dt = dtype=[('Status', '?'), ('Survival_in_days', '<f8')]\n",
    "y_train = np.array([tuple(row) for row in y_train], dtype=dt)\n",
    "scaler = MinMaxScaler()\n",
    "features_train = scaler.fit_transform(features_train)\n",
    "features_test = scaler.transform(features_test)\n",
    "#select = SelectKBest(score_func=chi2, k=len(features[0])-4)\n",
    "#features_train_selected = select.fit_transform(features_train, survival_time_train)\n",
    "#features_test_selected = select.transform(features_test)\n",
    "features_train_df = pd.DataFrame(features_train)\n",
    "features_test_df = pd.DataFrame(features_test)\n",
    "        \n",
    "# fit model\n",
    "estimator = CoxnetSurvivalAnalysis(l1_ratio=0.99, alpha_min_ratio=0.05)\n",
    "estimator.fit(features_train_df, y_train)\n",
    "\n",
    "score, _, _, _, _ = concordance_index_censored(event, survival_time, estimator.predict(features_test_df))\n",
    "print(score)\n",
    "\n",
    "# get risk scores\n",
    "train_risk_scores = estimator.predict(features_train_df)\n",
    "test_risk_scores = estimator.predict(features_test_df)\n",
    "\n",
    "median = np.median(train_risk_scores)\n",
    "count_low = 0\n",
    "count_high = 0\n",
    "for index in range(0, len(test_risk_scores)):\n",
    "    if test_risk_scores[index] > median:\n",
    "        count_high += 1\n",
    "        group.append(1)\n",
    "    else:\n",
    "        count_low += 1\n",
    "        group.append(0)\n",
    "print(count_low)\n",
    "print(count_high)"
   ]
  },
  {
   "cell_type": "code",
   "execution_count": null,
   "id": "75956d12",
   "metadata": {},
   "outputs": [],
   "source": [
    "a = []\n",
    "for index in range(0, len(event)):\n",
    "    if event[index] == False:\n",
    "        a.append(0)\n",
    "    else:\n",
    "        a.append(1)\n",
    "print(*a, sep=\"; \")"
   ]
  },
  {
   "cell_type": "code",
   "execution_count": null,
   "id": "137bc8bc",
   "metadata": {},
   "outputs": [],
   "source": [
    "print(*survival_time, sep=\"; \")"
   ]
  },
  {
   "cell_type": "code",
   "execution_count": null,
   "id": "833aaec6",
   "metadata": {},
   "outputs": [],
   "source": [
    "print(*group, sep=\"; \")"
   ]
  },
  {
   "cell_type": "code",
   "execution_count": null,
   "id": "fe8f7391",
   "metadata": {},
   "outputs": [],
   "source": []
  }
 ],
 "metadata": {
  "kernelspec": {
   "display_name": "Python 3",
   "language": "python",
   "name": "python3"
  },
  "language_info": {
   "codemirror_mode": {
    "name": "ipython",
    "version": 3
   },
   "file_extension": ".py",
   "mimetype": "text/x-python",
   "name": "python",
   "nbconvert_exporter": "python",
   "pygments_lexer": "ipython3",
   "version": "3.8.8"
  }
 },
 "nbformat": 4,
 "nbformat_minor": 5
}
